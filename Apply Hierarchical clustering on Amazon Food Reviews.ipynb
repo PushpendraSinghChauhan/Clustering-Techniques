{
 "cells": [
  {
   "cell_type": "markdown",
   "metadata": {},
   "source": [
    "# OBJECTIVE :- Apply Hierarchical clustering on Amazon Food Reviews"
   ]
  },
  {
   "cell_type": "code",
   "execution_count": 2,
   "metadata": {},
   "outputs": [],
   "source": [
    "# Importing libraries\n",
    "import warnings\n",
    "warnings.filterwarnings(\"ignore\")\n",
    "\n",
    "import sqlite3\n",
    "import pandas as pd\n",
    "import numpy as np\n",
    "import nltk\n",
    "import string\n",
    "import matplotlib.pyplot as plt\n",
    "%matplotlib inline\n",
    "import seaborn as sns\n",
    "from sklearn.feature_extraction.text import TfidfTransformer\n",
    "from sklearn.feature_extraction.text import TfidfVectorizer\n",
    "\n",
    "from sklearn.feature_extraction.text import CountVectorizer\n",
    "from nltk.stem.porter import PorterStemmer\n",
    "\n",
    "import re\n",
    "\n",
    "import string\n",
    "from nltk.corpus import stopwords\n",
    "from nltk.stem import PorterStemmer\n",
    "from nltk.stem.wordnet import WordNetLemmatizer\n",
    "\n",
    "from gensim.models import Word2Vec\n",
    "from gensim.models import KeyedVectors\n",
    "import pickle"
   ]
  },
  {
   "cell_type": "markdown",
   "metadata": {},
   "source": [
    "# Loading Data"
   ]
  },
  {
   "cell_type": "code",
   "execution_count": 3,
   "metadata": {},
   "outputs": [
    {
     "name": "stdout",
     "output_type": "stream",
     "text": [
      "(525814, 10)\n"
     ]
    },
    {
     "data": {
      "text/html": [
       "<div>\n",
       "<style scoped>\n",
       "    .dataframe tbody tr th:only-of-type {\n",
       "        vertical-align: middle;\n",
       "    }\n",
       "\n",
       "    .dataframe tbody tr th {\n",
       "        vertical-align: top;\n",
       "    }\n",
       "\n",
       "    .dataframe thead th {\n",
       "        text-align: right;\n",
       "    }\n",
       "</style>\n",
       "<table border=\"1\" class=\"dataframe\">\n",
       "  <thead>\n",
       "    <tr style=\"text-align: right;\">\n",
       "      <th></th>\n",
       "      <th>Id</th>\n",
       "      <th>ProductId</th>\n",
       "      <th>UserId</th>\n",
       "      <th>ProfileName</th>\n",
       "      <th>HelpfulnessNumerator</th>\n",
       "      <th>HelpfulnessDenominator</th>\n",
       "      <th>Score</th>\n",
       "      <th>Time</th>\n",
       "      <th>Summary</th>\n",
       "      <th>Text</th>\n",
       "    </tr>\n",
       "  </thead>\n",
       "  <tbody>\n",
       "    <tr>\n",
       "      <th>0</th>\n",
       "      <td>1</td>\n",
       "      <td>B001E4KFG0</td>\n",
       "      <td>A3SGXH7AUHU8GW</td>\n",
       "      <td>delmartian</td>\n",
       "      <td>1</td>\n",
       "      <td>1</td>\n",
       "      <td>positive</td>\n",
       "      <td>1303862400</td>\n",
       "      <td>Good Quality Dog Food</td>\n",
       "      <td>I have bought several of the Vitality canned d...</td>\n",
       "    </tr>\n",
       "    <tr>\n",
       "      <th>1</th>\n",
       "      <td>2</td>\n",
       "      <td>B00813GRG4</td>\n",
       "      <td>A1D87F6ZCVE5NK</td>\n",
       "      <td>dll pa</td>\n",
       "      <td>0</td>\n",
       "      <td>0</td>\n",
       "      <td>negative</td>\n",
       "      <td>1346976000</td>\n",
       "      <td>Not as Advertised</td>\n",
       "      <td>Product arrived labeled as Jumbo Salted Peanut...</td>\n",
       "    </tr>\n",
       "    <tr>\n",
       "      <th>2</th>\n",
       "      <td>3</td>\n",
       "      <td>B000LQOCH0</td>\n",
       "      <td>ABXLMWJIXXAIN</td>\n",
       "      <td>Natalia Corres \"Natalia Corres\"</td>\n",
       "      <td>1</td>\n",
       "      <td>1</td>\n",
       "      <td>positive</td>\n",
       "      <td>1219017600</td>\n",
       "      <td>\"Delight\" says it all</td>\n",
       "      <td>This is a confection that has been around a fe...</td>\n",
       "    </tr>\n",
       "    <tr>\n",
       "      <th>3</th>\n",
       "      <td>4</td>\n",
       "      <td>B000UA0QIQ</td>\n",
       "      <td>A395BORC6FGVXV</td>\n",
       "      <td>Karl</td>\n",
       "      <td>3</td>\n",
       "      <td>3</td>\n",
       "      <td>negative</td>\n",
       "      <td>1307923200</td>\n",
       "      <td>Cough Medicine</td>\n",
       "      <td>If you are looking for the secret ingredient i...</td>\n",
       "    </tr>\n",
       "    <tr>\n",
       "      <th>4</th>\n",
       "      <td>5</td>\n",
       "      <td>B006K2ZZ7K</td>\n",
       "      <td>A1UQRSCLF8GW1T</td>\n",
       "      <td>Michael D. Bigham \"M. Wassir\"</td>\n",
       "      <td>0</td>\n",
       "      <td>0</td>\n",
       "      <td>positive</td>\n",
       "      <td>1350777600</td>\n",
       "      <td>Great taffy</td>\n",
       "      <td>Great taffy at a great price.  There was a wid...</td>\n",
       "    </tr>\n",
       "  </tbody>\n",
       "</table>\n",
       "</div>"
      ],
      "text/plain": [
       "   Id   ProductId          UserId                      ProfileName  \\\n",
       "0   1  B001E4KFG0  A3SGXH7AUHU8GW                       delmartian   \n",
       "1   2  B00813GRG4  A1D87F6ZCVE5NK                           dll pa   \n",
       "2   3  B000LQOCH0   ABXLMWJIXXAIN  Natalia Corres \"Natalia Corres\"   \n",
       "3   4  B000UA0QIQ  A395BORC6FGVXV                             Karl   \n",
       "4   5  B006K2ZZ7K  A1UQRSCLF8GW1T    Michael D. Bigham \"M. Wassir\"   \n",
       "\n",
       "   HelpfulnessNumerator  HelpfulnessDenominator     Score        Time  \\\n",
       "0                     1                       1  positive  1303862400   \n",
       "1                     0                       0  negative  1346976000   \n",
       "2                     1                       1  positive  1219017600   \n",
       "3                     3                       3  negative  1307923200   \n",
       "4                     0                       0  positive  1350777600   \n",
       "\n",
       "                 Summary                                               Text  \n",
       "0  Good Quality Dog Food  I have bought several of the Vitality canned d...  \n",
       "1      Not as Advertised  Product arrived labeled as Jumbo Salted Peanut...  \n",
       "2  \"Delight\" says it all  This is a confection that has been around a fe...  \n",
       "3         Cough Medicine  If you are looking for the secret ingredient i...  \n",
       "4            Great taffy  Great taffy at a great price.  There was a wid...  "
      ]
     },
     "execution_count": 3,
     "metadata": {},
     "output_type": "execute_result"
    }
   ],
   "source": [
    "# using the SQLite Table to read data.\n",
    "con1 = sqlite3.connect('database.sqlite')\n",
    "\n",
    "# Eliminating neutral reviews i.e. those reviews with Score = 3\n",
    "filtered_data = pd.read_sql_query(\" SELECT * FROM Reviews WHERE Score != 3 \", con1)\n",
    "\n",
    "# Give reviews with Score>3 a positive rating, and reviews with a score<3 a negative rating.\n",
    "def polarity(x):\n",
    "    if x < 3:\n",
    "        return 'negative'\n",
    "    return 'positive'\n",
    "\n",
    "# Applying polarity function on Score column of filtered_data\n",
    "filtered_data['Score'] = filtered_data['Score'].map(polarity)\n",
    "\n",
    "print(filtered_data.shape)\n",
    "filtered_data.head()"
   ]
  },
  {
   "cell_type": "markdown",
   "metadata": {},
   "source": [
    "# Data Cleaning: Deduplication"
   ]
  },
  {
   "cell_type": "code",
   "execution_count": 4,
   "metadata": {},
   "outputs": [
    {
     "name": "stdout",
     "output_type": "stream",
     "text": [
      "(364173, 10)\n"
     ]
    },
    {
     "data": {
      "text/plain": [
       "69.25890143662969"
      ]
     },
     "execution_count": 4,
     "metadata": {},
     "output_type": "execute_result"
    }
   ],
   "source": [
    "#Sorting data according to ProductId in ascending order\n",
    "sorted_data=filtered_data.sort_values('ProductId', axis=0, ascending=True, inplace=False, kind='quicksort', na_position='last')\n",
    "\n",
    "#Deduplication of entries\n",
    "final=sorted_data.drop_duplicates(subset={\"UserId\",\"ProfileName\",\"Time\",\"Text\"}, keep='first', inplace=False)\n",
    "print(final.shape)\n",
    "\n",
    "#Checking to see how much % of data still remains\n",
    "((final.shape[0]*1.0)/(filtered_data.shape[0]*1.0)*100)"
   ]
  },
  {
   "cell_type": "code",
   "execution_count": 5,
   "metadata": {},
   "outputs": [
    {
     "name": "stdout",
     "output_type": "stream",
     "text": [
      "(364171, 10)\n"
     ]
    },
    {
     "data": {
      "text/html": [
       "<div>\n",
       "<style scoped>\n",
       "    .dataframe tbody tr th:only-of-type {\n",
       "        vertical-align: middle;\n",
       "    }\n",
       "\n",
       "    .dataframe tbody tr th {\n",
       "        vertical-align: top;\n",
       "    }\n",
       "\n",
       "    .dataframe thead th {\n",
       "        text-align: right;\n",
       "    }\n",
       "</style>\n",
       "<table border=\"1\" class=\"dataframe\">\n",
       "  <thead>\n",
       "    <tr style=\"text-align: right;\">\n",
       "      <th></th>\n",
       "      <th>Id</th>\n",
       "      <th>ProductId</th>\n",
       "      <th>UserId</th>\n",
       "      <th>ProfileName</th>\n",
       "      <th>HelpfulnessNumerator</th>\n",
       "      <th>HelpfulnessDenominator</th>\n",
       "      <th>Score</th>\n",
       "      <th>Time</th>\n",
       "      <th>Summary</th>\n",
       "      <th>Text</th>\n",
       "    </tr>\n",
       "  </thead>\n",
       "  <tbody>\n",
       "    <tr>\n",
       "      <th>138683</th>\n",
       "      <td>150501</td>\n",
       "      <td>0006641040</td>\n",
       "      <td>AJ46FKXOVC7NR</td>\n",
       "      <td>Nicholas A Mesiano</td>\n",
       "      <td>2</td>\n",
       "      <td>2</td>\n",
       "      <td>positive</td>\n",
       "      <td>940809600</td>\n",
       "      <td>This whole series is great way to spend time w...</td>\n",
       "      <td>I can remember seeing the show when it aired o...</td>\n",
       "    </tr>\n",
       "    <tr>\n",
       "      <th>138676</th>\n",
       "      <td>150493</td>\n",
       "      <td>0006641040</td>\n",
       "      <td>AMX0PJKV4PPNJ</td>\n",
       "      <td>E. R. Bird \"Ramseelbird\"</td>\n",
       "      <td>71</td>\n",
       "      <td>72</td>\n",
       "      <td>positive</td>\n",
       "      <td>1096416000</td>\n",
       "      <td>Read it once. Read it twice. Reading Chicken S...</td>\n",
       "      <td>These days, when a person says, \"chicken soup\"...</td>\n",
       "    </tr>\n",
       "    <tr>\n",
       "      <th>138682</th>\n",
       "      <td>150500</td>\n",
       "      <td>0006641040</td>\n",
       "      <td>A1IJKK6Q1GTEAY</td>\n",
       "      <td>A Customer</td>\n",
       "      <td>2</td>\n",
       "      <td>2</td>\n",
       "      <td>positive</td>\n",
       "      <td>1009324800</td>\n",
       "      <td>It Was a favorite!</td>\n",
       "      <td>This was a favorite book of mine when I was a ...</td>\n",
       "    </tr>\n",
       "    <tr>\n",
       "      <th>138681</th>\n",
       "      <td>150499</td>\n",
       "      <td>0006641040</td>\n",
       "      <td>A3E7R866M94L0C</td>\n",
       "      <td>L. Barker \"simienwolf\"</td>\n",
       "      <td>2</td>\n",
       "      <td>2</td>\n",
       "      <td>positive</td>\n",
       "      <td>1065830400</td>\n",
       "      <td>Can't explain why</td>\n",
       "      <td>This book has been a favorite of mine since I ...</td>\n",
       "    </tr>\n",
       "    <tr>\n",
       "      <th>476617</th>\n",
       "      <td>515426</td>\n",
       "      <td>141278509X</td>\n",
       "      <td>AB1A5EGHHVA9M</td>\n",
       "      <td>CHelmic</td>\n",
       "      <td>1</td>\n",
       "      <td>1</td>\n",
       "      <td>positive</td>\n",
       "      <td>1332547200</td>\n",
       "      <td>The best drink mix</td>\n",
       "      <td>This product by Archer Farms is the best drink...</td>\n",
       "    </tr>\n",
       "    <tr>\n",
       "      <th>22621</th>\n",
       "      <td>24751</td>\n",
       "      <td>2734888454</td>\n",
       "      <td>A1C298ITT645B6</td>\n",
       "      <td>Hugh G. Pritchard</td>\n",
       "      <td>0</td>\n",
       "      <td>0</td>\n",
       "      <td>positive</td>\n",
       "      <td>1195948800</td>\n",
       "      <td>Dog Lover Delites</td>\n",
       "      <td>Our dogs just love them.  I saw them in a pet ...</td>\n",
       "    </tr>\n",
       "    <tr>\n",
       "      <th>22620</th>\n",
       "      <td>24750</td>\n",
       "      <td>2734888454</td>\n",
       "      <td>A13ISQV0U9GZIC</td>\n",
       "      <td>Sandikaye</td>\n",
       "      <td>1</td>\n",
       "      <td>1</td>\n",
       "      <td>negative</td>\n",
       "      <td>1192060800</td>\n",
       "      <td>made in china</td>\n",
       "      <td>My dogs loves this chicken but its a product f...</td>\n",
       "    </tr>\n",
       "    <tr>\n",
       "      <th>284375</th>\n",
       "      <td>308077</td>\n",
       "      <td>2841233731</td>\n",
       "      <td>A3QD68O22M2XHQ</td>\n",
       "      <td>LABRNTH</td>\n",
       "      <td>0</td>\n",
       "      <td>0</td>\n",
       "      <td>positive</td>\n",
       "      <td>1345852800</td>\n",
       "      <td>Great recipe book for my babycook</td>\n",
       "      <td>This book is easy to read and the ingredients ...</td>\n",
       "    </tr>\n",
       "    <tr>\n",
       "      <th>157850</th>\n",
       "      <td>171161</td>\n",
       "      <td>7310172001</td>\n",
       "      <td>AFXMWPNS1BLU4</td>\n",
       "      <td>H. Sandler</td>\n",
       "      <td>0</td>\n",
       "      <td>0</td>\n",
       "      <td>positive</td>\n",
       "      <td>1229385600</td>\n",
       "      <td>Excellent treats</td>\n",
       "      <td>I have been feeding my greyhounds these treats...</td>\n",
       "    </tr>\n",
       "    <tr>\n",
       "      <th>157849</th>\n",
       "      <td>171160</td>\n",
       "      <td>7310172001</td>\n",
       "      <td>A74C7IARQEM1R</td>\n",
       "      <td>stucker</td>\n",
       "      <td>0</td>\n",
       "      <td>0</td>\n",
       "      <td>positive</td>\n",
       "      <td>1230076800</td>\n",
       "      <td>Sophie's Treats</td>\n",
       "      <td>This is one product that my welsh terrier can ...</td>\n",
       "    </tr>\n",
       "    <tr>\n",
       "      <th>157833</th>\n",
       "      <td>171144</td>\n",
       "      <td>7310172001</td>\n",
       "      <td>A1V5MY8V9AWUQB</td>\n",
       "      <td>Cheryl Sapper \"champagne girl\"</td>\n",
       "      <td>0</td>\n",
       "      <td>0</td>\n",
       "      <td>positive</td>\n",
       "      <td>1244764800</td>\n",
       "      <td>THE BEST healthy dog treat!</td>\n",
       "      <td>This is the ONLY dog treat that my Lhasa Apso ...</td>\n",
       "    </tr>\n",
       "    <tr>\n",
       "      <th>157832</th>\n",
       "      <td>171143</td>\n",
       "      <td>7310172001</td>\n",
       "      <td>A2SWO60IW01VPX</td>\n",
       "      <td>Sam</td>\n",
       "      <td>0</td>\n",
       "      <td>0</td>\n",
       "      <td>positive</td>\n",
       "      <td>1252022400</td>\n",
       "      <td>My Alaskan Malamute Loves Them!!</td>\n",
       "      <td>These liver treas are phenomenal. When i recei...</td>\n",
       "    </tr>\n",
       "    <tr>\n",
       "      <th>157837</th>\n",
       "      <td>171148</td>\n",
       "      <td>7310172001</td>\n",
       "      <td>A3TFTWTG2CC1GA</td>\n",
       "      <td>J. Umphress</td>\n",
       "      <td>0</td>\n",
       "      <td>0</td>\n",
       "      <td>positive</td>\n",
       "      <td>1240272000</td>\n",
       "      <td>Best treat ever!</td>\n",
       "      <td>This was the only treat my dog liked during ob...</td>\n",
       "    </tr>\n",
       "    <tr>\n",
       "      <th>157831</th>\n",
       "      <td>171142</td>\n",
       "      <td>7310172001</td>\n",
       "      <td>A2ZO1AYFVQYG44</td>\n",
       "      <td>Cindy Rellie \"Rellie\"</td>\n",
       "      <td>0</td>\n",
       "      <td>0</td>\n",
       "      <td>positive</td>\n",
       "      <td>1254960000</td>\n",
       "      <td>my 12 year old maltese has always loved these</td>\n",
       "      <td>No waste , even if she is having a  day when s...</td>\n",
       "    </tr>\n",
       "    <tr>\n",
       "      <th>157830</th>\n",
       "      <td>171141</td>\n",
       "      <td>7310172001</td>\n",
       "      <td>AZ40270J4JBZN</td>\n",
       "      <td>Zhinka Chunmee \"gamer from way back in the 70's\"</td>\n",
       "      <td>0</td>\n",
       "      <td>0</td>\n",
       "      <td>positive</td>\n",
       "      <td>1264291200</td>\n",
       "      <td>Dogs, Cats, Ferrets all love this</td>\n",
       "      <td>I wanted a treat that was accepted and well li...</td>\n",
       "    </tr>\n",
       "    <tr>\n",
       "      <th>157829</th>\n",
       "      <td>171140</td>\n",
       "      <td>7310172001</td>\n",
       "      <td>ADXXVGRCGQQUO</td>\n",
       "      <td>Richard Pearlstein</td>\n",
       "      <td>0</td>\n",
       "      <td>0</td>\n",
       "      <td>positive</td>\n",
       "      <td>1264377600</td>\n",
       "      <td>5 snouts!</td>\n",
       "      <td>My Westie loves these things!  She loves anyth...</td>\n",
       "    </tr>\n",
       "    <tr>\n",
       "      <th>157828</th>\n",
       "      <td>171139</td>\n",
       "      <td>7310172001</td>\n",
       "      <td>A13MS1JQG2ADOJ</td>\n",
       "      <td>C. Perrone</td>\n",
       "      <td>0</td>\n",
       "      <td>0</td>\n",
       "      <td>positive</td>\n",
       "      <td>1265760000</td>\n",
       "      <td>Best dog treat ever</td>\n",
       "      <td>This is the only dog treat that my terrier wil...</td>\n",
       "    </tr>\n",
       "    <tr>\n",
       "      <th>157827</th>\n",
       "      <td>171138</td>\n",
       "      <td>7310172001</td>\n",
       "      <td>A13LAE0YTXA11B</td>\n",
       "      <td>Dita Vyslouzilova \"dita\"</td>\n",
       "      <td>0</td>\n",
       "      <td>0</td>\n",
       "      <td>positive</td>\n",
       "      <td>1269216000</td>\n",
       "      <td>Great for puppy training</td>\n",
       "      <td>New puppy loves this, only treat he will pay a...</td>\n",
       "    </tr>\n",
       "    <tr>\n",
       "      <th>157848</th>\n",
       "      <td>171159</td>\n",
       "      <td>7310172001</td>\n",
       "      <td>A16GY2RCF410DT</td>\n",
       "      <td>LB</td>\n",
       "      <td>0</td>\n",
       "      <td>0</td>\n",
       "      <td>positive</td>\n",
       "      <td>1231718400</td>\n",
       "      <td>Great!</td>\n",
       "      <td>My dog loves these treats!  We started using t...</td>\n",
       "    </tr>\n",
       "    <tr>\n",
       "      <th>157834</th>\n",
       "      <td>171145</td>\n",
       "      <td>7310172001</td>\n",
       "      <td>A1L8DNQYY69L2Z</td>\n",
       "      <td>R. Flores</td>\n",
       "      <td>0</td>\n",
       "      <td>0</td>\n",
       "      <td>positive</td>\n",
       "      <td>1243728000</td>\n",
       "      <td>Terrific Treats</td>\n",
       "      <td>This is a great treat which all three of my do...</td>\n",
       "    </tr>\n",
       "  </tbody>\n",
       "</table>\n",
       "</div>"
      ],
      "text/plain": [
       "            Id   ProductId          UserId  \\\n",
       "138683  150501  0006641040   AJ46FKXOVC7NR   \n",
       "138676  150493  0006641040   AMX0PJKV4PPNJ   \n",
       "138682  150500  0006641040  A1IJKK6Q1GTEAY   \n",
       "138681  150499  0006641040  A3E7R866M94L0C   \n",
       "476617  515426  141278509X   AB1A5EGHHVA9M   \n",
       "22621    24751  2734888454  A1C298ITT645B6   \n",
       "22620    24750  2734888454  A13ISQV0U9GZIC   \n",
       "284375  308077  2841233731  A3QD68O22M2XHQ   \n",
       "157850  171161  7310172001   AFXMWPNS1BLU4   \n",
       "157849  171160  7310172001   A74C7IARQEM1R   \n",
       "157833  171144  7310172001  A1V5MY8V9AWUQB   \n",
       "157832  171143  7310172001  A2SWO60IW01VPX   \n",
       "157837  171148  7310172001  A3TFTWTG2CC1GA   \n",
       "157831  171142  7310172001  A2ZO1AYFVQYG44   \n",
       "157830  171141  7310172001   AZ40270J4JBZN   \n",
       "157829  171140  7310172001   ADXXVGRCGQQUO   \n",
       "157828  171139  7310172001  A13MS1JQG2ADOJ   \n",
       "157827  171138  7310172001  A13LAE0YTXA11B   \n",
       "157848  171159  7310172001  A16GY2RCF410DT   \n",
       "157834  171145  7310172001  A1L8DNQYY69L2Z   \n",
       "\n",
       "                                             ProfileName  \\\n",
       "138683                                Nicholas A Mesiano   \n",
       "138676                          E. R. Bird \"Ramseelbird\"   \n",
       "138682                                        A Customer   \n",
       "138681                            L. Barker \"simienwolf\"   \n",
       "476617                                           CHelmic   \n",
       "22621                                  Hugh G. Pritchard   \n",
       "22620                                          Sandikaye   \n",
       "284375                                           LABRNTH   \n",
       "157850                                        H. Sandler   \n",
       "157849                                           stucker   \n",
       "157833                    Cheryl Sapper \"champagne girl\"   \n",
       "157832                                               Sam   \n",
       "157837                                       J. Umphress   \n",
       "157831                             Cindy Rellie \"Rellie\"   \n",
       "157830  Zhinka Chunmee \"gamer from way back in the 70's\"   \n",
       "157829                                Richard Pearlstein   \n",
       "157828                                        C. Perrone   \n",
       "157827                          Dita Vyslouzilova \"dita\"   \n",
       "157848                                                LB   \n",
       "157834                                         R. Flores   \n",
       "\n",
       "        HelpfulnessNumerator  HelpfulnessDenominator     Score        Time  \\\n",
       "138683                     2                       2  positive   940809600   \n",
       "138676                    71                      72  positive  1096416000   \n",
       "138682                     2                       2  positive  1009324800   \n",
       "138681                     2                       2  positive  1065830400   \n",
       "476617                     1                       1  positive  1332547200   \n",
       "22621                      0                       0  positive  1195948800   \n",
       "22620                      1                       1  negative  1192060800   \n",
       "284375                     0                       0  positive  1345852800   \n",
       "157850                     0                       0  positive  1229385600   \n",
       "157849                     0                       0  positive  1230076800   \n",
       "157833                     0                       0  positive  1244764800   \n",
       "157832                     0                       0  positive  1252022400   \n",
       "157837                     0                       0  positive  1240272000   \n",
       "157831                     0                       0  positive  1254960000   \n",
       "157830                     0                       0  positive  1264291200   \n",
       "157829                     0                       0  positive  1264377600   \n",
       "157828                     0                       0  positive  1265760000   \n",
       "157827                     0                       0  positive  1269216000   \n",
       "157848                     0                       0  positive  1231718400   \n",
       "157834                     0                       0  positive  1243728000   \n",
       "\n",
       "                                                  Summary  \\\n",
       "138683  This whole series is great way to spend time w...   \n",
       "138676  Read it once. Read it twice. Reading Chicken S...   \n",
       "138682                                 It Was a favorite!   \n",
       "138681                                  Can't explain why   \n",
       "476617                                 The best drink mix   \n",
       "22621                                   Dog Lover Delites   \n",
       "22620                                       made in china   \n",
       "284375                  Great recipe book for my babycook   \n",
       "157850                                   Excellent treats   \n",
       "157849                                    Sophie's Treats   \n",
       "157833                        THE BEST healthy dog treat!   \n",
       "157832                   My Alaskan Malamute Loves Them!!   \n",
       "157837                                   Best treat ever!   \n",
       "157831      my 12 year old maltese has always loved these   \n",
       "157830                  Dogs, Cats, Ferrets all love this   \n",
       "157829                                          5 snouts!   \n",
       "157828                                Best dog treat ever   \n",
       "157827                           Great for puppy training   \n",
       "157848                                             Great!   \n",
       "157834                                    Terrific Treats   \n",
       "\n",
       "                                                     Text  \n",
       "138683  I can remember seeing the show when it aired o...  \n",
       "138676  These days, when a person says, \"chicken soup\"...  \n",
       "138682  This was a favorite book of mine when I was a ...  \n",
       "138681  This book has been a favorite of mine since I ...  \n",
       "476617  This product by Archer Farms is the best drink...  \n",
       "22621   Our dogs just love them.  I saw them in a pet ...  \n",
       "22620   My dogs loves this chicken but its a product f...  \n",
       "284375  This book is easy to read and the ingredients ...  \n",
       "157850  I have been feeding my greyhounds these treats...  \n",
       "157849  This is one product that my welsh terrier can ...  \n",
       "157833  This is the ONLY dog treat that my Lhasa Apso ...  \n",
       "157832  These liver treas are phenomenal. When i recei...  \n",
       "157837  This was the only treat my dog liked during ob...  \n",
       "157831  No waste , even if she is having a  day when s...  \n",
       "157830  I wanted a treat that was accepted and well li...  \n",
       "157829  My Westie loves these things!  She loves anyth...  \n",
       "157828  This is the only dog treat that my terrier wil...  \n",
       "157827  New puppy loves this, only treat he will pay a...  \n",
       "157848  My dog loves these treats!  We started using t...  \n",
       "157834  This is a great treat which all three of my do...  "
      ]
     },
     "execution_count": 5,
     "metadata": {},
     "output_type": "execute_result"
    }
   ],
   "source": [
    "# Removing rows where HelpfulnessNumerator is greater than HelpfulnessDenominator\n",
    "final = final[final.HelpfulnessNumerator <= final.HelpfulnessDenominator]\n",
    "\n",
    "print(final.shape)\n",
    "final[30:50]"
   ]
  },
  {
   "cell_type": "markdown",
   "metadata": {},
   "source": [
    "OBSERVATION :- Here books with ProductId - 0006641040 and 2841233731 are also there so we have to remove all these rows with these ProductIds from the data"
   ]
  },
  {
   "cell_type": "code",
   "execution_count": 6,
   "metadata": {},
   "outputs": [
    {
     "data": {
      "text/plain": [
       "(364136, 10)"
      ]
     },
     "execution_count": 6,
     "metadata": {},
     "output_type": "execute_result"
    }
   ],
   "source": [
    "final = final[final['ProductId'] != '2841233731']\n",
    "final = final[final['ProductId'] != '0006641040']\n",
    "final.shape"
   ]
  },
  {
   "cell_type": "markdown",
   "metadata": {},
   "source": [
    "# Text Preprocessing: Stemming, stop-word removal and Lemmatization."
   ]
  },
  {
   "cell_type": "code",
   "execution_count": 7,
   "metadata": {},
   "outputs": [],
   "source": [
    "#set of stopwords in English\n",
    "from nltk.corpus import stopwords\n",
    "stop = set(stopwords.words('english'))\n",
    "words_to_keep = set(('not'))\n",
    "stop -= words_to_keep\n",
    "#initialising the snowball stemmer\n",
    "sno = nltk.stem.SnowballStemmer('english')\n",
    "\n",
    " #function to clean the word of any html-tags\n",
    "def cleanhtml(sentence):\n",
    "    cleanr = re.compile('<.*?>')\n",
    "    cleantext = re.sub(cleanr, ' ', sentence)\n",
    "    return cleantext\n",
    "\n",
    "#function to clean the word of any punctuation or special characters\n",
    "def cleanpunc(sentence): \n",
    "    cleaned = re.sub(r'[?|!|\\'|\"|#]',r'',sentence)\n",
    "    cleaned = re.sub(r'[.|,|)|(|\\|/]',r' ',cleaned)\n",
    "    return  cleaned"
   ]
  },
  {
   "cell_type": "code",
   "execution_count": 8,
   "metadata": {},
   "outputs": [],
   "source": [
    "#Code for removing HTML tags , punctuations . Code for removing stopwords . Code for checking if word is not alphanumeric and\n",
    "# also greater than 2 . Code for stemmimg and also to convert them to lowercase letters \n",
    "i=0\n",
    "str1=' '\n",
    "final_string=[]\n",
    "all_positive_words=[] # store words from +ve reviews here\n",
    "all_negative_words=[] # store words from -ve reviews here.\n",
    "s=''\n",
    "for sent in final['Text'].values:\n",
    "    filtered_sentence=[]\n",
    "    #print(sent);\n",
    "    sent=cleanhtml(sent) # remove HTMl tags\n",
    "    for w in sent.split():\n",
    "        for cleaned_words in cleanpunc(w).split():\n",
    "            if((cleaned_words.isalpha()) & (len(cleaned_words)>2)):    \n",
    "                if(cleaned_words.lower() not in stop):\n",
    "                    s=(sno.stem(cleaned_words.lower())).encode('utf8')\n",
    "                    filtered_sentence.append(s)\n",
    "                    if (final['Score'].values)[i] == 'positive': \n",
    "                        all_positive_words.append(s) #list of all words used to describe positive reviews\n",
    "                    if(final['Score'].values)[i] == 'negative':\n",
    "                        all_negative_words.append(s) #list of all words used to describe negative reviews reviews\n",
    "                else:\n",
    "                    continue\n",
    "            else:\n",
    "                continue \n",
    "    \n",
    "    str1 = b\" \".join(filtered_sentence) #final string of cleaned words\n",
    "    \n",
    "    \n",
    "    final_string.append(str1)\n",
    "    i+=1"
   ]
  },
  {
   "cell_type": "code",
   "execution_count": 9,
   "metadata": {},
   "outputs": [
    {
     "name": "stdout",
     "output_type": "stream",
     "text": [
      "Shape of final (364136, 11)\n"
     ]
    },
    {
     "data": {
      "text/html": [
       "<div>\n",
       "<style scoped>\n",
       "    .dataframe tbody tr th:only-of-type {\n",
       "        vertical-align: middle;\n",
       "    }\n",
       "\n",
       "    .dataframe tbody tr th {\n",
       "        vertical-align: top;\n",
       "    }\n",
       "\n",
       "    .dataframe thead th {\n",
       "        text-align: right;\n",
       "    }\n",
       "</style>\n",
       "<table border=\"1\" class=\"dataframe\">\n",
       "  <thead>\n",
       "    <tr style=\"text-align: right;\">\n",
       "      <th></th>\n",
       "      <th>Id</th>\n",
       "      <th>ProductId</th>\n",
       "      <th>UserId</th>\n",
       "      <th>ProfileName</th>\n",
       "      <th>HelpfulnessNumerator</th>\n",
       "      <th>HelpfulnessDenominator</th>\n",
       "      <th>Score</th>\n",
       "      <th>Time</th>\n",
       "      <th>Summary</th>\n",
       "      <th>Text</th>\n",
       "      <th>CleanedText</th>\n",
       "    </tr>\n",
       "  </thead>\n",
       "  <tbody>\n",
       "    <tr>\n",
       "      <th>476617</th>\n",
       "      <td>515426</td>\n",
       "      <td>141278509X</td>\n",
       "      <td>AB1A5EGHHVA9M</td>\n",
       "      <td>CHelmic</td>\n",
       "      <td>1</td>\n",
       "      <td>1</td>\n",
       "      <td>positive</td>\n",
       "      <td>1332547200</td>\n",
       "      <td>The best drink mix</td>\n",
       "      <td>This product by Archer Farms is the best drink...</td>\n",
       "      <td>product archer farm best drink mix ever mix fl...</td>\n",
       "    </tr>\n",
       "    <tr>\n",
       "      <th>22621</th>\n",
       "      <td>24751</td>\n",
       "      <td>2734888454</td>\n",
       "      <td>A1C298ITT645B6</td>\n",
       "      <td>Hugh G. Pritchard</td>\n",
       "      <td>0</td>\n",
       "      <td>0</td>\n",
       "      <td>positive</td>\n",
       "      <td>1195948800</td>\n",
       "      <td>Dog Lover Delites</td>\n",
       "      <td>Our dogs just love them.  I saw them in a pet ...</td>\n",
       "      <td>dog love saw pet store tag attach regard made ...</td>\n",
       "    </tr>\n",
       "    <tr>\n",
       "      <th>22620</th>\n",
       "      <td>24750</td>\n",
       "      <td>2734888454</td>\n",
       "      <td>A13ISQV0U9GZIC</td>\n",
       "      <td>Sandikaye</td>\n",
       "      <td>1</td>\n",
       "      <td>1</td>\n",
       "      <td>negative</td>\n",
       "      <td>1192060800</td>\n",
       "      <td>made in china</td>\n",
       "      <td>My dogs loves this chicken but its a product f...</td>\n",
       "      <td>dog love chicken product china wont buy anymor...</td>\n",
       "    </tr>\n",
       "    <tr>\n",
       "      <th>157850</th>\n",
       "      <td>171161</td>\n",
       "      <td>7310172001</td>\n",
       "      <td>AFXMWPNS1BLU4</td>\n",
       "      <td>H. Sandler</td>\n",
       "      <td>0</td>\n",
       "      <td>0</td>\n",
       "      <td>positive</td>\n",
       "      <td>1229385600</td>\n",
       "      <td>Excellent treats</td>\n",
       "      <td>I have been feeding my greyhounds these treats...</td>\n",
       "      <td>feed greyhound treat year hound littl finicki ...</td>\n",
       "    </tr>\n",
       "    <tr>\n",
       "      <th>157849</th>\n",
       "      <td>171160</td>\n",
       "      <td>7310172001</td>\n",
       "      <td>A74C7IARQEM1R</td>\n",
       "      <td>stucker</td>\n",
       "      <td>0</td>\n",
       "      <td>0</td>\n",
       "      <td>positive</td>\n",
       "      <td>1230076800</td>\n",
       "      <td>Sophie's Treats</td>\n",
       "      <td>This is one product that my welsh terrier can ...</td>\n",
       "      <td>one product welsh terrier eat sophi food alerg...</td>\n",
       "    </tr>\n",
       "  </tbody>\n",
       "</table>\n",
       "</div>"
      ],
      "text/plain": [
       "            Id   ProductId          UserId        ProfileName  \\\n",
       "476617  515426  141278509X   AB1A5EGHHVA9M            CHelmic   \n",
       "22621    24751  2734888454  A1C298ITT645B6  Hugh G. Pritchard   \n",
       "22620    24750  2734888454  A13ISQV0U9GZIC          Sandikaye   \n",
       "157850  171161  7310172001   AFXMWPNS1BLU4         H. Sandler   \n",
       "157849  171160  7310172001   A74C7IARQEM1R            stucker   \n",
       "\n",
       "        HelpfulnessNumerator  HelpfulnessDenominator     Score        Time  \\\n",
       "476617                     1                       1  positive  1332547200   \n",
       "22621                      0                       0  positive  1195948800   \n",
       "22620                      1                       1  negative  1192060800   \n",
       "157850                     0                       0  positive  1229385600   \n",
       "157849                     0                       0  positive  1230076800   \n",
       "\n",
       "                   Summary                                               Text  \\\n",
       "476617  The best drink mix  This product by Archer Farms is the best drink...   \n",
       "22621    Dog Lover Delites  Our dogs just love them.  I saw them in a pet ...   \n",
       "22620        made in china  My dogs loves this chicken but its a product f...   \n",
       "157850    Excellent treats  I have been feeding my greyhounds these treats...   \n",
       "157849     Sophie's Treats  This is one product that my welsh terrier can ...   \n",
       "\n",
       "                                              CleanedText  \n",
       "476617  product archer farm best drink mix ever mix fl...  \n",
       "22621   dog love saw pet store tag attach regard made ...  \n",
       "22620   dog love chicken product china wont buy anymor...  \n",
       "157850  feed greyhound treat year hound littl finicki ...  \n",
       "157849  one product welsh terrier eat sophi food alerg...  "
      ]
     },
     "execution_count": 9,
     "metadata": {},
     "output_type": "execute_result"
    }
   ],
   "source": [
    "#adding a column of CleanedText which displays the data after pre-processing of the review\n",
    "final['CleanedText']=final_string  \n",
    "final['CleanedText']=final['CleanedText'].str.decode(\"utf-8\")\n",
    "#below the processed review can be seen in the CleanedText Column \n",
    "print('Shape of final',final.shape)\n",
    "final.head()"
   ]
  },
  {
   "cell_type": "markdown",
   "metadata": {},
   "source": [
    "RANDOMLY SAMPLING 5K POINTS OUT OF WHOLE DATASET"
   ]
  },
  {
   "cell_type": "code",
   "execution_count": 10,
   "metadata": {},
   "outputs": [],
   "source": [
    "##Sorting data according to Time in ascending order for Time Based Splitting\n",
    "time_sorted_data = final.sort_values('Time', axis=0, ascending=True, inplace=False, kind='quicksort', na_position='last')\n",
    "\n",
    "# We will collect different 40K rows without repetition from time_sorted_data dataframe\n",
    "my_final = time_sorted_data.take(np.random.permutation(len(final))[:5000])\n",
    "\n",
    "x = my_final['CleanedText'].values"
   ]
  },
  {
   "cell_type": "markdown",
   "metadata": {},
   "source": [
    "# (1). Bag of Words (BoW)"
   ]
  },
  {
   "cell_type": "code",
   "execution_count": 11,
   "metadata": {},
   "outputs": [
    {
     "name": "stdout",
     "output_type": "stream",
     "text": [
      "the type of count vectorizer : <class 'scipy.sparse.csr.csr_matrix'>\n",
      "the shape of out text BOW vectorizer :  (5000, 347)\n",
      "the number of unique words : 347\n"
     ]
    }
   ],
   "source": [
    "#BoW\n",
    "count_vect = CountVectorizer(min_df = 100) \n",
    "data = count_vect.fit_transform(x)\n",
    "print(\"the type of count vectorizer :\",type(data))\n",
    "print(\"the shape of out text BOW vectorizer : \",data.get_shape())\n",
    "print(\"the number of unique words :\", data.get_shape()[1])"
   ]
  },
  {
   "cell_type": "markdown",
   "metadata": {},
   "source": [
    "# Hierarchical Clustering with 2 clusters"
   ]
  },
  {
   "cell_type": "code",
   "execution_count": 12,
   "metadata": {},
   "outputs": [
    {
     "name": "stdout",
     "output_type": "stream",
     "text": [
      "No. of reviews in Cluster-1 :  4824\n",
      "\n",
      "No. of reviews in Cluster-2 :  176\n"
     ]
    }
   ],
   "source": [
    "from sklearn.cluster import AgglomerativeClustering\n",
    "\n",
    "model = AgglomerativeClustering(n_clusters=2).fit(data.toarray())\n",
    "\n",
    "reviews = my_final['Text'].values\n",
    "# Getting all the reviews in different clusters\n",
    "cluster1 = []\n",
    "cluster2 = []\n",
    "\n",
    "for i in range(model.labels_.shape[0]):\n",
    "    if model.labels_[i] == 0:\n",
    "        cluster1.append(reviews[i])\n",
    "    else :\n",
    "        cluster2.append(reviews[i])\n",
    " \n",
    "        \n",
    "# Number of reviews in different clusters\n",
    "print(\"No. of reviews in Cluster-1 : \",len(cluster1))\n",
    "print(\"\\nNo. of reviews in Cluster-2 : \",len(cluster2))"
   ]
  },
  {
   "cell_type": "markdown",
   "metadata": {},
   "source": [
    "READING REVIEWS MANUALLY:"
   ]
  },
  {
   "cell_type": "code",
   "execution_count": 13,
   "metadata": {},
   "outputs": [
    {
     "name": "stdout",
     "output_type": "stream",
     "text": [
      "Review-1 : \n",
      " I first tried this product on Princess cruise and since bought it online from Amazon.  I like how there are 25 bags which retains its freshness.  I will definitely be purchasing this product on a continuous basis for my coffee each morning!\n",
      "\n",
      "Review-2 : \n",
      " I made crab rangoon and used this sauce as a dipping sauce.  It was great.  I love the fact that it doesn't have MSG in it.  It has the right amount of sweetness.  It is a little spicy, but just the right amount.\n",
      "\n",
      "Review-3 : \n",
      " Awful Awful taste...and phosphoric sick color...<br />Awful Awful taste...and phosphoric sick color...<br />Awful Awful taste...and phosphoric sick color...<br /><br />I was totally schemed, this is not a drink. it is an acid poison.<br />Who for god sake manufacture and sale this kind of awful product.<br /><br />Don't believe it? try for your self.<br />I only show \"The king is naked\"\n",
      "\n"
     ]
    }
   ],
   "source": [
    "# Three Reviews of cluster 1\n",
    "count=1\n",
    "for i in range(3):\n",
    "    if i < len(cluster1):\n",
    "        print('Review-%d : \\n %s\\n'%(count,cluster1[i]))\n",
    "        count +=1"
   ]
  },
  {
   "cell_type": "code",
   "execution_count": 14,
   "metadata": {},
   "outputs": [
    {
     "name": "stdout",
     "output_type": "stream",
     "text": [
      "Review-1 : \n",
      " Some of the finest tea I've had.  It is a pleasure on the palette, as well as to the nose.  In addition to the wonderful taste and aroma, this tea (The Choice Organic Tea line) is \"Fair Trade\".<br /><br />This tea is caffeine free and delicious hot or cold. --> i have added 2 bags when brewing in the sun for iced tea.  Delicious, when sweetened with natural honey!<br /><br />It is important to believe in a product, and this one uses as many Fair Trade ingredients as possible.\n",
      "\n",
      "Review-2 : \n",
      " When I read comments that this tea was similar to Earl Gray I decided to try it.  It is nothing like Earl Gray and it does have a flavor and odor that is tough to get used to.  I haven't had any trouble with any of the tea bags breaking open like some of the raters.\n",
      "\n",
      "Review-3 : \n",
      " Twinings English Afternoon Tea is a superb hot tea, delicious with milk and sugar, with a full, somewhat fruity flavor. Do not be afraid that this is a \"watered-down\" or weak version of the Breakfast Tea! It is every bit as full-bodied and hearty, just different, and perfect for a bit of variety. I love the English Breakfast Tea too. Try the Afternoon Tea. You won't be sorry.\n",
      "\n"
     ]
    }
   ],
   "source": [
    "# Three Reviews of cluster 2\n",
    "count=1\n",
    "for i in range(3):\n",
    "    if i < len(cluster2):\n",
    "        print('Review-%d : \\n %s\\n'%(count,cluster2[i]))\n",
    "        count +=1"
   ]
  },
  {
   "cell_type": "markdown",
   "metadata": {},
   "source": [
    "# Hierarchical Clustering with 5 clusters"
   ]
  },
  {
   "cell_type": "code",
   "execution_count": 15,
   "metadata": {},
   "outputs": [
    {
     "name": "stdout",
     "output_type": "stream",
     "text": [
      "No. of reviews in Cluster-1 :  1537\n",
      "\n",
      "No. of reviews in Cluster-2 :  176\n",
      "\n",
      "No. of reviews in Cluster-3 :  302\n",
      "\n",
      "No. of reviews in Cluster-4 :  2984\n",
      "\n",
      "No. of reviews in Cluster-5 :  1\n"
     ]
    }
   ],
   "source": [
    "model = AgglomerativeClustering(n_clusters=5).fit(data.toarray())\n",
    "\n",
    "# Getting all the reviews in different clusters\n",
    "cluster1 = []\n",
    "cluster2 = []\n",
    "cluster3 = []\n",
    "cluster4 = []\n",
    "cluster5 = []\n",
    "\n",
    "for i in range(model.labels_.shape[0]):\n",
    "    if model.labels_[i] == 0:\n",
    "        cluster1.append(reviews[i])\n",
    "    elif model.labels_[i] == 1:\n",
    "        cluster2.append(reviews[i])\n",
    "    elif model.labels_[i] == 2:\n",
    "        cluster3.append(reviews[i])\n",
    "    elif model.labels_[i] == 3:\n",
    "        cluster4.append(reviews[i])\n",
    "    else :\n",
    "        cluster5.append(reviews[i]) \n",
    "        \n",
    "# Number of reviews in different clusters\n",
    "print(\"No. of reviews in Cluster-1 : \",len(cluster1))\n",
    "print(\"\\nNo. of reviews in Cluster-2 : \",len(cluster2))\n",
    "print(\"\\nNo. of reviews in Cluster-3 : \",len(cluster3))\n",
    "print(\"\\nNo. of reviews in Cluster-4 : \",len(cluster4))\n",
    "print(\"\\nNo. of reviews in Cluster-5 : \",len(cluster5)) "
   ]
  },
  {
   "cell_type": "markdown",
   "metadata": {},
   "source": [
    "READING REVIEWS MANUALLY:"
   ]
  },
  {
   "cell_type": "code",
   "execution_count": 16,
   "metadata": {},
   "outputs": [
    {
     "name": "stdout",
     "output_type": "stream",
     "text": [
      "Review-1 : \n",
      " Awful Awful taste...and phosphoric sick color...<br />Awful Awful taste...and phosphoric sick color...<br />Awful Awful taste...and phosphoric sick color...<br /><br />I was totally schemed, this is not a drink. it is an acid poison.<br />Who for god sake manufacture and sale this kind of awful product.<br /><br />Don't believe it? try for your self.<br />I only show \"The king is naked\"\n",
      "\n",
      "Review-2 : \n",
      " I should have listened to the other one star reviewer. My antler was NOT like the picture. Unfortunately, I too got half an antler - meaning it was half of a bisected piece. This exposes all of the marrow, gives your dog no challenge or time with the antler, and may cause an upset system / stomach for the dog. I won't buy this brand again.\n",
      "\n",
      "Review-3 : \n",
      " I ordered this product to make white, strawberry-flavored icing for some cupcakes for a wedding. since it was so expensive, i did not test it to make sure it actually tasted like strawberry before baking day. My Mistake! It smelled like bad bubblegum and tasted like Windex or something - just a terrible, chemical taste. i made the icing, then tasted it and thought \"what was on my finger!? nail polish remover or something?\" well I hadn't done my nails, it was the icing! i could not serve that. I had to start over and use vanilla at the last minute. Thankfully the bride was very understanding. I DO NOT recommend this product. (Also, when I contacted the seller to try to send it back, they would never reply. Obviously they don't stand behind what they sell. Money Wasted.)\n",
      "\n"
     ]
    }
   ],
   "source": [
    "# Three Reviews of cluster 1\n",
    "count=1\n",
    "for i in range(3):\n",
    "    if i < len(cluster1):\n",
    "        print('Review-%d : \\n %s\\n'%(count,cluster1[i]))\n",
    "        count +=1"
   ]
  },
  {
   "cell_type": "code",
   "execution_count": 17,
   "metadata": {},
   "outputs": [
    {
     "name": "stdout",
     "output_type": "stream",
     "text": [
      "Review-1 : \n",
      " Some of the finest tea I've had.  It is a pleasure on the palette, as well as to the nose.  In addition to the wonderful taste and aroma, this tea (The Choice Organic Tea line) is \"Fair Trade\".<br /><br />This tea is caffeine free and delicious hot or cold. --> i have added 2 bags when brewing in the sun for iced tea.  Delicious, when sweetened with natural honey!<br /><br />It is important to believe in a product, and this one uses as many Fair Trade ingredients as possible.\n",
      "\n",
      "Review-2 : \n",
      " When I read comments that this tea was similar to Earl Gray I decided to try it.  It is nothing like Earl Gray and it does have a flavor and odor that is tough to get used to.  I haven't had any trouble with any of the tea bags breaking open like some of the raters.\n",
      "\n",
      "Review-3 : \n",
      " Twinings English Afternoon Tea is a superb hot tea, delicious with milk and sugar, with a full, somewhat fruity flavor. Do not be afraid that this is a \"watered-down\" or weak version of the Breakfast Tea! It is every bit as full-bodied and hearty, just different, and perfect for a bit of variety. I love the English Breakfast Tea too. Try the Afternoon Tea. You won't be sorry.\n",
      "\n"
     ]
    }
   ],
   "source": [
    "# Three Reviews of cluster 2\n",
    "count=1\n",
    "for i in range(3):\n",
    "    if i < len(cluster2):\n",
    "        print('Review-%d : \\n %s\\n'%(count,cluster2[i]))\n",
    "        count +=1"
   ]
  },
  {
   "cell_type": "code",
   "execution_count": 18,
   "metadata": {},
   "outputs": [
    {
     "name": "stdout",
     "output_type": "stream",
     "text": [
      "Review-1 : \n",
      " I thought this coffee was too weak, and had a slightly sour aftertaste. I do prefer a bolder coffee, so perhaps someone who likes a lighter roast would enjoy it; I did not.<br /><br />For those with a Solofill, I tried this coffee using the refillable cup in my Keurig brewer, but it didn't work too well. I didn't see anything about the grind in the product description (maybe I just overlooked it), but this coffee is ground finely. If you do use it in the Solofill, spoon it in so it is very loose, then shake, or the water won't flow through well.\n",
      "\n",
      "Review-2 : \n",
      " If you're looking for a delicious, smooth, medium roast coffee blended with a good dose of chocolate flavor, this Gevalia coffee might be right up your alley! It brews up delicious, smelling strongly of chocolate, and tasting satisfyingly of it, too. There's no need to add anything to this flavored coffee, if you're looking for a taste that enhances the flavor of the coffee without overpowering it and making it taste like something else.<br /><br />If you're a chocolate-loving coffee drinker that enjoys a hot mug of joe in the morning, this might just be the perfect coffee for you - chocolatey flavor that wakes you up, AND gives you your jump start! What could be better? Enjoy!\n",
      "\n",
      "Review-3 : \n",
      " Great coffee flavor in a decaf blend, and I like my coffee. And the convenience of the K cup.\n",
      "\n"
     ]
    }
   ],
   "source": [
    "# Three Reviews of cluster 3\n",
    "count=1\n",
    "for i in range(3):\n",
    "    if i < len(cluster3):\n",
    "        print('Review-%d : \\n %s\\n'%(count,cluster3[i]))\n",
    "        count +=1"
   ]
  },
  {
   "cell_type": "code",
   "execution_count": 19,
   "metadata": {},
   "outputs": [
    {
     "name": "stdout",
     "output_type": "stream",
     "text": [
      "Review-1 : \n",
      " I first tried this product on Princess cruise and since bought it online from Amazon.  I like how there are 25 bags which retains its freshness.  I will definitely be purchasing this product on a continuous basis for my coffee each morning!\n",
      "\n",
      "Review-2 : \n",
      " I made crab rangoon and used this sauce as a dipping sauce.  It was great.  I love the fact that it doesn't have MSG in it.  It has the right amount of sweetness.  It is a little spicy, but just the right amount.\n",
      "\n",
      "Review-3 : \n",
      " This is a really nice product for those who want to consume healthful things. Refreshing, tasty and guiltless beverages are too few and far between these days, but this qualifies.<br /><br />Far too many \"vitamin drinks\" on the shelf are packed with empty calories, high-fructose corn syrup, and no actual fruit juice (or anything else good for you, for that matter). This is a refreshing exception.<br /><br />The pros: 70% juice, not overly calorie-ridden, the Izze drinks DO contain a bit of Vitamins C, B6 and Niacin, but do NOT contain any dreaded (and seemingly ubiquitous) high-fructose corn syrup (about which I have heard nothing good. Not one thing), and it tastes really good.<br /><br />The cons: Okay, not so much a con perhaps, but one should be aware that the product contains no more than 10% of the RDA of any of the aforementioned vitamins and minerals.<br /><br />So as long as you don't think of it as a magic health elixir, but rather as a great-tasting, refreshing drink that appears to contain nothing bad for you, I think you will enjoy this drink as much as I have.\n",
      "\n"
     ]
    }
   ],
   "source": [
    "# Three Reviews of cluster 4\n",
    "count=1\n",
    "for i in range(3):\n",
    "    if i < len(cluster4):\n",
    "        print('Review-%d : \\n %s\\n'%(count,cluster4[i]))\n",
    "        count +=1"
   ]
  },
  {
   "cell_type": "code",
   "execution_count": 20,
   "metadata": {},
   "outputs": [
    {
     "name": "stdout",
     "output_type": "stream",
     "text": [
      "Review-1 : \n",
      " Fuzzy Wuzzy's Summary:<br />**** Recommended with warm fuzzies.<br /><br />I just received my single 2.25-ounce bar this morning and it was a good thing that I already ate breakfast as I nibbled (instead of chomped) on this with my morning coffee.  I have always liked all of Newman's line of foods, because they taste good and are made of high-quality ingredients, and because his foundation donates hundreds of millions of dollars to charities throughout the world.  (And I love his movies! :-)  Paul Newman walked the philanthropic walk in helping to make the world a better place.<br /><br />This 54% cocoa dark chocolate bar has an all-organic ingredient list that is free of artificial sweetener and extraneous additives and fillers, which is all too common in chocolates, candies, and foods these days.<br /><br />Note that, at the time of this review's writing, the \"Ingredients\" and \"Nutrition Facts\" listed on Amazon's site for this dark chocolate bar are actually copied from another \"Newman's\" chocolate bar, <a href=\"http://www.amazon.com/gp/product/B002NHYQQC\">Newman's Own Organics Milk Chocolate Bar, 2.25-Ounce Bars (Pack of 12)</a> , and so this information that is currently listed on Amazon's site for this dark chocolate does NOT apply to this product; it refers to Newman's Milk Chocolate.  Hopefully, Amazon will correct the listings in these two sections for this product.<br /><br />Amazon's \"Ingredients\" listing: Organic Milk Chocolate (Organic Evaporated Cane Juice, Organic Cocoa Butter, Organic Whole Milk Powder, Organic Chocolate Liquor, Organic Soy Lecithin [An Emulsifier], Organic Vanilla), Natural Coffee Flavor.<br /><br />Actual Wrapper's \"Ingredients\" listing: Organic Dark Chocolate (Organic evaporated cane juice, organic chocolate liquor, organic cocoa butter, organic soy lecithin [an emulsifier], organic vanilla).<br /><br />Wrapper's \"Nutrition Facts\" listing (with Amazon's corresponding \"Nutrition Facts\" listing, that actually apply to Newman's Milk Chocolate bar, in parentheses):<br /><br />Calories:  330 (340)<br />Calories from Fat: 200 (190)<br />Total Fat:  22g 34%DV (23g 35%DV)<br />Saturated Fat:  13g 65%DV (12g 60%DV)<br />Monounsaturated and Trans Fat: 0g (0g)<br />Cholesterol:  0g 0%DV (5mg 2%DV)<br />Sodium:  5mg (30mg)<br />Total Carbohydrate: 37g 12%DV (37g 12%DV)<br />Fiber:  4g 16%DV (1g 4%DV)<br />Sugars:  28g (33g)<br />Protein:  3g (3g)<br />Vitamin A:  0% (2%)<br />Vitamin C:  0% (2%)<br />Calcium:  2% (20%)<br />Iron:  10% (15%)<br /><br />So Newman's Own Organics Milk Chocolate Bar has more vitamins, calcium, and iron due to its use of milk, while the dark chocolate has more fiber and less sodium.  Many people do not consider chocolate to be a high-fiber food, but dark chocolate (not milk chocolate) ranks among the top-20 for high-fiber foods.  Dark chocolate is loaded with flavonoids that act as antioxidants, keeping your heart healthy and reducing oxidative stress.  Flavonoids also balance hormones in your body, and they activate endothelial nitric oxide synthase levels in your body (biochemical gibberish that translates to \"helps regulate your blood pressure\" :-)  Studies have also shown that dark chocolate, perhaps due to its increased fiber content, makes you feel more \"filled up\", giving you more of a feeling of satiety compared with eating milk chocolate.<br /><br />At the time of this review's writing, Amazon had not yet priced this chocolate. But even if it was priced higher than other dark chocolates offered by the larger candy factories, I would still buy this because I believe in Newman's cause and charities.  I also love dark chocolate that is combined with nuts and/or berries, such as the Chocolove dark chocolates, and I hope that the \"Newman's\" dark chocolates line also eventually includes those.<br /><br />I love dark chocolates with cocoa content that goes to 77% and beyond, but these are not as sweet and have a subtle bitterness compared to dark chocolates with lower cocoa content.  The 54% cocoa content of this Newman's bar strikes a happy balance of sweetness that will appeal to those who are more accustomed to milk chocolate's sweetness.  This chocolate is not as sweet as some of the other 54-55% cocoa dark chocolates out there because many dark chocolates add higher amounts of extra sugar to their bars.  The flavor of this chocolate is nice, but with a slightly fibrous texture; just don't expect it to be as sweet as some of the more-sweetened dark chocolates on the market or else you may think that this tastes a bit bland compared to them.  Likewise, some people think that heavily-salted food tastes better than lightly-salted food.  The \"evaporated cane juice\" used as a sweetener in this chocolate is a healthier alternative than the processed sugar that is included in many chocolate bars (including the Belgium-made Chocolove bars that I love).  Both refined sugar and cane juice come from sugar cane, but cane juice is less processed and retains more nutrients.  So enjoy this smooth rich dark chocolate \"health food\" guilt-free, but in moderation.  I certainly will enjoy eating the rest of this chocolate bar while watching my DVD of <a href=\"http://www.amazon.com/gp/product/B0019UGYK0\">Cool Hand Luke (Deluxe Edition)</a>\n",
      "\n"
     ]
    }
   ],
   "source": [
    "# Three Reviews of cluster 5\n",
    "count=1\n",
    "for i in range(3):\n",
    "    if i < len(cluster5):\n",
    "        print('Review-%d : \\n %s\\n'%(count,cluster5[i]))\n",
    "        count +=1"
   ]
  },
  {
   "cell_type": "markdown",
   "metadata": {},
   "source": [
    "# Hierarchical Clustering with 10 clusters"
   ]
  },
  {
   "cell_type": "code",
   "execution_count": 21,
   "metadata": {},
   "outputs": [],
   "source": [
    "model = AgglomerativeClustering(n_clusters=10).fit(data.toarray())\n",
    "# Getting all the reviews in different clusters\n",
    "cluster1 = []\n",
    "cluster2 = []\n",
    "cluster3 = []\n",
    "cluster4 = []\n",
    "cluster5 = []\n",
    "cluster6 = []\n",
    "cluster7 = []\n",
    "cluster8 = []\n",
    "cluster9 = []\n",
    "cluster10 = []\n",
    "\n",
    "for i in range(model.labels_.shape[0]):\n",
    "    if model.labels_[i] == 0:\n",
    "        cluster1.append(reviews[i])\n",
    "    elif model.labels_[i] == 1:\n",
    "        cluster2.append(reviews[i])\n",
    "    elif model.labels_[i] == 2:\n",
    "        cluster3.append(reviews[i])\n",
    "    elif model.labels_[i] == 3:\n",
    "        cluster4.append(reviews[i])\n",
    "    elif model.labels_[i] == 4:\n",
    "        cluster5.append(reviews[i])\n",
    "    elif model.labels_[i] == 5:\n",
    "        cluster6.append(reviews[i])\n",
    "    elif model.labels_[i] == 6:\n",
    "        cluster7.append(reviews[i])\n",
    "    elif model.labels_[i] == 7:\n",
    "        cluster8.append(reviews[i])\n",
    "    elif model.labels_[i] == 8:\n",
    "        cluster9.append(reviews[i])       \n",
    "    else :\n",
    "        cluster10.append(reviews[i])"
   ]
  },
  {
   "cell_type": "code",
   "execution_count": 22,
   "metadata": {},
   "outputs": [
    {
     "name": "stdout",
     "output_type": "stream",
     "text": [
      "No. of reviews in Cluster-1 :  1174\n",
      "\n",
      "No. of reviews in Cluster-2 :  2984\n",
      "\n",
      "No. of reviews in Cluster-3 :  308\n",
      "\n",
      "No. of reviews in Cluster-4 :  48\n",
      "\n",
      "No. of reviews in Cluster-5 :  21\n",
      "\n",
      "No. of reviews in Cluster-6 :  18\n",
      "\n",
      "No. of reviews in Cluster-7 :  34\n",
      "\n",
      "No. of reviews in Cluster-8 :  254\n",
      "\n",
      "No. of reviews in Cluster-9 :  158\n",
      "\n",
      "No. of reviews in Cluster-10 :  1\n"
     ]
    }
   ],
   "source": [
    "# Number of reviews in different clusters\n",
    "print(\"No. of reviews in Cluster-1 : \",len(cluster1))\n",
    "print(\"\\nNo. of reviews in Cluster-2 : \",len(cluster2))\n",
    "print(\"\\nNo. of reviews in Cluster-3 : \",len(cluster3))\n",
    "print(\"\\nNo. of reviews in Cluster-4 : \",len(cluster4))\n",
    "print(\"\\nNo. of reviews in Cluster-5 : \",len(cluster5)) \n",
    "print(\"\\nNo. of reviews in Cluster-6 : \",len(cluster6))\n",
    "print(\"\\nNo. of reviews in Cluster-7 : \",len(cluster7))\n",
    "print(\"\\nNo. of reviews in Cluster-8 : \",len(cluster8))\n",
    "print(\"\\nNo. of reviews in Cluster-9 : \",len(cluster9))\n",
    "print(\"\\nNo. of reviews in Cluster-10 : \",len(cluster10)) "
   ]
  },
  {
   "cell_type": "markdown",
   "metadata": {},
   "source": [
    "READING REVIEWS MANUALLY:"
   ]
  },
  {
   "cell_type": "code",
   "execution_count": 23,
   "metadata": {},
   "outputs": [
    {
     "name": "stdout",
     "output_type": "stream",
     "text": [
      "Review-1 : \n",
      " Awful Awful taste...and phosphoric sick color...<br />Awful Awful taste...and phosphoric sick color...<br />Awful Awful taste...and phosphoric sick color...<br /><br />I was totally schemed, this is not a drink. it is an acid poison.<br />Who for god sake manufacture and sale this kind of awful product.<br /><br />Don't believe it? try for your self.<br />I only show \"The king is naked\"\n",
      "\n",
      "Review-2 : \n",
      " I ordered this product to make white, strawberry-flavored icing for some cupcakes for a wedding. since it was so expensive, i did not test it to make sure it actually tasted like strawberry before baking day. My Mistake! It smelled like bad bubblegum and tasted like Windex or something - just a terrible, chemical taste. i made the icing, then tasted it and thought \"what was on my finger!? nail polish remover or something?\" well I hadn't done my nails, it was the icing! i could not serve that. I had to start over and use vanilla at the last minute. Thankfully the bride was very understanding. I DO NOT recommend this product. (Also, when I contacted the seller to try to send it back, they would never reply. Obviously they don't stand behind what they sell. Money Wasted.)\n",
      "\n",
      "Review-3 : \n",
      " Worst Thing I have ever put in my mouth. Ever. I opened them, immediately noticed a 'funky' smell, but gave it to my one year old anyway with out much further explanation.  I tried a bite of it after she started to cry and run away from the bar. I could not spit out my bite fast enough! It made my usually strong stomach churn and I could not get the taste to go away. They smell and taste like rotting dead for months shark carcass. No joke. Seriously. She is now afraid to eat anything that resembles a rice crispy bar. which is actually pretty adorable. Regardless, Yuck!\n",
      "\n"
     ]
    }
   ],
   "source": [
    "# Three Reviews of cluster 1\n",
    "count=1\n",
    "for i in range(3):\n",
    "    if i < len(cluster1):\n",
    "        print('Review-%d : \\n %s\\n'%(count,cluster1[i]))\n",
    "        count +=1"
   ]
  },
  {
   "cell_type": "code",
   "execution_count": 24,
   "metadata": {},
   "outputs": [
    {
     "name": "stdout",
     "output_type": "stream",
     "text": [
      "Review-1 : \n",
      " I first tried this product on Princess cruise and since bought it online from Amazon.  I like how there are 25 bags which retains its freshness.  I will definitely be purchasing this product on a continuous basis for my coffee each morning!\n",
      "\n",
      "Review-2 : \n",
      " I made crab rangoon and used this sauce as a dipping sauce.  It was great.  I love the fact that it doesn't have MSG in it.  It has the right amount of sweetness.  It is a little spicy, but just the right amount.\n",
      "\n",
      "Review-3 : \n",
      " This is a really nice product for those who want to consume healthful things. Refreshing, tasty and guiltless beverages are too few and far between these days, but this qualifies.<br /><br />Far too many \"vitamin drinks\" on the shelf are packed with empty calories, high-fructose corn syrup, and no actual fruit juice (or anything else good for you, for that matter). This is a refreshing exception.<br /><br />The pros: 70% juice, not overly calorie-ridden, the Izze drinks DO contain a bit of Vitamins C, B6 and Niacin, but do NOT contain any dreaded (and seemingly ubiquitous) high-fructose corn syrup (about which I have heard nothing good. Not one thing), and it tastes really good.<br /><br />The cons: Okay, not so much a con perhaps, but one should be aware that the product contains no more than 10% of the RDA of any of the aforementioned vitamins and minerals.<br /><br />So as long as you don't think of it as a magic health elixir, but rather as a great-tasting, refreshing drink that appears to contain nothing bad for you, I think you will enjoy this drink as much as I have.\n",
      "\n"
     ]
    }
   ],
   "source": [
    "# Three Reviews of cluster 2\n",
    "count=1\n",
    "for i in range(3):\n",
    "    if i < len(cluster2):\n",
    "        print('Review-%d : \\n %s\\n'%(count,cluster2[i]))\n",
    "        count +=1"
   ]
  },
  {
   "cell_type": "code",
   "execution_count": 25,
   "metadata": {},
   "outputs": [
    {
     "name": "stdout",
     "output_type": "stream",
     "text": [
      "Review-1 : \n",
      " I should have listened to the other one star reviewer. My antler was NOT like the picture. Unfortunately, I too got half an antler - meaning it was half of a bisected piece. This exposes all of the marrow, gives your dog no challenge or time with the antler, and may cause an upset system / stomach for the dog. I won't buy this brand again.\n",
      "\n",
      "Review-2 : \n",
      " Given that our dogs don't get rawhide treats often, we thought they might like to try these. However, both our 70 lb Aussie and 10 lb. Papillon rejected them. The Aussie eventually gave in and tried to bury one in the back yard, but never bothered to cover the hole. This is pretty important, because our boys will eat nearly anything! These were a nice size for small or large dogs, but neither seemed interested, despite that fact.  That said, these two dogs of ours love dehydrated cow lungs and organic carrots for snacks, so perhaps their pallates are just too refined for cardboard filled rawhide chews.\n",
      "\n",
      "Review-3 : \n",
      " This is the best cat food for my feral cats! The 40 lb size is a great buy, and the cat food is good for them! you really can't beat the price for decent food for feeding a lot of cats!\n",
      "\n"
     ]
    }
   ],
   "source": [
    "# Three Reviews of cluster 3\n",
    "count=1\n",
    "for i in range(3):\n",
    "    if i < len(cluster3):\n",
    "        print('Review-%d : \\n %s\\n'%(count,cluster3[i]))\n",
    "        count +=1"
   ]
  },
  {
   "cell_type": "code",
   "execution_count": 26,
   "metadata": {},
   "outputs": [
    {
     "name": "stdout",
     "output_type": "stream",
     "text": [
      "Review-1 : \n",
      " If you're looking for a delicious, smooth, medium roast coffee blended with a good dose of chocolate flavor, this Gevalia coffee might be right up your alley! It brews up delicious, smelling strongly of chocolate, and tasting satisfyingly of it, too. There's no need to add anything to this flavored coffee, if you're looking for a taste that enhances the flavor of the coffee without overpowering it and making it taste like something else.<br /><br />If you're a chocolate-loving coffee drinker that enjoys a hot mug of joe in the morning, this might just be the perfect coffee for you - chocolatey flavor that wakes you up, AND gives you your jump start! What could be better? Enjoy!\n",
      "\n",
      "Review-2 : \n",
      " I have tried many different coffee's over the past severeal years and I am a hard customer to please. I ran across this coffee at my son's house and loved it. I love a bold coffee and this one tasted better than any of the coffee's I have had to date so I decided to join the coffee club as we go through quite a bit of coffee. I am a creature of habit and if I find one I really like I tend not to change. The beans are dark in color and have an oily (which I find are the best) look. I would highly recommend this coffee to anyone.\n",
      "\n",
      "Review-3 : \n",
      " I do not typically drink coffee, just because I never got into the habit. However, if and when I feel the need for a little Joe, this is the coffee I will drink. EVERYONE NEEDS TO TRY THIS ONE! After educating myself a little on coffee roasting and roasting standards, I know Community Coffee is the best coffee in the south. i can not believe that Star-bux even stays open down here. Seriously, they don't hold a candle to Community Coffee! My parents drink CC, their parents drink CC, and THEIR parents drink CC! Cafe Special is a great coffee to start with if you are a first-timer.\n",
      "\n"
     ]
    }
   ],
   "source": [
    "# Three Reviews of cluster 4\n",
    "count=1\n",
    "for i in range(3):\n",
    "    if i < len(cluster4):\n",
    "        print('Review-%d : \\n %s\\n'%(count,cluster4[i]))\n",
    "        count +=1"
   ]
  },
  {
   "cell_type": "code",
   "execution_count": 27,
   "metadata": {},
   "outputs": [
    {
     "name": "stdout",
     "output_type": "stream",
     "text": [
      "Review-1 : \n",
      " What a waste of money. All four cats (three indoor and one feral outdoor cat) won't eat the wet food. They like the juice and will lick that up, but they leave the meaty bits behind. I tried each flavor and not one cat will eat this stuff! I was hoping to save some money with Friskies, but it is what it is. And what it is is food that a hungry wild cat won't eat; she'd rather catch and eat mice. :\\ My suggestion is to go to the store and buy a couple different cans and try that out first. If your cat doesn't eat it, it'll save you from having 2 dozen paper weights.\n",
      "\n",
      "Review-2 : \n",
      " After our father died, my sister inherited Duke, our dad's 4 month old orange tabby kitten.  My sister kept him for over a year, but decided she couldn't keep him anymore, so in 2010, I grudgingly adopted him.  (I'm sentimental and couldn't let a cat that once belonged to our dad end up in the hands of strangers.)  I am a rabid dog fanatic.  I like cats, but don't have the same enthusiasm for them that I do with dogs.  I never had a feline companion of my own, so Duke became my \"starter cat\".  Well, I turned out to be lucky.  Duke is not the hide-under-the-bed-and-hiss kind of cat.  He's adorable, funny, affectionate, and loves Slappy, my elderly German Shepherd mix.  He's definitely a keeper and I love him to pieces.  He's three years old now, and he's stuck with me for life.<br /><br />So, being that Duke is my first cat, everything is a learning process.  I thought that semi-solid, extremely smelly poop was simply a variation of the norm for cats.  I was feeding Duke Before Grain, pretty much since the day I got him.  Duke liked it and had no problem scarfing it down.  (The little fattie will eat anything.)  I liked the quality ingredients and the lack of filler grains.  Meanwhile, his \"Litter Box of Horrors\" was a nightmare to clean.  The stench was overpowering.  Duke would do his business and the poop would stick to his legs.  I had to throw him in the shower several times a month.  Eventually, I had to follow him around the house with baby wipes after he used his litter box or else he'd leave stinky poop stains on my floor, couch, bed, or carpet.  I simply figured that since he's fat, he couldn't clean himself well.  I never attributed it to the food.  Why would I?  I assumed I was giving him the best.<br /><br />Last year, he was treated for a urinary blockage caused by struvite crystals.  Then, a few months ago, while wiping his butt with baby wipes, I found blood.  Quite a bit of it.  I opened his litter box, and his stool was covered in blood.  Off to the vet we went.  No problems detected.  Lots of money spent.  I was told to put him on Hill's Science Diet.  That stuff is garbage and if ANY vet tells you to put your cat or dog on it, it's time to find a new vet.  Anyway, the bloody poop happened again a few days later.  I decided that yes, I was going to change his diet, but no, it wouldn't be Hill's Science Diet.  Taste of The Wild ended up being my choice.  Within days, all the problems went away.  Duke has very firm stool now, there's no blood, the litter box stench is more tolerable, and no more \"Hershey's Kisses\" on everything he sits on.  No more baby wipes and showers, so I don't have to hear his mournful cries when he's subjected to being scrubbed down.<br /><br />I'm not saying that B.G. is a bad food, but I'm saying it was a very bad option for me and my cat.  There was something in there that my cat couldn't tolerate.  I won't buy it again.  I'll keep him on a combination of TOTW and raw.  It works for him.\n",
      "\n",
      "Review-3 : \n",
      " I don't know how ANYONE could rate this so-called \"cat\" food above a 1 star - it is CRUD.<br /><br />The food is cheap - stuffed full of fillers.  My 4 cats prefer to eat old and dried up Fancy Feast crumbs before they even eat a bite of this junk.  It comes out of the cans like a hard lump - the liquids drain out and you end up with a brick that has to be broken apart.<br /><br />Well, it's not so surprising this stuff ends up as hard as a brick - one of the major ingredients in ALL their \"flavors\" is Montmorillonite CLAY (yes, the same stuff used in oil and gas well drilling mud!) - ie, very similar to what cat litter is made from...<br /><br />To show how bad it is, even the raccoons and coyotes won't eat this junk - they'd rather eat carrion...<br /><br />Those that think this is \"good\" food, I can't imagine the crap you've been feeding your cats before - shame on you!  Shame on anyone buying this crud - go buy a selection of Fancy Feast (Classic is hands down favorite for the majority of cats - and it's excellent quality food - puts this junk to shame) and see how quickly your cats will spurn this junk.<br /><br />I wish I could give this crud negative stars - it shouldn't be allowed to be sold.\n",
      "\n"
     ]
    }
   ],
   "source": [
    "# Three Reviews of cluster 5\n",
    "count=1\n",
    "for i in range(3):\n",
    "    if i < len(cluster5):\n",
    "        print('Review-%d : \\n %s\\n'%(count,cluster5[i]))\n",
    "        count +=1"
   ]
  },
  {
   "cell_type": "code",
   "execution_count": 28,
   "metadata": {},
   "outputs": [
    {
     "name": "stdout",
     "output_type": "stream",
     "text": [
      "Review-1 : \n",
      " I've been a tea fan for decades; I've written about tea and published stories about tea. I can tell you about second flush Darjeelings and \"tippy golden\" varieties. Like most self-styled \"serious\" tea drinkers, I've never been a fan of bagged tea, preferring to brew from \"loose\" leaves.<br /><br />Given all of that, I have to say that the Higgins & Burke was a very nice surprise. English Breakfast can mean a lot of things, but the leading element of the blend is usually Assam tea, which is known for its supposedly \"malty\" flavor. The H&B lists Assam as a main ingredient, which was good to see.<br /><br />The bags have a \"flow through\" design, which is also a good thing; this gives more surface area to the bags and allows for fuller brewing.<br /><br />I brewed up a pot--- not a cup. These tea bags really ought to be put in a pot. If you brew them in a cup, unless you cover it the water will cool too quickly during brewing, and besides, you'll have to reduce the brewing time to too short a length for best results.<br /><br />I was very pleased with the pots that I tried. The Assam flavor was rich and husky; the finished brew was smooth rather than rough; there was none of the staleness that sometimes comes with inferior bagged tea (which is sometimes made from sweepings and leavings). While I wouldn't have this for an after-dinner tea--- Assam is just too assertive--- it's a terrific breakfast tea, as the name implies.<br /><br />Of course, you can argue that if you're making a pot you might as well use loose-leaf tea and be done with it. That's a valid argument, but use of the bags certainly makes for faster clean-up and less effort overall. So besides being good, these tea bags do have a definite role.<br /><br />I'm pleased to be able to recommend this product. It has made me rethink the idea of bagged tea.\n",
      "\n",
      "Review-2 : \n",
      " *****<br />This Bedtime Tea from Yogi Tea is an herbal tea that is relaxing and a natural sleep aid. Bedtime Tea is made from organic licorice root, organic spearmint leaf, organic chamomile flower, organic skullcap leaf, organic cardamom seed, organic cinnamon bark, organic St. John's Wort leaf & flower, organic rose hips, natural orange flavor, valerian root extract, organic raspberry leaf, organic English lavender flower, steveia leaf, and passion flower extract. The taste is mild, delicious, herb-y, and very slightly sweet. It is subtle and lovely.<br /><br />I am definitely impressed with this tea and with Yogi Teas in general. Bedtime Tea comes with an expiration date (a good thing, because it's not full of preservatives, plus you can tell if it is fresh). Yogi Tea seems to be another company (like Numi, Aspen, Traditional Medicinals) that values sustainable and healthy practices. Their web site has a helpful glossary of tea ingredients and is beautifully designed, with info about each tea they make.<br /><br />Yogi Tea writes this on the box about the tea's benefits: \"Organic Bedtime tea is a safe, gentle and delicious way to help you get a restful night's sleep.Valerian (Valeriana officinalis) and other calming herbs included in this organic formula have been used for centuries to promote sleep without the risk of a morning \"hangover\" that can sometimes result from the use of drug products. This healing formula also includes Organic Chamomile (Matricaria recutita), which has been used for years by Western herbalists to soothe and relax and for its effectiveness in combating nervousness and restlessness. Mild relaxants such as Organic St. John's Wort and Passion Flower are also included in this formula. St. John's Wort is well known for its positive effects on mood, while Passion Flower, a Native American herb containing the naturally occurring chemical chrysina, a flavonoid, has been shown to help reduce nervousness and anxiety. This tea is also enhanced with Organic Skullcap, which has scutellarian, a plant compound that has been shown to help reduce anxiety. To help promote better and deeper sleep, health practitioners recommend avoiding caffeine products. Drink organic Bedtime tea before bed for a good night's sleep.\"<br /><br />There is a warning on the box that this tea is not to be used during pregnancy or while nursing. If you are taking MAO inhibitors or other prescription drugs, you should consult your physician or health care professional before use. There are no other cautions or warnings on the box except the standard disclaimer that the tea is not intended to diagnose, treat, cure, or prevent any disease.<br /><br />This tea has no caffeine and is entirely herbal.<br /><br />Best of all, it works...I love drinking it before bed to relax and drift off into blissful sleep. This is a great tea that I highly recommend.<br />*****\n",
      "\n",
      "Review-3 : \n",
      " I shared this product with a person in my office who drinks tea daily.  (I'm a big coffee drinker, so I don't drink tea every day.)<br /><br />My initial impression was that while this tea smelled good once the bag was opened, the tea itself had almost no aroma once brewed and the tea didn't have much flavor either.  I thought that perhaps I had not brewed it long enough even though I had brewed it a full 5 minutes (the manufacturer recommends brewing 3-5 minutes), so I threw the bag back in my cup of tea.  Despite leaving the bag in the cup as I finished drinking the tea, the tea never got much flavor as far as I was concerned.  Then again I'm used to drinking really strong coffee, so I thought that perhaps my taste buds were simply used to a stronger flavor.<br /><br />Enter my co-worker.  I specifically did not tell her my impression of the tea because I wanted her unbiased opinion.  She was excited by the description of the tea on the box and brewed a cup for herself as she normally does every morning at the beginning of the work day.  She just stopped by my desk to give me her feedback.  Her main description of the tea was \"bland.\"  She said it did not taste bad, but that it did not have much flavor.  In other words, her perception of this tea matched mine.  She further added that she would not buy this tea.  She didn't even want the rest of the box from me, so I'm simply going to put it out in our lunchroom in the hopes that perhaps some people where I work will enjoy it.  Who knows -- maybe this tea will impress at least one of my coworkers and they'll decide to purchase this tea.  I know I wouldn't.\n",
      "\n"
     ]
    }
   ],
   "source": [
    "# Three Reviews of cluster 6\n",
    "count=1\n",
    "for i in range(3):\n",
    "    if i < len(cluster6):\n",
    "        print('Review-%d : \\n %s\\n'%(count,cluster6[i]))\n",
    "        count +=1"
   ]
  },
  {
   "cell_type": "code",
   "execution_count": 29,
   "metadata": {},
   "outputs": [
    {
     "name": "stdout",
     "output_type": "stream",
     "text": [
      "Review-1 : \n",
      " First of all, I have no ties with Truvia. In fact, I decided to replace my Truvia recently with Stevia in the Raw which is why I'm now typing this. In my grocery store the Stevia in the Raw was cheaper. I'd always felt Truvia expensive, so I was all over that.<br /><br />While I personally do not believe the phrase \"You get what you pay for\" since sometimes a consumer is only paying for more marketing in a more expensive product...in this case, it's true.<br /><br />I do like sugar in the raw and I do buy it. It's way better than regular sugar being bleached and processed through bone char (for reals).<br /><br />But, first of all, this isn't \"in the raw\". That would mean it's pure Stevia. It also contains Dextrose. Dextrose is a very cheap additive that's sweet that's made from corn. It's high carb. Great if you just finished a tough workout and need carbs. Not great if you call yourself Stevia in the RAW<br /><br />Having formerly worked in food chemical sales, I know that Dextrose is Glucose. This is not an artificial additive, however diabetes is caused by high levels of glucose in the blood. I therefore find it quite scary that this is labeled \"raw\" when diabetics may use it or someone wishing to avoid sugar would use it.  Now granted, Truvia has a fruit sweetener in it as well, because stevia is actually SO sweet that you'd have hardly anything in a pack otherwise because it takes very little stevia to sweeten something, but it's not calling itself \"raw\" either.<br /><br />But let's bypass that and take our sugar/stevia packs and move on. Is the rest the same?<br /><br />Huh-uh.<br /><br />You get 50 packs of Stevia in the Raw in a box.<br />You get 40 packs of Truvia in a box.<br /><br />Superb huh?<br /><br />Likely, because Stevia in the Raw was a tiny bit less expensive, you will do as I did and think \"Woo Hoo! I get more for less!\" Aw, those marketing dogs saw me coming a mile away.<br /><br />Not so fast.<br /><br />I kept making my coffee and hating the taste of it. Bitter.  I began adding 2 packs of Stevia in the Raw. Still not sweet. I had just bought a new coffee and I was thinking it must be stronger of something. Then I found a pack of Truvia I had in the drawer and realized how much MORE was in the pack simply by picking up the pack. I added that one pack to my coffee and it tasted, finally, sweet again.<br /><br />So that got me thinking...<br /><br />I go to the Stevia in the Raw box and look at the net weight of those 50 packets.<br />It is 1.75 ounces.<br />I then, when shopping again, pick up a box of Truvia (and buy it of course because I'm tired of coffee tasting unsweetened.) and for 40 packets it's 4.9 ounces!!!!<br /><br />WOA! I've just been had. I have to use about 3-4 of those Stevia in the Raw packets to equal the taste of one Truvia packet because there is next to nothing inside the packet..just as I suspected. They gave me more packets with less inside each one. So I have to waste paper, and time opening packet after packet just for one cup o' joe.<br /><br />And quite frankly, I don't like deceptive marketing and it's going on all over every 1.75 ounce box of Stevia in the Raw.<br /><br />But, wait...one more thing...<br /><br />Because Stevia in the Raw has sugar in it in glucose form, is it really 0 calories for the same amount? or just a low amount in one packet but by the time you use 4, how many calories may have snuck in....because 0.5 calories can add up too.  Not that I care about 4 calories or 2 calories, but in comparing the two products, and how little is in a packet of Stevia in the Raw...<br /><br />It wouldn't surprise me.<br /><br />Truvia, by the way, has Erythritol in it. This is one of the best all-natural zero calorie sweeteners you can buy. The Brand Z Sweet is erythritol. It's great for diabetics and dieters because it's the one that will NOT spike your blood sugar but is still all-natural. Stevia is so lightweight it needs a counterpart. Erythritol is a stevia cousin. Dextrose is a cheap filler that isn't.\n",
      "\n",
      "Review-2 : \n",
      " we love sodastream soda maker but not its syrups.  my bf is a soda addict, drink soda like water, who sneaks out to a deli, which is at least 15 mins away as the closest ones closed at midnight, for a 2 Liter bottle of cherry coke at 3am in the morning. i bought the sodastream jet starter kit and this sodamix variety pack for him as i don't want to buy bottles of sodas from supermarket, carrying them walking at least 2 flights of stairs, separating the trash for recycle and dragging bags of empty bottles out which he promised he will help but rarely does. i bought sodastream totally because i m lazy but not being eco-friendly at all. the 1st day we received them, he made 4 different flavors and made me to finish them all with him that night. he loves to play with the loud buzz button and constantly needs new bottle for another flavor as the starter kit comes with only 1 bpa free bottle.  i never like anything fizzy while he likes it bubbles until his blood fizz like the soda. we tried #1.fountain mist #2.orange #3. lemon-lime #4.diet cola respectively. he hates anything \"diet\" and complained even the non diet syrups taste like diet. the last one he tested from the variety pack was the diet cola as it doesn't come with the regular cola which he craved. i said the diet cola taste like the regular cola n yuck. he agreed with the yuck but blah blah blah about the taste different between the regular coka cola coke n this sodamix diet cola syrup.  he believed that the sodamix regular cola syrup must be better than the diet one and planned to get it the next day. suddenly he screamed out \"splen-daaaaa\" in a weird accent while he was reading the ingredients/ nutrition facts. he lost interests in this variety pack and tried to fizz everything drinkable in the fridge: #5. welch's white grape cherry juice just by itself without water, it exploded while the bottle is still intact to the machine, mess everywhere, he said \"errrk\". #6. water+ribena, considering carbonating the juice creates messes, we just carbonated the water and substitute the syrup with something else, with the same amount of the individually packaged syrup from the variety pack, ribena isnt as concentrated, i continued added more ribena but still taste bland and ended up ran out of ribena. #7. we bought the sodamix regular cola from BB&B the today, while pouring the syrup in after carbonating the water, it just splashed all over the counter top and the kitchen floor. better pour it inside the sink.  he said it tastes better than the diet syrup but still has a slightly aspartame/weird sugar after taste, not as good as the regular coca cola. #8. carbonated water+OJ: 1/4 cup of carbonated water + 3/4 cup of no pulp OJ = taste is ok, less strong, not fizzy. 1/2 cup of carbonated water + 3/4 cup of no pulp OJ: not fizzy and taste only with a tint of OJ. 1 cup of carbonated water + 1 cup of no pulp OJ, fizzy but bland.  We bought the sodamix cherry cola syrup, but we r full from drinking carbonated sugared liquid these 2 days. we will try it and update tomorrow.\n",
      "\n",
      "Review-3 : \n",
      " I also reviewed the Jones Soda Berry Pomegranate vitamin water and that one fell short because it was mostly water and sugar and cost over $1 per bottle.<br /><br />The Switch Orange Tangerine is much better in my opinion in terms of flavor. It's also carbonated up quite a bit and has added ascorbic acid (Vitamin C) which gives it a lot of tang/bite. For me it isn't unpleasant at all - I like it.<br /><br />Contrary to other reviews, I don't get the medicine aftertaste. It's just a good, refreshing, carbonated drink. I tried this after getting in from a fairly warm bike ride and it does a pretty good job of quenching thirst. I tried it straight from a room temperature can and over ice and both were great. I like it over ice better, though. Then, just for fun, I added some Malibu rum to see how it was as a mixer and it's not bad. I won't be asking for it at a bar, but it gets the fruity flavor with the coconut rum and I think if someone was creative, this could be a match made in heaven.<br /><br />The down side (to me) is this is another fairly pricey drink. The cans aren't full-size cans either. So for almost $1 per can you get a smallish 8.3 ounces but with regular sodas you get 12 ounces - half again as much. Of course, sodas aren't 100% juice either.<br /><br />Upshot is if I'm on a beach somewhere and hot and thirsty, I'd probably buy this. For stocking at home, I'll stick with regular frozen orange juice or orange juice in a carton. I would recommend trying it for yourself, though. This seems to be one of those drinks that could sway pretty hard depending on personal preferences.\n",
      "\n"
     ]
    }
   ],
   "source": [
    "# Three Reviews of cluster 7\n",
    "count=1\n",
    "for i in range(3):\n",
    "    if i < len(cluster7):\n",
    "        print('Review-%d : \\n %s\\n'%(count,cluster7[i]))\n",
    "        count +=1"
   ]
  },
  {
   "cell_type": "code",
   "execution_count": 30,
   "metadata": {},
   "outputs": [
    {
     "name": "stdout",
     "output_type": "stream",
     "text": [
      "Review-1 : \n",
      " I thought this coffee was too weak, and had a slightly sour aftertaste. I do prefer a bolder coffee, so perhaps someone who likes a lighter roast would enjoy it; I did not.<br /><br />For those with a Solofill, I tried this coffee using the refillable cup in my Keurig brewer, but it didn't work too well. I didn't see anything about the grind in the product description (maybe I just overlooked it), but this coffee is ground finely. If you do use it in the Solofill, spoon it in so it is very loose, then shake, or the water won't flow through well.\n",
      "\n",
      "Review-2 : \n",
      " Great coffee flavor in a decaf blend, and I like my coffee. And the convenience of the K cup.\n",
      "\n",
      "Review-3 : \n",
      " The coffee arrived quickly. It has a good flavor. I'm not sure what the \"(Misc.)\" means in the title. I thought it meant a variet pack, but all the K cups are the same. I'm glad they didn't end up being a mild brew or decaf.<br />The k cups are loose in the box, so there were a few grounds on the bottom of the box, but I haven't been through all the cups yet, so I don't know if some of them came open a little or what.\n",
      "\n"
     ]
    }
   ],
   "source": [
    "# Three Reviews of cluster 8\n",
    "count=1\n",
    "for i in range(3):\n",
    "    if i < len(cluster8):\n",
    "        print('Review-%d : \\n %s\\n'%(count,cluster8[i]))\n",
    "        count +=1"
   ]
  },
  {
   "cell_type": "code",
   "execution_count": 31,
   "metadata": {},
   "outputs": [
    {
     "name": "stdout",
     "output_type": "stream",
     "text": [
      "Review-1 : \n",
      " Some of the finest tea I've had.  It is a pleasure on the palette, as well as to the nose.  In addition to the wonderful taste and aroma, this tea (The Choice Organic Tea line) is \"Fair Trade\".<br /><br />This tea is caffeine free and delicious hot or cold. --> i have added 2 bags when brewing in the sun for iced tea.  Delicious, when sweetened with natural honey!<br /><br />It is important to believe in a product, and this one uses as many Fair Trade ingredients as possible.\n",
      "\n",
      "Review-2 : \n",
      " When I read comments that this tea was similar to Earl Gray I decided to try it.  It is nothing like Earl Gray and it does have a flavor and odor that is tough to get used to.  I haven't had any trouble with any of the tea bags breaking open like some of the raters.\n",
      "\n",
      "Review-3 : \n",
      " Twinings English Afternoon Tea is a superb hot tea, delicious with milk and sugar, with a full, somewhat fruity flavor. Do not be afraid that this is a \"watered-down\" or weak version of the Breakfast Tea! It is every bit as full-bodied and hearty, just different, and perfect for a bit of variety. I love the English Breakfast Tea too. Try the Afternoon Tea. You won't be sorry.\n",
      "\n"
     ]
    }
   ],
   "source": [
    "# Three Reviews of cluster 9\n",
    "count=1\n",
    "for i in range(3):\n",
    "    if i < len(cluster9):\n",
    "        print('Review-%d : \\n %s\\n'%(count,cluster9[i]))\n",
    "        count +=1"
   ]
  },
  {
   "cell_type": "code",
   "execution_count": 32,
   "metadata": {},
   "outputs": [
    {
     "name": "stdout",
     "output_type": "stream",
     "text": [
      "Review-1 : \n",
      " Fuzzy Wuzzy's Summary:<br />**** Recommended with warm fuzzies.<br /><br />I just received my single 2.25-ounce bar this morning and it was a good thing that I already ate breakfast as I nibbled (instead of chomped) on this with my morning coffee.  I have always liked all of Newman's line of foods, because they taste good and are made of high-quality ingredients, and because his foundation donates hundreds of millions of dollars to charities throughout the world.  (And I love his movies! :-)  Paul Newman walked the philanthropic walk in helping to make the world a better place.<br /><br />This 54% cocoa dark chocolate bar has an all-organic ingredient list that is free of artificial sweetener and extraneous additives and fillers, which is all too common in chocolates, candies, and foods these days.<br /><br />Note that, at the time of this review's writing, the \"Ingredients\" and \"Nutrition Facts\" listed on Amazon's site for this dark chocolate bar are actually copied from another \"Newman's\" chocolate bar, <a href=\"http://www.amazon.com/gp/product/B002NHYQQC\">Newman's Own Organics Milk Chocolate Bar, 2.25-Ounce Bars (Pack of 12)</a> , and so this information that is currently listed on Amazon's site for this dark chocolate does NOT apply to this product; it refers to Newman's Milk Chocolate.  Hopefully, Amazon will correct the listings in these two sections for this product.<br /><br />Amazon's \"Ingredients\" listing: Organic Milk Chocolate (Organic Evaporated Cane Juice, Organic Cocoa Butter, Organic Whole Milk Powder, Organic Chocolate Liquor, Organic Soy Lecithin [An Emulsifier], Organic Vanilla), Natural Coffee Flavor.<br /><br />Actual Wrapper's \"Ingredients\" listing: Organic Dark Chocolate (Organic evaporated cane juice, organic chocolate liquor, organic cocoa butter, organic soy lecithin [an emulsifier], organic vanilla).<br /><br />Wrapper's \"Nutrition Facts\" listing (with Amazon's corresponding \"Nutrition Facts\" listing, that actually apply to Newman's Milk Chocolate bar, in parentheses):<br /><br />Calories:  330 (340)<br />Calories from Fat: 200 (190)<br />Total Fat:  22g 34%DV (23g 35%DV)<br />Saturated Fat:  13g 65%DV (12g 60%DV)<br />Monounsaturated and Trans Fat: 0g (0g)<br />Cholesterol:  0g 0%DV (5mg 2%DV)<br />Sodium:  5mg (30mg)<br />Total Carbohydrate: 37g 12%DV (37g 12%DV)<br />Fiber:  4g 16%DV (1g 4%DV)<br />Sugars:  28g (33g)<br />Protein:  3g (3g)<br />Vitamin A:  0% (2%)<br />Vitamin C:  0% (2%)<br />Calcium:  2% (20%)<br />Iron:  10% (15%)<br /><br />So Newman's Own Organics Milk Chocolate Bar has more vitamins, calcium, and iron due to its use of milk, while the dark chocolate has more fiber and less sodium.  Many people do not consider chocolate to be a high-fiber food, but dark chocolate (not milk chocolate) ranks among the top-20 for high-fiber foods.  Dark chocolate is loaded with flavonoids that act as antioxidants, keeping your heart healthy and reducing oxidative stress.  Flavonoids also balance hormones in your body, and they activate endothelial nitric oxide synthase levels in your body (biochemical gibberish that translates to \"helps regulate your blood pressure\" :-)  Studies have also shown that dark chocolate, perhaps due to its increased fiber content, makes you feel more \"filled up\", giving you more of a feeling of satiety compared with eating milk chocolate.<br /><br />At the time of this review's writing, Amazon had not yet priced this chocolate. But even if it was priced higher than other dark chocolates offered by the larger candy factories, I would still buy this because I believe in Newman's cause and charities.  I also love dark chocolate that is combined with nuts and/or berries, such as the Chocolove dark chocolates, and I hope that the \"Newman's\" dark chocolates line also eventually includes those.<br /><br />I love dark chocolates with cocoa content that goes to 77% and beyond, but these are not as sweet and have a subtle bitterness compared to dark chocolates with lower cocoa content.  The 54% cocoa content of this Newman's bar strikes a happy balance of sweetness that will appeal to those who are more accustomed to milk chocolate's sweetness.  This chocolate is not as sweet as some of the other 54-55% cocoa dark chocolates out there because many dark chocolates add higher amounts of extra sugar to their bars.  The flavor of this chocolate is nice, but with a slightly fibrous texture; just don't expect it to be as sweet as some of the more-sweetened dark chocolates on the market or else you may think that this tastes a bit bland compared to them.  Likewise, some people think that heavily-salted food tastes better than lightly-salted food.  The \"evaporated cane juice\" used as a sweetener in this chocolate is a healthier alternative than the processed sugar that is included in many chocolate bars (including the Belgium-made Chocolove bars that I love).  Both refined sugar and cane juice come from sugar cane, but cane juice is less processed and retains more nutrients.  So enjoy this smooth rich dark chocolate \"health food\" guilt-free, but in moderation.  I certainly will enjoy eating the rest of this chocolate bar while watching my DVD of <a href=\"http://www.amazon.com/gp/product/B0019UGYK0\">Cool Hand Luke (Deluxe Edition)</a>\n",
      "\n"
     ]
    }
   ],
   "source": [
    "# Three Reviews of cluster 10\n",
    "count=1\n",
    "for i in range(3):\n",
    "    if i < len(cluster10):\n",
    "        print('Review-%d : \\n %s\\n'%(count,cluster10[i]))\n",
    "        count +=1"
   ]
  },
  {
   "cell_type": "markdown",
   "metadata": {},
   "source": [
    "# (2) TFIDF"
   ]
  },
  {
   "cell_type": "code",
   "execution_count": 33,
   "metadata": {},
   "outputs": [
    {
     "name": "stdout",
     "output_type": "stream",
     "text": [
      "the type of count vectorizer : <class 'scipy.sparse.csr.csr_matrix'>\n",
      "the shape of out text TFIDF vectorizer :  (5000, 347)\n",
      "the number of unique words : 347\n"
     ]
    }
   ],
   "source": [
    "tf_idf_vect = TfidfVectorizer(min_df=100)\n",
    "data = tf_idf_vect.fit_transform(x)\n",
    "print(\"the type of count vectorizer :\",type(data))\n",
    "print(\"the shape of out text TFIDF vectorizer : \",data.get_shape())\n",
    "print(\"the number of unique words :\", data.get_shape()[1])"
   ]
  },
  {
   "cell_type": "markdown",
   "metadata": {},
   "source": [
    "# Hierarchical Clustering with 2 clusters"
   ]
  },
  {
   "cell_type": "code",
   "execution_count": 34,
   "metadata": {},
   "outputs": [
    {
     "name": "stdout",
     "output_type": "stream",
     "text": [
      "No. of reviews in Cluster-1 :  4743\n",
      "\n",
      "No. of reviews in Cluster-2 :  257\n"
     ]
    }
   ],
   "source": [
    "model = AgglomerativeClustering(n_clusters=2).fit(data.toarray())\n",
    "\n",
    "reviews = my_final['Text'].values\n",
    "# Getting all the reviews in different clusters\n",
    "cluster1 = []\n",
    "cluster2 = []\n",
    "\n",
    "for i in range(model.labels_.shape[0]):\n",
    "    if model.labels_[i] == 0:\n",
    "        cluster1.append(reviews[i])\n",
    "    else :\n",
    "        cluster2.append(reviews[i])\n",
    " \n",
    "        \n",
    "# Number of reviews in different clusters\n",
    "print(\"No. of reviews in Cluster-1 : \",len(cluster1))\n",
    "print(\"\\nNo. of reviews in Cluster-2 : \",len(cluster2))"
   ]
  },
  {
   "cell_type": "markdown",
   "metadata": {},
   "source": [
    "READING REVIEWS MANUALLY:"
   ]
  },
  {
   "cell_type": "code",
   "execution_count": 35,
   "metadata": {},
   "outputs": [
    {
     "name": "stdout",
     "output_type": "stream",
     "text": [
      "Review-1 : \n",
      " I first tried this product on Princess cruise and since bought it online from Amazon.  I like how there are 25 bags which retains its freshness.  I will definitely be purchasing this product on a continuous basis for my coffee each morning!\n",
      "\n",
      "Review-2 : \n",
      " I made crab rangoon and used this sauce as a dipping sauce.  It was great.  I love the fact that it doesn't have MSG in it.  It has the right amount of sweetness.  It is a little spicy, but just the right amount.\n",
      "\n",
      "Review-3 : \n",
      " Awful Awful taste...and phosphoric sick color...<br />Awful Awful taste...and phosphoric sick color...<br />Awful Awful taste...and phosphoric sick color...<br /><br />I was totally schemed, this is not a drink. it is an acid poison.<br />Who for god sake manufacture and sale this kind of awful product.<br /><br />Don't believe it? try for your self.<br />I only show \"The king is naked\"\n",
      "\n"
     ]
    }
   ],
   "source": [
    "# Three Reviews of cluster 1\n",
    "count=1\n",
    "for i in range(3):\n",
    "    print('Review-%d : \\n %s\\n'%(count,cluster1[i]))\n",
    "    count +=1"
   ]
  },
  {
   "cell_type": "code",
   "execution_count": 36,
   "metadata": {},
   "outputs": [
    {
     "name": "stdout",
     "output_type": "stream",
     "text": [
      "Review-1 : \n",
      " I have tried literally dozens of teas since being introduced to the Russian custom of preparing and drinking tea, and the Ahmad Imperial blend is probably my favorite of all of these due to the fact that it is equally delicious hot or iced.  I buy the three-packs as needed from Amazon and go through them rapidly. My family loves it and my friends have it in their homes now too, try one box of it and you will love it too.\n",
      "\n",
      "Review-2 : \n",
      " No idea why some people are saying this is bad... I guess it doesnt compare to the teas when you're actually in Thailand or something. As for me, this tastes just like the tea from every thai restaraunt i've been to... which is a good thing! No complaints from me , I found what I was looking for. Only giving 4 stars cause I reserve 5 for products which truly blow my mind\n",
      "\n",
      "Review-3 : \n",
      " Some of the finest tea I've had.  It is a pleasure on the palette, as well as to the nose.  In addition to the wonderful taste and aroma, this tea (The Choice Organic Tea line) is \"Fair Trade\".<br /><br />This tea is caffeine free and delicious hot or cold. --> i have added 2 bags when brewing in the sun for iced tea.  Delicious, when sweetened with natural honey!<br /><br />It is important to believe in a product, and this one uses as many Fair Trade ingredients as possible.\n",
      "\n"
     ]
    }
   ],
   "source": [
    "# Three Reviews of cluster 2\n",
    "count=1\n",
    "for i in range(3):\n",
    "    if i < len(cluster2):\n",
    "        print('Review-%d : \\n %s\\n'%(count,cluster2[i]))\n",
    "        count +=1"
   ]
  },
  {
   "cell_type": "markdown",
   "metadata": {},
   "source": [
    "# Hierarchical Clustering with 5 clusters"
   ]
  },
  {
   "cell_type": "code",
   "execution_count": 37,
   "metadata": {},
   "outputs": [
    {
     "name": "stdout",
     "output_type": "stream",
     "text": [
      "No. of reviews in Cluster-1 :  4146\n",
      "\n",
      "No. of reviews in Cluster-2 :  212\n",
      "\n",
      "No. of reviews in Cluster-3 :  289\n",
      "\n",
      "No. of reviews in Cluster-4 :  257\n",
      "\n",
      "No. of reviews in Cluster-5 :  96\n"
     ]
    }
   ],
   "source": [
    "model = AgglomerativeClustering(n_clusters=5).fit(data.toarray())\n",
    "\n",
    "# Getting all the reviews in different clusters\n",
    "cluster1 = []\n",
    "cluster2 = []\n",
    "cluster3 = []\n",
    "cluster4 = []\n",
    "cluster5 = []\n",
    "\n",
    "for i in range(model.labels_.shape[0]):\n",
    "    if model.labels_[i] == 0:\n",
    "        cluster1.append(reviews[i])\n",
    "    elif model.labels_[i] == 1:\n",
    "        cluster2.append(reviews[i])\n",
    "    elif model.labels_[i] == 2:\n",
    "        cluster3.append(reviews[i])\n",
    "    elif model.labels_[i] == 3:\n",
    "        cluster4.append(reviews[i])\n",
    "    else :\n",
    "        cluster5.append(reviews[i]) \n",
    "        \n",
    "# Number of reviews in different clusters\n",
    "print(\"No. of reviews in Cluster-1 : \",len(cluster1))\n",
    "print(\"\\nNo. of reviews in Cluster-2 : \",len(cluster2))\n",
    "print(\"\\nNo. of reviews in Cluster-3 : \",len(cluster3))\n",
    "print(\"\\nNo. of reviews in Cluster-4 : \",len(cluster4))\n",
    "print(\"\\nNo. of reviews in Cluster-5 : \",len(cluster5)) "
   ]
  },
  {
   "cell_type": "markdown",
   "metadata": {},
   "source": [
    "READING REVIEWS MANUALLY:"
   ]
  },
  {
   "cell_type": "code",
   "execution_count": 38,
   "metadata": {},
   "outputs": [
    {
     "name": "stdout",
     "output_type": "stream",
     "text": [
      "Review-1 : \n",
      " I first tried this product on Princess cruise and since bought it online from Amazon.  I like how there are 25 bags which retains its freshness.  I will definitely be purchasing this product on a continuous basis for my coffee each morning!\n",
      "\n",
      "Review-2 : \n",
      " I made crab rangoon and used this sauce as a dipping sauce.  It was great.  I love the fact that it doesn't have MSG in it.  It has the right amount of sweetness.  It is a little spicy, but just the right amount.\n",
      "\n",
      "Review-3 : \n",
      " Awful Awful taste...and phosphoric sick color...<br />Awful Awful taste...and phosphoric sick color...<br />Awful Awful taste...and phosphoric sick color...<br /><br />I was totally schemed, this is not a drink. it is an acid poison.<br />Who for god sake manufacture and sale this kind of awful product.<br /><br />Don't believe it? try for your self.<br />I only show \"The king is naked\"\n",
      "\n"
     ]
    }
   ],
   "source": [
    "# Three Reviews of cluster 1\n",
    "count=1\n",
    "for i in range(3):\n",
    "    if i < len(cluster1):\n",
    "        print('Review-%d : \\n %s\\n'%(count,cluster1[i]))\n",
    "        count +=1"
   ]
  },
  {
   "cell_type": "code",
   "execution_count": 39,
   "metadata": {},
   "outputs": [
    {
     "name": "stdout",
     "output_type": "stream",
     "text": [
      "Review-1 : \n",
      " Given that our dogs don't get rawhide treats often, we thought they might like to try these. However, both our 70 lb Aussie and 10 lb. Papillon rejected them. The Aussie eventually gave in and tried to bury one in the back yard, but never bothered to cover the hole. This is pretty important, because our boys will eat nearly anything! These were a nice size for small or large dogs, but neither seemed interested, despite that fact.  That said, these two dogs of ours love dehydrated cow lungs and organic carrots for snacks, so perhaps their pallates are just too refined for cardboard filled rawhide chews.\n",
      "\n",
      "Review-2 : \n",
      " I must say these are the best puffed lamb ears we've tried and my dog who normally has a very sensitive stomach can eat as many as she wants and never gets ill from them. They are crunchy and fun and smell good too; all the things a dog likes in a treat. We buy them all the time.\n",
      "\n",
      "Review-3 : \n",
      " I have two golden retrievers with hearty appetites.  Feeding them regular dog food makes them overweight.  I switched to Core Reduced Fat when I began to worry about the quality of the food I was feeding my dogs.  I had fed my dogs expensive dog foods which I got at the grocery store.  When I read the ingredients, I decied to look for something better quality.  From my research I learned that high quality dog foods prevent illness and disease and increase life-span.  Core is made with ingredients like real chicken--not chicken by-products or lots of grain.  Afterall, dogs are carnivores.  Since my dogs have been on Core they have not had the usual ear infections, skin allergies and irritations; their coats are beautiful; they have lots of energy and are overall very healthy.  The extra money I pay for this high quality dog food I definitely save at the vet!\n",
      "\n"
     ]
    }
   ],
   "source": [
    "# Three Reviews of cluster 2\n",
    "count=1\n",
    "for i in range(3):\n",
    "    if i < len(cluster2):\n",
    "        print('Review-%d : \\n %s\\n'%(count,cluster2[i]))\n",
    "        count +=1"
   ]
  },
  {
   "cell_type": "code",
   "execution_count": 40,
   "metadata": {},
   "outputs": [
    {
     "name": "stdout",
     "output_type": "stream",
     "text": [
      "Review-1 : \n",
      " I thought this coffee was too weak, and had a slightly sour aftertaste. I do prefer a bolder coffee, so perhaps someone who likes a lighter roast would enjoy it; I did not.<br /><br />For those with a Solofill, I tried this coffee using the refillable cup in my Keurig brewer, but it didn't work too well. I didn't see anything about the grind in the product description (maybe I just overlooked it), but this coffee is ground finely. If you do use it in the Solofill, spoon it in so it is very loose, then shake, or the water won't flow through well.\n",
      "\n",
      "Review-2 : \n",
      " I ordered a second case.  Makes great Dark and Stormies or very refreshing and medicinal cold out of the bottle.  My wife won't touch the stuff.  You got to like ginger or ginger ale. You will be disappointed if not.\n",
      "\n",
      "Review-3 : \n",
      " Usually do not get the breakfast blends but it was on sale and decided at price would try it out. It was not as weak as some breakfast blends tend to be. Not bad.\n",
      "\n"
     ]
    }
   ],
   "source": [
    "# Three Reviews of cluster 3\n",
    "count=1\n",
    "for i in range(3):\n",
    "    if i < len(cluster3):\n",
    "        print('Review-%d : \\n %s\\n'%(count,cluster3[i]))\n",
    "        count +=1"
   ]
  },
  {
   "cell_type": "code",
   "execution_count": 41,
   "metadata": {},
   "outputs": [
    {
     "name": "stdout",
     "output_type": "stream",
     "text": [
      "Review-1 : \n",
      " I have tried literally dozens of teas since being introduced to the Russian custom of preparing and drinking tea, and the Ahmad Imperial blend is probably my favorite of all of these due to the fact that it is equally delicious hot or iced.  I buy the three-packs as needed from Amazon and go through them rapidly. My family loves it and my friends have it in their homes now too, try one box of it and you will love it too.\n",
      "\n",
      "Review-2 : \n",
      " No idea why some people are saying this is bad... I guess it doesnt compare to the teas when you're actually in Thailand or something. As for me, this tastes just like the tea from every thai restaraunt i've been to... which is a good thing! No complaints from me , I found what I was looking for. Only giving 4 stars cause I reserve 5 for products which truly blow my mind\n",
      "\n",
      "Review-3 : \n",
      " Some of the finest tea I've had.  It is a pleasure on the palette, as well as to the nose.  In addition to the wonderful taste and aroma, this tea (The Choice Organic Tea line) is \"Fair Trade\".<br /><br />This tea is caffeine free and delicious hot or cold. --> i have added 2 bags when brewing in the sun for iced tea.  Delicious, when sweetened with natural honey!<br /><br />It is important to believe in a product, and this one uses as many Fair Trade ingredients as possible.\n",
      "\n"
     ]
    }
   ],
   "source": [
    "# Three Reviews of cluster 4\n",
    "count=1\n",
    "for i in range(3):\n",
    "    if i < len(cluster4):\n",
    "        print('Review-%d : \\n %s\\n'%(count,cluster4[i]))\n",
    "        count +=1"
   ]
  },
  {
   "cell_type": "code",
   "execution_count": 42,
   "metadata": {},
   "outputs": [
    {
     "name": "stdout",
     "output_type": "stream",
     "text": [
      "Review-1 : \n",
      " This is the best cat food for my feral cats! The 40 lb size is a great buy, and the cat food is good for them! you really can't beat the price for decent food for feeding a lot of cats!\n",
      "\n",
      "Review-2 : \n",
      " What a waste of money. All four cats (three indoor and one feral outdoor cat) won't eat the wet food. They like the juice and will lick that up, but they leave the meaty bits behind. I tried each flavor and not one cat will eat this stuff! I was hoping to save some money with Friskies, but it is what it is. And what it is is food that a hungry wild cat won't eat; she'd rather catch and eat mice. :\\ My suggestion is to go to the store and buy a couple different cans and try that out first. If your cat doesn't eat it, it'll save you from having 2 dozen paper weights.\n",
      "\n",
      "Review-3 : \n",
      " These are like candy for our cat, who goes crazy when she hears the bag rustle (or anything that sounds like it).  If you want to give your cats treats, they will probably love these.  They are also soft enough to wrap around a pill, so if you need to give your cat medicine they are a great option.  However, I only give 4 stars because I doubt the nutritional value of treats in general and I'm concerned with the almost addicting quality of these.\n",
      "\n"
     ]
    }
   ],
   "source": [
    "# Three Reviews of cluster 5\n",
    "count=1\n",
    "for i in range(3):\n",
    "    if i < len(cluster5):\n",
    "        print('Review-%d : \\n %s\\n'%(count,cluster5[i]))\n",
    "        count +=1"
   ]
  },
  {
   "cell_type": "markdown",
   "metadata": {},
   "source": [
    "# Hierarchical Clustering with 10 clusters"
   ]
  },
  {
   "cell_type": "code",
   "execution_count": 43,
   "metadata": {},
   "outputs": [],
   "source": [
    "model = AgglomerativeClustering(n_clusters=10).fit(data.toarray())\n",
    "# Getting all the reviews in different clusters\n",
    "cluster1 = []\n",
    "cluster2 = []\n",
    "cluster3 = []\n",
    "cluster4 = []\n",
    "cluster5 = []\n",
    "cluster6 = []\n",
    "cluster7 = []\n",
    "cluster8 = []\n",
    "cluster9 = []\n",
    "cluster10 = []\n",
    "\n",
    "for i in range(model.labels_.shape[0]):\n",
    "    if model.labels_[i] == 0:\n",
    "        cluster1.append(reviews[i])\n",
    "    elif model.labels_[i] == 1:\n",
    "        cluster2.append(reviews[i])\n",
    "    elif model.labels_[i] == 2:\n",
    "        cluster3.append(reviews[i])\n",
    "    elif model.labels_[i] == 3:\n",
    "        cluster4.append(reviews[i])\n",
    "    elif model.labels_[i] == 4:\n",
    "        cluster5.append(reviews[i])\n",
    "    elif model.labels_[i] == 5:\n",
    "        cluster6.append(reviews[i])\n",
    "    elif model.labels_[i] == 6:\n",
    "        cluster7.append(reviews[i])\n",
    "    elif model.labels_[i] == 7:\n",
    "        cluster8.append(reviews[i])\n",
    "    elif model.labels_[i] == 8:\n",
    "        cluster9.append(reviews[i])       \n",
    "    else :\n",
    "        cluster10.append(reviews[i]) "
   ]
  },
  {
   "cell_type": "code",
   "execution_count": 44,
   "metadata": {},
   "outputs": [
    {
     "name": "stdout",
     "output_type": "stream",
     "text": [
      "No. of reviews in Cluster-1 :  3745\n",
      "\n",
      "No. of reviews in Cluster-2 :  212\n",
      "\n",
      "No. of reviews in Cluster-3 :  147\n",
      "\n",
      "No. of reviews in Cluster-4 :  257\n",
      "\n",
      "No. of reviews in Cluster-5 :  71\n",
      "\n",
      "No. of reviews in Cluster-6 :  289\n",
      "\n",
      "No. of reviews in Cluster-7 :  64\n",
      "\n",
      "No. of reviews in Cluster-8 :  62\n",
      "\n",
      "No. of reviews in Cluster-9 :  57\n",
      "\n",
      "No. of reviews in Cluster-10 :  96\n"
     ]
    }
   ],
   "source": [
    "# Number of reviews in different clusters\n",
    "print(\"No. of reviews in Cluster-1 : \",len(cluster1))\n",
    "print(\"\\nNo. of reviews in Cluster-2 : \",len(cluster2))\n",
    "print(\"\\nNo. of reviews in Cluster-3 : \",len(cluster3))\n",
    "print(\"\\nNo. of reviews in Cluster-4 : \",len(cluster4))\n",
    "print(\"\\nNo. of reviews in Cluster-5 : \",len(cluster5)) \n",
    "print(\"\\nNo. of reviews in Cluster-6 : \",len(cluster6))\n",
    "print(\"\\nNo. of reviews in Cluster-7 : \",len(cluster7))\n",
    "print(\"\\nNo. of reviews in Cluster-8 : \",len(cluster8))\n",
    "print(\"\\nNo. of reviews in Cluster-9 : \",len(cluster9))\n",
    "print(\"\\nNo. of reviews in Cluster-10 : \",len(cluster10))"
   ]
  },
  {
   "cell_type": "markdown",
   "metadata": {},
   "source": [
    "READING REVIEWS MANUALLY:"
   ]
  },
  {
   "cell_type": "code",
   "execution_count": 45,
   "metadata": {},
   "outputs": [
    {
     "name": "stdout",
     "output_type": "stream",
     "text": [
      "Review-1 : \n",
      " I first tried this product on Princess cruise and since bought it online from Amazon.  I like how there are 25 bags which retains its freshness.  I will definitely be purchasing this product on a continuous basis for my coffee each morning!\n",
      "\n",
      "Review-2 : \n",
      " Awful Awful taste...and phosphoric sick color...<br />Awful Awful taste...and phosphoric sick color...<br />Awful Awful taste...and phosphoric sick color...<br /><br />I was totally schemed, this is not a drink. it is an acid poison.<br />Who for god sake manufacture and sale this kind of awful product.<br /><br />Don't believe it? try for your self.<br />I only show \"The king is naked\"\n",
      "\n",
      "Review-3 : \n",
      " This is a really nice product for those who want to consume healthful things. Refreshing, tasty and guiltless beverages are too few and far between these days, but this qualifies.<br /><br />Far too many \"vitamin drinks\" on the shelf are packed with empty calories, high-fructose corn syrup, and no actual fruit juice (or anything else good for you, for that matter). This is a refreshing exception.<br /><br />The pros: 70% juice, not overly calorie-ridden, the Izze drinks DO contain a bit of Vitamins C, B6 and Niacin, but do NOT contain any dreaded (and seemingly ubiquitous) high-fructose corn syrup (about which I have heard nothing good. Not one thing), and it tastes really good.<br /><br />The cons: Okay, not so much a con perhaps, but one should be aware that the product contains no more than 10% of the RDA of any of the aforementioned vitamins and minerals.<br /><br />So as long as you don't think of it as a magic health elixir, but rather as a great-tasting, refreshing drink that appears to contain nothing bad for you, I think you will enjoy this drink as much as I have.\n",
      "\n"
     ]
    }
   ],
   "source": [
    "# Three Reviews of cluster 1\n",
    "count=1\n",
    "for i in range(3):\n",
    "    if i < len(cluster1):\n",
    "        print('Review-%d : \\n %s\\n'%(count,cluster1[i]))\n",
    "        count +=1"
   ]
  },
  {
   "cell_type": "code",
   "execution_count": 46,
   "metadata": {},
   "outputs": [
    {
     "name": "stdout",
     "output_type": "stream",
     "text": [
      "Review-1 : \n",
      " Given that our dogs don't get rawhide treats often, we thought they might like to try these. However, both our 70 lb Aussie and 10 lb. Papillon rejected them. The Aussie eventually gave in and tried to bury one in the back yard, but never bothered to cover the hole. This is pretty important, because our boys will eat nearly anything! These were a nice size for small or large dogs, but neither seemed interested, despite that fact.  That said, these two dogs of ours love dehydrated cow lungs and organic carrots for snacks, so perhaps their pallates are just too refined for cardboard filled rawhide chews.\n",
      "\n",
      "Review-2 : \n",
      " I must say these are the best puffed lamb ears we've tried and my dog who normally has a very sensitive stomach can eat as many as she wants and never gets ill from them. They are crunchy and fun and smell good too; all the things a dog likes in a treat. We buy them all the time.\n",
      "\n",
      "Review-3 : \n",
      " I have two golden retrievers with hearty appetites.  Feeding them regular dog food makes them overweight.  I switched to Core Reduced Fat when I began to worry about the quality of the food I was feeding my dogs.  I had fed my dogs expensive dog foods which I got at the grocery store.  When I read the ingredients, I decied to look for something better quality.  From my research I learned that high quality dog foods prevent illness and disease and increase life-span.  Core is made with ingredients like real chicken--not chicken by-products or lots of grain.  Afterall, dogs are carnivores.  Since my dogs have been on Core they have not had the usual ear infections, skin allergies and irritations; their coats are beautiful; they have lots of energy and are overall very healthy.  The extra money I pay for this high quality dog food I definitely save at the vet!\n",
      "\n"
     ]
    }
   ],
   "source": [
    "# Three Reviews of cluster 2\n",
    "count=1\n",
    "for i in range(3):\n",
    "    if i < len(cluster2):\n",
    "        print('Review-%d : \\n %s\\n'%(count,cluster2[i]))\n",
    "        count +=1"
   ]
  },
  {
   "cell_type": "code",
   "execution_count": 47,
   "metadata": {},
   "outputs": [
    {
     "name": "stdout",
     "output_type": "stream",
     "text": [
      "Review-1 : \n",
      " 25calories! And chocolate! I am on weight watchers and this is only one point! I love this for night time treat.\n",
      "\n",
      "Review-2 : \n",
      " Both the oatmeal and double chocolate chunk taste and look like quality products. They are both very rich ingredients and especially for the chocolate one, you can definitely taste the chocolatey chunks (and see them on your hands too)!<br /><br />Unfortunately the other reviewer is correct, these are very dry. Eat them with a coffee, tea or milk and it's a great pairing. If you don't have water or some other drink lying around you will probably find these hard to stomach and swallow.\n",
      "\n",
      "Review-3 : \n",
      " I received a free sample of this bar from Influenster.com.  I really enjoyed this bar.  It's a great alternative to eating candy bars or unhealthy sweets.  If you are working and need a mid-day snack, these are great.  I can also see how they'd be a great bar to eat in the mornings if you are running late but want to make sure you don't skip breakfast.  You can eat it on the go. It tastes great and it's a better snack to eat than most items you'll find in a vending machine. I will be buying a box of these in the future.\n",
      "\n"
     ]
    }
   ],
   "source": [
    "# Three Reviews of cluster 3\n",
    "count=1\n",
    "for i in range(3):\n",
    "    if i < len(cluster3):\n",
    "        print('Review-%d : \\n %s\\n'%(count,cluster3[i]))\n",
    "        count +=1"
   ]
  },
  {
   "cell_type": "code",
   "execution_count": 48,
   "metadata": {},
   "outputs": [
    {
     "name": "stdout",
     "output_type": "stream",
     "text": [
      "Review-1 : \n",
      " I have tried literally dozens of teas since being introduced to the Russian custom of preparing and drinking tea, and the Ahmad Imperial blend is probably my favorite of all of these due to the fact that it is equally delicious hot or iced.  I buy the three-packs as needed from Amazon and go through them rapidly. My family loves it and my friends have it in their homes now too, try one box of it and you will love it too.\n",
      "\n",
      "Review-2 : \n",
      " No idea why some people are saying this is bad... I guess it doesnt compare to the teas when you're actually in Thailand or something. As for me, this tastes just like the tea from every thai restaraunt i've been to... which is a good thing! No complaints from me , I found what I was looking for. Only giving 4 stars cause I reserve 5 for products which truly blow my mind\n",
      "\n",
      "Review-3 : \n",
      " Some of the finest tea I've had.  It is a pleasure on the palette, as well as to the nose.  In addition to the wonderful taste and aroma, this tea (The Choice Organic Tea line) is \"Fair Trade\".<br /><br />This tea is caffeine free and delicious hot or cold. --> i have added 2 bags when brewing in the sun for iced tea.  Delicious, when sweetened with natural honey!<br /><br />It is important to believe in a product, and this one uses as many Fair Trade ingredients as possible.\n",
      "\n"
     ]
    }
   ],
   "source": [
    "# Three Reviews of cluster 4\n",
    "count=1\n",
    "for i in range(3):\n",
    "    if i < len(cluster4):\n",
    "        print('Review-%d : \\n %s\\n'%(count,cluster4[i]))\n",
    "        count +=1"
   ]
  },
  {
   "cell_type": "code",
   "execution_count": 49,
   "metadata": {},
   "outputs": [
    {
     "name": "stdout",
     "output_type": "stream",
     "text": [
      "Review-1 : \n",
      " This oil is not liquid at room temperature. Also, it has a relatively low smoke point. Those facts out of they way, this is a very high quality coconut oil. It smells wonderful and everything cooked in it takes on a hint of coconut. I use this in my coffee, fry eggs in it, saute spinach in it, as well as enjoy a tablespoon of it before my workouts. I have read that there are non-food related things you can do with this as well (good for skin, etc) but I have only experienced it through a culinary lens.\n",
      "\n",
      "Review-2 : \n",
      " I had been wanting to try rice bran oil for several months, but couldn't find it anywhere locally.  I even went to an Asian grocery store and they had never heard of it!  After searching I discovered that Amazon had the Tophe 1/2 gallon rice bran oil for a better price than any other that I could find, so I ordered two of them.  I poured both into my deep fryer, and WOW!  I couldn't believe how easily and perfectly everything browned, and everything came out perfectly crispy on the outside.  On the inside, very moist and delicious.  Plus, this oil doesn't soak into the food like a lot of other oils, so you don't really get an oily or greasy taste.  I just received my next three bottles so I can change out the fryer next time.  I'm totally sold on this oil, and I really don't understand why it's not available everywhere. It browns and crisps better than peanut oil, is better for you than canola oil, has a higher smoke point than most oils, has a light taste that doesn't stick to foods, and makes a fantastic coating for charcoal grills to keep food from sticking to them.  After just a few weeks those are my observations, and I'm still finding things I like.  This is really THE PERFECT FRYING OIL.\n",
      "\n",
      "Review-3 : \n",
      " I'm new to truffle oils and the first few purchases I couldn't get what I was looking for. This one hit right on the spot; my risotto is excellent. Try this one:<br />[...]<br />add TBS of the truffle oil and you will be in heaven\n",
      "\n"
     ]
    }
   ],
   "source": [
    "# Three Reviews of cluster 5\n",
    "count=1\n",
    "for i in range(3):\n",
    "    if i < len(cluster5):\n",
    "        print('Review-%d : \\n %s\\n'%(count,cluster5[i]))\n",
    "        count +=1"
   ]
  },
  {
   "cell_type": "code",
   "execution_count": 50,
   "metadata": {},
   "outputs": [
    {
     "name": "stdout",
     "output_type": "stream",
     "text": [
      "Review-1 : \n",
      " I thought this coffee was too weak, and had a slightly sour aftertaste. I do prefer a bolder coffee, so perhaps someone who likes a lighter roast would enjoy it; I did not.<br /><br />For those with a Solofill, I tried this coffee using the refillable cup in my Keurig brewer, but it didn't work too well. I didn't see anything about the grind in the product description (maybe I just overlooked it), but this coffee is ground finely. If you do use it in the Solofill, spoon it in so it is very loose, then shake, or the water won't flow through well.\n",
      "\n",
      "Review-2 : \n",
      " I ordered a second case.  Makes great Dark and Stormies or very refreshing and medicinal cold out of the bottle.  My wife won't touch the stuff.  You got to like ginger or ginger ale. You will be disappointed if not.\n",
      "\n",
      "Review-3 : \n",
      " Usually do not get the breakfast blends but it was on sale and decided at price would try it out. It was not as weak as some breakfast blends tend to be. Not bad.\n",
      "\n"
     ]
    }
   ],
   "source": [
    "# Three Reviews of cluster 6\n",
    "count=1\n",
    "for i in range(3):\n",
    "    if i < len(cluster6):\n",
    "        print('Review-%d : \\n %s\\n'%(count,cluster6[i]))\n",
    "        count +=1"
   ]
  },
  {
   "cell_type": "code",
   "execution_count": 51,
   "metadata": {},
   "outputs": [
    {
     "name": "stdout",
     "output_type": "stream",
     "text": [
      "Review-1 : \n",
      " Completely opposite of other reviewer.  I love these cookies.  However, if you are looking for a cookie that is laden with sugar and chemicals, this is not it.  These aren't overly sweet.  And really not too much chocolate taste in these either.  But I like them.  Finally, a cookie that tastes good that I can eat.  No chemicals, very little salt (35mg) and only 5mg cholesterol.  Oh, and the sugar is only 3g.  So, definitely not sweet.\n",
      "\n",
      "Review-2 : \n",
      " These cookies are tasty.  At times they're a normal part of my daily diet.  I've eaten a bag for breakfast on multiple occasions.  Also try Trader Joe's vegan trail mix cookies for an alternative.  I can't decide which ones I like better.  TJ's are chewier.  Both rank as my favorite cookies.\n",
      "\n",
      "Review-3 : \n",
      " These are delicious! They taste like little shortbread cookies and are coated with a powdery \"frosting\" flavored powder. I love that they're made with whole grains and at 140 calories for 35 crackers they make a great snack!\n",
      "\n"
     ]
    }
   ],
   "source": [
    "# Three Reviews of cluster 7\n",
    "count=1\n",
    "for i in range(3):\n",
    "    if i < len(cluster7):\n",
    "        print('Review-%d : \\n %s\\n'%(count,cluster7[i]))\n",
    "        count +=1"
   ]
  },
  {
   "cell_type": "code",
   "execution_count": 52,
   "metadata": {},
   "outputs": [
    {
     "name": "stdout",
     "output_type": "stream",
     "text": [
      "Review-1 : \n",
      " I made crab rangoon and used this sauce as a dipping sauce.  It was great.  I love the fact that it doesn't have MSG in it.  It has the right amount of sweetness.  It is a little spicy, but just the right amount.\n",
      "\n",
      "Review-2 : \n",
      " Best hot sauce, I've ever tried!!! DO NOT BE SKEPTIC about this! Read all reviews on the I-net, before you order. Just ONE DROP will do it! I mean it! I love spicy food, but this sauce can make you cry and sweat and your a*hole won't be happy, trust me!<br />Tabasco is a sweet tea in comparison to Dave's Insanity!<br />Never ever try it on your friends or as a prank! NEVER! Enjoy!\n",
      "\n",
      "Review-3 : \n",
      " I decided to try these noodles with pesto sauce. They were great! They are whole grain buckwheat which is supposed to be nutritious and they taste good. I will use them instead of other pastas whenever I can.\n",
      "\n"
     ]
    }
   ],
   "source": [
    "# Three Reviews of cluster 8\n",
    "count=1\n",
    "for i in range(3):\n",
    "    if i < len(cluster8):\n",
    "        print('Review-%d : \\n %s\\n'%(count,cluster8[i]))\n",
    "        count +=1"
   ]
  },
  {
   "cell_type": "code",
   "execution_count": 53,
   "metadata": {},
   "outputs": [
    {
     "name": "stdout",
     "output_type": "stream",
     "text": [
      "Review-1 : \n",
      " Really pleased with first order back in July. Not so much with the second order. When the second order arrived the packaging hinted at the difference. The first order was packaged better in a clear plastic bag inside the box. Second order came in gray plastic bag hiding the contents and was sloppily taped together. Inside was a baggie tied with a twist tie containing the candy that looked like someone did it in their kitchen almost. The product in the second order looked and tasted old, like something left in a warehouse too long. Candy is not fresh-tasting and it looks almost oxidized or something -- a strange, muddled color of purple. When I have bought Pops that looked like this at the store they always tasted old and were a little chewy. These look and taste the same, so guessing they have been sitting somewhere too long. The outer candy coating is chewy and somewhat soft (the middle is supposed to be chewy). So to sum: first order great tasting and nice package, second order tastes stale and the packaging was not as good. Both arrived quickly though, but probably won't buy this again.<br /><br />Update 10/12/2012: This order was not filled by Candy Mafia as I had thought. It was actually \"fulfilled\" by another Amazon vendor. I ordered from Candy Mafia previously and the product was excellent. So the review above does not apply to Candy Mafia.\n",
      "\n",
      "Review-2 : \n",
      " All of the cherry candys leaked out due to being crushed.  The Candy syrup stuck everything together.  I could not even get the paper off the second layer because of the gooey mess.  The chocolates were discolored.  When I previously ordered from Li'l Big Shots everything arrived in excellent condition.  Maybe ordering candy in the warm months is not a good idea.\n",
      "\n",
      "Review-3 : \n",
      " I've probably been consuming Starburst candies since they were invented and have tried every one of their flavors throughout the years.  This flavor, Morph, is their best one yet!  And yes, the flavor DOES change (morphs) half-way through the chewing.  Very, very YUMMY!!!!<br /><br />I wish that Starburst would add even more flavors, since the Morph only has orange and strawberry.  Why not make a grape-morphing-to-raspberry candy, or a green-apple-morphing-to-cherry selection?  Or a sweet-and-sour morph?  The sky's the limit!\n",
      "\n"
     ]
    }
   ],
   "source": [
    "# Three Reviews of cluster 9\n",
    "count=1\n",
    "for i in range(3):\n",
    "    if i < len(cluster9):\n",
    "        print('Review-%d : \\n %s\\n'%(count,cluster9[i]))\n",
    "        count +=1"
   ]
  },
  {
   "cell_type": "code",
   "execution_count": 54,
   "metadata": {},
   "outputs": [
    {
     "name": "stdout",
     "output_type": "stream",
     "text": [
      "Review-1 : \n",
      " This is the best cat food for my feral cats! The 40 lb size is a great buy, and the cat food is good for them! you really can't beat the price for decent food for feeding a lot of cats!\n",
      "\n",
      "Review-2 : \n",
      " What a waste of money. All four cats (three indoor and one feral outdoor cat) won't eat the wet food. They like the juice and will lick that up, but they leave the meaty bits behind. I tried each flavor and not one cat will eat this stuff! I was hoping to save some money with Friskies, but it is what it is. And what it is is food that a hungry wild cat won't eat; she'd rather catch and eat mice. :\\ My suggestion is to go to the store and buy a couple different cans and try that out first. If your cat doesn't eat it, it'll save you from having 2 dozen paper weights.\n",
      "\n",
      "Review-3 : \n",
      " These are like candy for our cat, who goes crazy when she hears the bag rustle (or anything that sounds like it).  If you want to give your cats treats, they will probably love these.  They are also soft enough to wrap around a pill, so if you need to give your cat medicine they are a great option.  However, I only give 4 stars because I doubt the nutritional value of treats in general and I'm concerned with the almost addicting quality of these.\n",
      "\n"
     ]
    }
   ],
   "source": [
    "# Three Reviews of cluster 10\n",
    "count=1\n",
    "for i in range(3):\n",
    "    if i < len(cluster10):\n",
    "        print('Review-%d : \\n %s\\n'%(count,cluster10[i]))\n",
    "        count +=1"
   ]
  },
  {
   "cell_type": "markdown",
   "metadata": {},
   "source": [
    "# Word2Vec"
   ]
  },
  {
   "cell_type": "code",
   "execution_count": 55,
   "metadata": {},
   "outputs": [
    {
     "name": "stdout",
     "output_type": "stream",
     "text": [
      "number of words that occured minimum 5 times  3149\n"
     ]
    }
   ],
   "source": [
    "# List of sentence in X_train text\n",
    "sent_x = []\n",
    "for sent in x :\n",
    "    sent_x.append(sent.split())\n",
    "  \n",
    "    \n",
    "# Train your own Word2Vec model using your own train text corpus \n",
    "# min_count = 5 considers only words that occured atleast 5 times\n",
    "w2v_model=Word2Vec(sent_x,min_count=5,size=50, workers=4)\n",
    "\n",
    "w2v_words = list(w2v_model.wv.vocab)\n",
    "print(\"number of words that occured minimum 5 times \",len(w2v_words))"
   ]
  },
  {
   "cell_type": "markdown",
   "metadata": {},
   "source": [
    "# (3). Avg Word2Vec"
   ]
  },
  {
   "cell_type": "code",
   "execution_count": 56,
   "metadata": {},
   "outputs": [],
   "source": [
    "# compute average word2vec for each review for sent_x .\n",
    "train_vectors = []; \n",
    "for sent in sent_x:\n",
    "    sent_vec = np.zeros(50) \n",
    "    cnt_words =0; \n",
    "    for word in sent: # \n",
    "        if word in w2v_words:\n",
    "            vec = w2v_model.wv[word]\n",
    "            sent_vec += vec\n",
    "            cnt_words += 1\n",
    "    if cnt_words != 0:\n",
    "        sent_vec /= cnt_words\n",
    "    train_vectors.append(sent_vec)\n",
    "    \n",
    "data = train_vectors  "
   ]
  },
  {
   "cell_type": "markdown",
   "metadata": {},
   "source": [
    "# Hierarchical Clustering with 2 clusters"
   ]
  },
  {
   "cell_type": "code",
   "execution_count": 58,
   "metadata": {},
   "outputs": [
    {
     "name": "stdout",
     "output_type": "stream",
     "text": [
      "No. of reviews in Cluster-1 :  2948\n",
      "\n",
      "No. of reviews in Cluster-2 :  2052\n"
     ]
    }
   ],
   "source": [
    "model = AgglomerativeClustering(n_clusters=2).fit(data)\n",
    "\n",
    "reviews = my_final['Text'].values\n",
    "# Getting all the reviews in different clusters\n",
    "cluster1 = []\n",
    "cluster2 = []\n",
    "\n",
    "for i in range(model.labels_.shape[0]):\n",
    "    if model.labels_[i] == 0:\n",
    "        cluster1.append(reviews[i])\n",
    "    else :\n",
    "        cluster2.append(reviews[i])\n",
    " \n",
    "        \n",
    "# Number of reviews in different clusters\n",
    "print(\"No. of reviews in Cluster-1 : \",len(cluster1))\n",
    "print(\"\\nNo. of reviews in Cluster-2 : \",len(cluster2))"
   ]
  },
  {
   "cell_type": "markdown",
   "metadata": {},
   "source": [
    "READING REVIEWS MANUALLY:"
   ]
  },
  {
   "cell_type": "code",
   "execution_count": 59,
   "metadata": {},
   "outputs": [
    {
     "name": "stdout",
     "output_type": "stream",
     "text": [
      "Review-1 : \n",
      " I made crab rangoon and used this sauce as a dipping sauce.  It was great.  I love the fact that it doesn't have MSG in it.  It has the right amount of sweetness.  It is a little spicy, but just the right amount.\n",
      "\n",
      "Review-2 : \n",
      " Awful Awful taste...and phosphoric sick color...<br />Awful Awful taste...and phosphoric sick color...<br />Awful Awful taste...and phosphoric sick color...<br /><br />I was totally schemed, this is not a drink. it is an acid poison.<br />Who for god sake manufacture and sale this kind of awful product.<br /><br />Don't believe it? try for your self.<br />I only show \"The king is naked\"\n",
      "\n",
      "Review-3 : \n",
      " This is a really nice product for those who want to consume healthful things. Refreshing, tasty and guiltless beverages are too few and far between these days, but this qualifies.<br /><br />Far too many \"vitamin drinks\" on the shelf are packed with empty calories, high-fructose corn syrup, and no actual fruit juice (or anything else good for you, for that matter). This is a refreshing exception.<br /><br />The pros: 70% juice, not overly calorie-ridden, the Izze drinks DO contain a bit of Vitamins C, B6 and Niacin, but do NOT contain any dreaded (and seemingly ubiquitous) high-fructose corn syrup (about which I have heard nothing good. Not one thing), and it tastes really good.<br /><br />The cons: Okay, not so much a con perhaps, but one should be aware that the product contains no more than 10% of the RDA of any of the aforementioned vitamins and minerals.<br /><br />So as long as you don't think of it as a magic health elixir, but rather as a great-tasting, refreshing drink that appears to contain nothing bad for you, I think you will enjoy this drink as much as I have.\n",
      "\n"
     ]
    }
   ],
   "source": [
    "# Three Reviews of cluster 1\n",
    "count=1\n",
    "for i in range(3):\n",
    "    print('Review-%d : \\n %s\\n'%(count,cluster1[i]))\n",
    "    count +=1"
   ]
  },
  {
   "cell_type": "code",
   "execution_count": 60,
   "metadata": {},
   "outputs": [
    {
     "name": "stdout",
     "output_type": "stream",
     "text": [
      "Review-1 : \n",
      " I first tried this product on Princess cruise and since bought it online from Amazon.  I like how there are 25 bags which retains its freshness.  I will definitely be purchasing this product on a continuous basis for my coffee each morning!\n",
      "\n",
      "Review-2 : \n",
      " A friend introduced this tea several years ago, and I have been searching our local grocery stores and kitchen shops for it since then to no avail.  Then I thought about searching online for it and found it at the best price through Amazon.com.  I purchased a large quantity of this tea and have been serving it to family and friends throughout this Holiday Season.  Everyone loves it!!\n",
      "\n",
      "Review-3 : \n",
      " So grateful for this!! What an amazing mix. It can be used to make some of the best gluten free products out there. What a break through for us gluten free individuals who miss REAL mixes. Some of the other ones on the market just dont do the trick like this does :)\n",
      "\n"
     ]
    }
   ],
   "source": [
    "# Three Reviews of cluster 2\n",
    "count=1\n",
    "for i in range(3):\n",
    "    if i < len(cluster2):\n",
    "        print('Review-%d : \\n %s\\n'%(count,cluster2[i]))\n",
    "        count +=1"
   ]
  },
  {
   "cell_type": "markdown",
   "metadata": {},
   "source": [
    "# Hierarchical Clustering with 5 clusters"
   ]
  },
  {
   "cell_type": "code",
   "execution_count": 62,
   "metadata": {},
   "outputs": [
    {
     "name": "stdout",
     "output_type": "stream",
     "text": [
      "No. of reviews in Cluster-1 :  1688\n",
      "\n",
      "No. of reviews in Cluster-2 :  1712\n",
      "\n",
      "No. of reviews in Cluster-3 :  818\n",
      "\n",
      "No. of reviews in Cluster-4 :  364\n",
      "\n",
      "No. of reviews in Cluster-5 :  418\n"
     ]
    }
   ],
   "source": [
    "model = AgglomerativeClustering(n_clusters=5).fit(data)\n",
    "\n",
    "# Getting all the reviews in different clusters\n",
    "cluster1 = []\n",
    "cluster2 = []\n",
    "cluster3 = []\n",
    "cluster4 = []\n",
    "cluster5 = []\n",
    "\n",
    "for i in range(model.labels_.shape[0]):\n",
    "    if model.labels_[i] == 0:\n",
    "        cluster1.append(reviews[i])\n",
    "    elif model.labels_[i] == 1:\n",
    "        cluster2.append(reviews[i])\n",
    "    elif model.labels_[i] == 2:\n",
    "        cluster3.append(reviews[i])\n",
    "    elif model.labels_[i] == 3:\n",
    "        cluster4.append(reviews[i])\n",
    "    else :\n",
    "        cluster5.append(reviews[i]) \n",
    "        \n",
    "# Number of reviews in different clusters\n",
    "print(\"No. of reviews in Cluster-1 : \",len(cluster1))\n",
    "print(\"\\nNo. of reviews in Cluster-2 : \",len(cluster2))\n",
    "print(\"\\nNo. of reviews in Cluster-3 : \",len(cluster3))\n",
    "print(\"\\nNo. of reviews in Cluster-4 : \",len(cluster4))\n",
    "print(\"\\nNo. of reviews in Cluster-5 : \",len(cluster5))"
   ]
  },
  {
   "cell_type": "markdown",
   "metadata": {},
   "source": [
    "READING REVIEWS MANUALLY:"
   ]
  },
  {
   "cell_type": "code",
   "execution_count": 63,
   "metadata": {},
   "outputs": [
    {
     "name": "stdout",
     "output_type": "stream",
     "text": [
      "Review-1 : \n",
      " So grateful for this!! What an amazing mix. It can be used to make some of the best gluten free products out there. What a break through for us gluten free individuals who miss REAL mixes. Some of the other ones on the market just dont do the trick like this does :)\n",
      "\n",
      "Review-2 : \n",
      " I should have listened to the other one star reviewer. My antler was NOT like the picture. Unfortunately, I too got half an antler - meaning it was half of a bisected piece. This exposes all of the marrow, gives your dog no challenge or time with the antler, and may cause an upset system / stomach for the dog. I won't buy this brand again.\n",
      "\n",
      "Review-3 : \n",
      " 25calories! And chocolate! I am on weight watchers and this is only one point! I love this for night time treat.\n",
      "\n"
     ]
    }
   ],
   "source": [
    "# Three Reviews of cluster 1\n",
    "count=1\n",
    "for i in range(3):\n",
    "    if i < len(cluster1):\n",
    "        print('Review-%d : \\n %s\\n'%(count,cluster1[i]))\n",
    "        count +=1"
   ]
  },
  {
   "cell_type": "code",
   "execution_count": 64,
   "metadata": {},
   "outputs": [
    {
     "name": "stdout",
     "output_type": "stream",
     "text": [
      "Review-1 : \n",
      " This is a really nice product for those who want to consume healthful things. Refreshing, tasty and guiltless beverages are too few and far between these days, but this qualifies.<br /><br />Far too many \"vitamin drinks\" on the shelf are packed with empty calories, high-fructose corn syrup, and no actual fruit juice (or anything else good for you, for that matter). This is a refreshing exception.<br /><br />The pros: 70% juice, not overly calorie-ridden, the Izze drinks DO contain a bit of Vitamins C, B6 and Niacin, but do NOT contain any dreaded (and seemingly ubiquitous) high-fructose corn syrup (about which I have heard nothing good. Not one thing), and it tastes really good.<br /><br />The cons: Okay, not so much a con perhaps, but one should be aware that the product contains no more than 10% of the RDA of any of the aforementioned vitamins and minerals.<br /><br />So as long as you don't think of it as a magic health elixir, but rather as a great-tasting, refreshing drink that appears to contain nothing bad for you, I think you will enjoy this drink as much as I have.\n",
      "\n",
      "Review-2 : \n",
      " This oil is not liquid at room temperature. Also, it has a relatively low smoke point. Those facts out of they way, this is a very high quality coconut oil. It smells wonderful and everything cooked in it takes on a hint of coconut. I use this in my coffee, fry eggs in it, saute spinach in it, as well as enjoy a tablespoon of it before my workouts. I have read that there are non-food related things you can do with this as well (good for skin, etc) but I have only experienced it through a culinary lens.\n",
      "\n",
      "Review-3 : \n",
      " Bought this for my husband who is a major pepper head. I think I ended up eating half of it, and I have no tolerance for heat. Despite the fact that it is NOT very spicy, it has a great taste and we put it on almost everything until the bottle was gone. Still recommend for those who want the flavor over the burn, but will be trying the naga jolokia next.\n",
      "\n"
     ]
    }
   ],
   "source": [
    "# Three Reviews of cluster 2\n",
    "count=1\n",
    "for i in range(3):\n",
    "    if i < len(cluster2):\n",
    "        print('Review-%d : \\n %s\\n'%(count,cluster2[i]))\n",
    "        count +=1"
   ]
  },
  {
   "cell_type": "code",
   "execution_count": 65,
   "metadata": {},
   "outputs": [
    {
     "name": "stdout",
     "output_type": "stream",
     "text": [
      "Review-1 : \n",
      " I made crab rangoon and used this sauce as a dipping sauce.  It was great.  I love the fact that it doesn't have MSG in it.  It has the right amount of sweetness.  It is a little spicy, but just the right amount.\n",
      "\n",
      "Review-2 : \n",
      " This is a great mix.  Used it in a crock pot, and it's wonderful to come home to a great  meal!\n",
      "\n",
      "Review-3 : \n",
      " Very tasty.  I was worried that this would be too hot for some of my family but everyone liked it.  Best with shrimp but it also works well with chicken.\n",
      "\n"
     ]
    }
   ],
   "source": [
    "# Three Reviews of cluster 3\n",
    "count=1\n",
    "for i in range(3):\n",
    "    if i < len(cluster3):\n",
    "        print('Review-%d : \\n %s\\n'%(count,cluster3[i]))\n",
    "        count +=1"
   ]
  },
  {
   "cell_type": "code",
   "execution_count": 66,
   "metadata": {},
   "outputs": [
    {
     "name": "stdout",
     "output_type": "stream",
     "text": [
      "Review-1 : \n",
      " I first tried this product on Princess cruise and since bought it online from Amazon.  I like how there are 25 bags which retains its freshness.  I will definitely be purchasing this product on a continuous basis for my coffee each morning!\n",
      "\n",
      "Review-2 : \n",
      " A friend introduced this tea several years ago, and I have been searching our local grocery stores and kitchen shops for it since then to no avail.  Then I thought about searching online for it and found it at the best price through Amazon.com.  I purchased a large quantity of this tea and have been serving it to family and friends throughout this Holiday Season.  Everyone loves it!!\n",
      "\n",
      "Review-3 : \n",
      " My sister loves Good Earth Original Caffeine Free tea.  We used to be able to get it locally, but it has become less available over the last year.  I searched several stores before checking amazon.  I was so happy to have found it here and will continue to purchase it here for as long as possible.\n",
      "\n"
     ]
    }
   ],
   "source": [
    "# Three Reviews of cluster 4\n",
    "count=1\n",
    "for i in range(3):\n",
    "    if i < len(cluster4):\n",
    "        print('Review-%d : \\n %s\\n'%(count,cluster4[i]))\n",
    "        count +=1"
   ]
  },
  {
   "cell_type": "code",
   "execution_count": 67,
   "metadata": {},
   "outputs": [
    {
     "name": "stdout",
     "output_type": "stream",
     "text": [
      "Review-1 : \n",
      " Awful Awful taste...and phosphoric sick color...<br />Awful Awful taste...and phosphoric sick color...<br />Awful Awful taste...and phosphoric sick color...<br /><br />I was totally schemed, this is not a drink. it is an acid poison.<br />Who for god sake manufacture and sale this kind of awful product.<br /><br />Don't believe it? try for your self.<br />I only show \"The king is naked\"\n",
      "\n",
      "Review-2 : \n",
      " I was misled by the name and thought that the cotechino was imported from Italy. Wrong! It was made in the US but was so salty that it was inedible. You learn from your mistakes.\n",
      "\n",
      "Review-3 : \n",
      " Imagine farmers on earth lose the ability to grow peanuts. And, 10000 years down the road, an alien species who never tasted peanut butter before tries to whip up a batch. I am sure the result would be something like Walden Farms Peanut Spread.<br /><br />It's not very peanuty, not very buttery...it's just the vaguest notion of peanut taste in a very foul paste-like consistency. The after taste is thoroughly horrible, with notes of shredded hubcaps and melted imitation Reeboks from Laos.<br /><br />If you are a dieter and are trying to incorporate some fun alternatives into your eating plan, skip this one. It's truly revolting.\n",
      "\n"
     ]
    }
   ],
   "source": [
    "# Three Reviews of cluster 5\n",
    "count=1\n",
    "for i in range(3):\n",
    "    if i < len(cluster5):\n",
    "        print('Review-%d : \\n %s\\n'%(count,cluster5[i]))\n",
    "        count +=1"
   ]
  },
  {
   "cell_type": "markdown",
   "metadata": {},
   "source": [
    "# Hierarchical Clustering with 10 clusters"
   ]
  },
  {
   "cell_type": "code",
   "execution_count": 69,
   "metadata": {},
   "outputs": [],
   "source": [
    "model = AgglomerativeClustering(n_clusters=10).fit(data)\n",
    "# Getting all the reviews in different clusters\n",
    "cluster1 = []\n",
    "cluster2 = []\n",
    "cluster3 = []\n",
    "cluster4 = []\n",
    "cluster5 = []\n",
    "cluster6 = []\n",
    "cluster7 = []\n",
    "cluster8 = []\n",
    "cluster9 = []\n",
    "cluster10 = []\n",
    "\n",
    "for i in range(model.labels_.shape[0]):\n",
    "    if model.labels_[i] == 0:\n",
    "        cluster1.append(reviews[i])\n",
    "    elif model.labels_[i] == 1:\n",
    "        cluster2.append(reviews[i])\n",
    "    elif model.labels_[i] == 2:\n",
    "        cluster3.append(reviews[i])\n",
    "    elif model.labels_[i] == 3:\n",
    "        cluster4.append(reviews[i])\n",
    "    elif model.labels_[i] == 4:\n",
    "        cluster5.append(reviews[i])\n",
    "    elif model.labels_[i] == 5:\n",
    "        cluster6.append(reviews[i])\n",
    "    elif model.labels_[i] == 6:\n",
    "        cluster7.append(reviews[i])\n",
    "    elif model.labels_[i] == 7:\n",
    "        cluster8.append(reviews[i])\n",
    "    elif model.labels_[i] == 8:\n",
    "        cluster9.append(reviews[i])       \n",
    "    else :\n",
    "        cluster10.append(reviews[i]) "
   ]
  },
  {
   "cell_type": "code",
   "execution_count": 70,
   "metadata": {},
   "outputs": [
    {
     "name": "stdout",
     "output_type": "stream",
     "text": [
      "No. of reviews in Cluster-1 :  601\n",
      "\n",
      "No. of reviews in Cluster-2 :  1260\n",
      "\n",
      "No. of reviews in Cluster-3 :  452\n",
      "\n",
      "No. of reviews in Cluster-4 :  317\n",
      "\n",
      "No. of reviews in Cluster-5 :  418\n",
      "\n",
      "No. of reviews in Cluster-6 :  413\n",
      "\n",
      "No. of reviews in Cluster-7 :  501\n",
      "\n",
      "No. of reviews in Cluster-8 :  298\n",
      "\n",
      "No. of reviews in Cluster-9 :  674\n",
      "\n",
      "No. of reviews in Cluster-10 :  66\n"
     ]
    }
   ],
   "source": [
    "# Number of reviews in different clusters\n",
    "print(\"No. of reviews in Cluster-1 : \",len(cluster1))\n",
    "print(\"\\nNo. of reviews in Cluster-2 : \",len(cluster2))\n",
    "print(\"\\nNo. of reviews in Cluster-3 : \",len(cluster3))\n",
    "print(\"\\nNo. of reviews in Cluster-4 : \",len(cluster4))\n",
    "print(\"\\nNo. of reviews in Cluster-5 : \",len(cluster5)) \n",
    "print(\"\\nNo. of reviews in Cluster-6 : \",len(cluster6))\n",
    "print(\"\\nNo. of reviews in Cluster-7 : \",len(cluster7))\n",
    "print(\"\\nNo. of reviews in Cluster-8 : \",len(cluster8))\n",
    "print(\"\\nNo. of reviews in Cluster-9 : \",len(cluster9))\n",
    "print(\"\\nNo. of reviews in Cluster-10 : \",len(cluster10)) "
   ]
  },
  {
   "cell_type": "markdown",
   "metadata": {},
   "source": [
    "READING REVIEWS MANUALLY:"
   ]
  },
  {
   "cell_type": "code",
   "execution_count": 71,
   "metadata": {},
   "outputs": [
    {
     "name": "stdout",
     "output_type": "stream",
     "text": [
      "Review-1 : \n",
      " I got a popcorn maker for Christmas and after doing some research, I found this product. The key is the oil. Since than, I have ordered several boxes. It seems I always have popcorn on hand now. Once you try it, you will be sold.\n",
      "\n",
      "Review-2 : \n",
      " Tried for a few years to obtain gooseberries but Amazon was the go-to place!!  Now I can bake pies just like my mothers and remember her every time I take a bite.  Thank you!!!!\n",
      "\n",
      "Review-3 : \n",
      " The product itself was inedible and mostly crumbs. It even smelled bad. The star is there because of the packing material. My cats LOVED the packing material. Played in it for days. I'd almost buy the product again for that packing material.\n",
      "\n"
     ]
    }
   ],
   "source": [
    "# Three Reviews of cluster 1\n",
    "count=1\n",
    "for i in range(3):\n",
    "    if i < len(cluster1):\n",
    "        print('Review-%d : \\n %s\\n'%(count,cluster1[i]))\n",
    "        count +=1"
   ]
  },
  {
   "cell_type": "code",
   "execution_count": 72,
   "metadata": {},
   "outputs": [
    {
     "name": "stdout",
     "output_type": "stream",
     "text": [
      "Review-1 : \n",
      " This is a really nice product for those who want to consume healthful things. Refreshing, tasty and guiltless beverages are too few and far between these days, but this qualifies.<br /><br />Far too many \"vitamin drinks\" on the shelf are packed with empty calories, high-fructose corn syrup, and no actual fruit juice (or anything else good for you, for that matter). This is a refreshing exception.<br /><br />The pros: 70% juice, not overly calorie-ridden, the Izze drinks DO contain a bit of Vitamins C, B6 and Niacin, but do NOT contain any dreaded (and seemingly ubiquitous) high-fructose corn syrup (about which I have heard nothing good. Not one thing), and it tastes really good.<br /><br />The cons: Okay, not so much a con perhaps, but one should be aware that the product contains no more than 10% of the RDA of any of the aforementioned vitamins and minerals.<br /><br />So as long as you don't think of it as a magic health elixir, but rather as a great-tasting, refreshing drink that appears to contain nothing bad for you, I think you will enjoy this drink as much as I have.\n",
      "\n",
      "Review-2 : \n",
      " This oil is not liquid at room temperature. Also, it has a relatively low smoke point. Those facts out of they way, this is a very high quality coconut oil. It smells wonderful and everything cooked in it takes on a hint of coconut. I use this in my coffee, fry eggs in it, saute spinach in it, as well as enjoy a tablespoon of it before my workouts. I have read that there are non-food related things you can do with this as well (good for skin, etc) but I have only experienced it through a culinary lens.\n",
      "\n",
      "Review-3 : \n",
      " Bought this for my husband who is a major pepper head. I think I ended up eating half of it, and I have no tolerance for heat. Despite the fact that it is NOT very spicy, it has a great taste and we put it on almost everything until the bottle was gone. Still recommend for those who want the flavor over the burn, but will be trying the naga jolokia next.\n",
      "\n"
     ]
    }
   ],
   "source": [
    "# Three Reviews of cluster 2\n",
    "count=1\n",
    "for i in range(3):\n",
    "    if i < len(cluster2):\n",
    "        print('Review-%d : \\n %s\\n'%(count,cluster2[i]))\n",
    "        count +=1"
   ]
  },
  {
   "cell_type": "code",
   "execution_count": 73,
   "metadata": {},
   "outputs": [
    {
     "name": "stdout",
     "output_type": "stream",
     "text": [
      "Review-1 : \n",
      " This tea has a smooth and flavorful taste.  No bitterness. Cheaper buying it this way,than at store. 40 bags $3.50 great way to save. and always have them on hand\n",
      "\n",
      "Review-2 : \n",
      " I have tried literally dozens of teas since being introduced to the Russian custom of preparing and drinking tea, and the Ahmad Imperial blend is probably my favorite of all of these due to the fact that it is equally delicious hot or iced.  I buy the three-packs as needed from Amazon and go through them rapidly. My family loves it and my friends have it in their homes now too, try one box of it and you will love it too.\n",
      "\n",
      "Review-3 : \n",
      " I thought this coffee was too weak, and had a slightly sour aftertaste. I do prefer a bolder coffee, so perhaps someone who likes a lighter roast would enjoy it; I did not.<br /><br />For those with a Solofill, I tried this coffee using the refillable cup in my Keurig brewer, but it didn't work too well. I didn't see anything about the grind in the product description (maybe I just overlooked it), but this coffee is ground finely. If you do use it in the Solofill, spoon it in so it is very loose, then shake, or the water won't flow through well.\n",
      "\n"
     ]
    }
   ],
   "source": [
    "# Three Reviews of cluster 3\n",
    "count=1\n",
    "for i in range(3):\n",
    "    if i < len(cluster3):\n",
    "        print('Review-%d : \\n %s\\n'%(count,cluster3[i]))\n",
    "        count +=1"
   ]
  },
  {
   "cell_type": "code",
   "execution_count": 74,
   "metadata": {},
   "outputs": [
    {
     "name": "stdout",
     "output_type": "stream",
     "text": [
      "Review-1 : \n",
      " Completely opposite of other reviewer.  I love these cookies.  However, if you are looking for a cookie that is laden with sugar and chemicals, this is not it.  These aren't overly sweet.  And really not too much chocolate taste in these either.  But I like them.  Finally, a cookie that tastes good that I can eat.  No chemicals, very little salt (35mg) and only 5mg cholesterol.  Oh, and the sugar is only 3g.  So, definitely not sweet.\n",
      "\n",
      "Review-2 : \n",
      " Some of the finest tea I've had.  It is a pleasure on the palette, as well as to the nose.  In addition to the wonderful taste and aroma, this tea (The Choice Organic Tea line) is \"Fair Trade\".<br /><br />This tea is caffeine free and delicious hot or cold. --> i have added 2 bags when brewing in the sun for iced tea.  Delicious, when sweetened with natural honey!<br /><br />It is important to believe in a product, and this one uses as many Fair Trade ingredients as possible.\n",
      "\n",
      "Review-3 : \n",
      " U can taste the lemon in this blend.  I have tried several and the blend had more black pepper than the lemon flavor.  It is really good...especially on fish.\n",
      "\n"
     ]
    }
   ],
   "source": [
    "# Three Reviews of cluster 4\n",
    "count=1\n",
    "for i in range(3):\n",
    "    if i < len(cluster4):\n",
    "        print('Review-%d : \\n %s\\n'%(count,cluster4[i]))\n",
    "        count +=1"
   ]
  },
  {
   "cell_type": "code",
   "execution_count": 75,
   "metadata": {},
   "outputs": [
    {
     "name": "stdout",
     "output_type": "stream",
     "text": [
      "Review-1 : \n",
      " Awful Awful taste...and phosphoric sick color...<br />Awful Awful taste...and phosphoric sick color...<br />Awful Awful taste...and phosphoric sick color...<br /><br />I was totally schemed, this is not a drink. it is an acid poison.<br />Who for god sake manufacture and sale this kind of awful product.<br /><br />Don't believe it? try for your self.<br />I only show \"The king is naked\"\n",
      "\n",
      "Review-2 : \n",
      " I was misled by the name and thought that the cotechino was imported from Italy. Wrong! It was made in the US but was so salty that it was inedible. You learn from your mistakes.\n",
      "\n",
      "Review-3 : \n",
      " Imagine farmers on earth lose the ability to grow peanuts. And, 10000 years down the road, an alien species who never tasted peanut butter before tries to whip up a batch. I am sure the result would be something like Walden Farms Peanut Spread.<br /><br />It's not very peanuty, not very buttery...it's just the vaguest notion of peanut taste in a very foul paste-like consistency. The after taste is thoroughly horrible, with notes of shredded hubcaps and melted imitation Reeboks from Laos.<br /><br />If you are a dieter and are trying to incorporate some fun alternatives into your eating plan, skip this one. It's truly revolting.\n",
      "\n"
     ]
    }
   ],
   "source": [
    "# Three Reviews of cluster 5\n",
    "count=1\n",
    "for i in range(3):\n",
    "    if i < len(cluster5):\n",
    "        print('Review-%d : \\n %s\\n'%(count,cluster5[i]))\n",
    "        count +=1"
   ]
  },
  {
   "cell_type": "code",
   "execution_count": 76,
   "metadata": {},
   "outputs": [
    {
     "name": "stdout",
     "output_type": "stream",
     "text": [
      "Review-1 : \n",
      " I should have listened to the other one star reviewer. My antler was NOT like the picture. Unfortunately, I too got half an antler - meaning it was half of a bisected piece. This exposes all of the marrow, gives your dog no challenge or time with the antler, and may cause an upset system / stomach for the dog. I won't buy this brand again.\n",
      "\n",
      "Review-2 : \n",
      " 25calories! And chocolate! I am on weight watchers and this is only one point! I love this for night time treat.\n",
      "\n",
      "Review-3 : \n",
      " Excellent cocktails I am preparing and having fun with my girlfriend and friends.<br />Great price and quality! I highly recommend this syrup for your lychee martinis.\n",
      "\n"
     ]
    }
   ],
   "source": [
    "# Three Reviews of cluster 6\n",
    "count=1\n",
    "for i in range(3):\n",
    "    if i < len(cluster6):\n",
    "        print('Review-%d : \\n %s\\n'%(count,cluster6[i]))\n",
    "        count +=1"
   ]
  },
  {
   "cell_type": "code",
   "execution_count": 77,
   "metadata": {},
   "outputs": [
    {
     "name": "stdout",
     "output_type": "stream",
     "text": [
      "Review-1 : \n",
      " I made crab rangoon and used this sauce as a dipping sauce.  It was great.  I love the fact that it doesn't have MSG in it.  It has the right amount of sweetness.  It is a little spicy, but just the right amount.\n",
      "\n",
      "Review-2 : \n",
      " This is a great mix.  Used it in a crock pot, and it's wonderful to come home to a great  meal!\n",
      "\n",
      "Review-3 : \n",
      " Very tasty.  I was worried that this would be too hot for some of my family but everyone liked it.  Best with shrimp but it also works well with chicken.\n",
      "\n"
     ]
    }
   ],
   "source": [
    "# Three Reviews of cluster 7\n",
    "count=1\n",
    "for i in range(3):\n",
    "    if i < len(cluster7):\n",
    "        print('Review-%d : \\n %s\\n'%(count,cluster7[i]))\n",
    "        count +=1"
   ]
  },
  {
   "cell_type": "code",
   "execution_count": 78,
   "metadata": {},
   "outputs": [
    {
     "name": "stdout",
     "output_type": "stream",
     "text": [
      "Review-1 : \n",
      " I first tried this product on Princess cruise and since bought it online from Amazon.  I like how there are 25 bags which retains its freshness.  I will definitely be purchasing this product on a continuous basis for my coffee each morning!\n",
      "\n",
      "Review-2 : \n",
      " A friend introduced this tea several years ago, and I have been searching our local grocery stores and kitchen shops for it since then to no avail.  Then I thought about searching online for it and found it at the best price through Amazon.com.  I purchased a large quantity of this tea and have been serving it to family and friends throughout this Holiday Season.  Everyone loves it!!\n",
      "\n",
      "Review-3 : \n",
      " My sister loves Good Earth Original Caffeine Free tea.  We used to be able to get it locally, but it has become less available over the last year.  I searched several stores before checking amazon.  I was so happy to have found it here and will continue to purchase it here for as long as possible.\n",
      "\n"
     ]
    }
   ],
   "source": [
    "# Three Reviews of cluster 8\n",
    "count=1\n",
    "for i in range(3):\n",
    "    if i < len(cluster8):\n",
    "        print('Review-%d : \\n %s\\n'%(count,cluster8[i]))\n",
    "        count +=1"
   ]
  },
  {
   "cell_type": "code",
   "execution_count": 79,
   "metadata": {},
   "outputs": [
    {
     "name": "stdout",
     "output_type": "stream",
     "text": [
      "Review-1 : \n",
      " So grateful for this!! What an amazing mix. It can be used to make some of the best gluten free products out there. What a break through for us gluten free individuals who miss REAL mixes. Some of the other ones on the market just dont do the trick like this does :)\n",
      "\n",
      "Review-2 : \n",
      " I love licorice these were dry and the flavor was nasty! I think they were many years old no date on the bag. Had to throw them away! Don't waste your money sorry I did.\n",
      "\n",
      "Review-3 : \n",
      " I have to say this is the best canned soup I have ever eaten. The fact that it is organic with no yucky processed stuff makes me even happier. You don't have to season this soup, at least I don't, it tastes great just heated out of the can. It flies off the organic foods shelf at my local grocery and this 12 pack is the only way to keep it in the pantry. I seldom find anything I am this happy about so try it you will love it!\n",
      "\n"
     ]
    }
   ],
   "source": [
    "# Three Reviews of cluster 9\n",
    "count=1\n",
    "for i in range(3):\n",
    "    if i < len(cluster9):\n",
    "        print('Review-%d : \\n %s\\n'%(count,cluster9[i]))\n",
    "        count +=1"
   ]
  },
  {
   "cell_type": "code",
   "execution_count": 80,
   "metadata": {},
   "outputs": [
    {
     "name": "stdout",
     "output_type": "stream",
     "text": [
      "Review-1 : \n",
      " This is not a good deal.  I can go to target or other grocery stores and buy four boxes for at least $6.00 cheaper...\n",
      "\n",
      "Review-2 : \n",
      " The item arrived on-time and in the advertised condition. Would order this product from Amazon again.\n",
      "\n",
      "Review-3 : \n",
      " The price was considerably better a while back at $19.44. How can they figure the original price was $6.30 per bag, when the company who manufacture's this product sells it for $3.99 per bag plus shipping. For the price they are charging now, I can get it at my local healthfood store for much less. The product is excellent and have used it for many years, but Amazon's price is not a deal anymore!\n",
      "\n"
     ]
    }
   ],
   "source": [
    "# Three Reviews of cluster 10\n",
    "count=1\n",
    "for i in range(3):\n",
    "    if i < len(cluster10):\n",
    "        print('Review-%d : \\n %s\\n'%(count,cluster10[i]))\n",
    "        count +=1"
   ]
  },
  {
   "cell_type": "markdown",
   "metadata": {},
   "source": [
    "# (4). TFIDF-Word2Vec"
   ]
  },
  {
   "cell_type": "code",
   "execution_count": 81,
   "metadata": {},
   "outputs": [],
   "source": [
    "# TF-IDF weighted Word2Vec\n",
    "tf_idf_vect = TfidfVectorizer()\n",
    "\n",
    "# final_tf_idf1 is the sparse matrix with row= sentence, col=word and cell_val = tfidf\n",
    "final_tf_idf1 = tf_idf_vect.fit_transform(x)\n",
    "\n",
    "# tfidf words/col-names\n",
    "tfidf_feat = tf_idf_vect.get_feature_names()\n",
    "\n",
    "# compute TFIDF Weighted Word2Vec for each review for sent_x .\n",
    "tfidf_vectors = []; \n",
    "row=0;\n",
    "for sent in sent_x: \n",
    "    sent_vec = np.zeros(50) \n",
    "    weight_sum =0; \n",
    "    for word in sent: \n",
    "        if word in w2v_words:\n",
    "            vec = w2v_model.wv[word]\n",
    "            # obtain the tf_idfidf of a word in a sentence/review\n",
    "            tf_idf = final_tf_idf1[row, tfidf_feat.index(word)]\n",
    "            sent_vec += (vec * tf_idf)\n",
    "            weight_sum += tf_idf\n",
    "    if weight_sum != 0:\n",
    "        sent_vec /= weight_sum\n",
    "    tfidf_vectors.append(sent_vec)\n",
    "    row += 1 \n",
    "    \n",
    "data = tfidf_vectors  "
   ]
  },
  {
   "cell_type": "markdown",
   "metadata": {},
   "source": [
    "# Hierarchical Clustering with 2 clusters"
   ]
  },
  {
   "cell_type": "code",
   "execution_count": 82,
   "metadata": {},
   "outputs": [
    {
     "name": "stdout",
     "output_type": "stream",
     "text": [
      "No. of reviews in Cluster-1 :  3254\n",
      "\n",
      "No. of reviews in Cluster-2 :  1746\n"
     ]
    }
   ],
   "source": [
    "model = AgglomerativeClustering(n_clusters=2).fit(data)\n",
    "\n",
    "reviews = my_final['Text'].values\n",
    "# Getting all the reviews in different clusters\n",
    "cluster1 = []\n",
    "cluster2 = []\n",
    "\n",
    "for i in range(model.labels_.shape[0]):\n",
    "    if model.labels_[i] == 0:\n",
    "        cluster1.append(reviews[i])\n",
    "    else :\n",
    "        cluster2.append(reviews[i])\n",
    " \n",
    "        \n",
    "# Number of reviews in different clusters\n",
    "print(\"No. of reviews in Cluster-1 : \",len(cluster1))\n",
    "print(\"\\nNo. of reviews in Cluster-2 : \",len(cluster2))"
   ]
  },
  {
   "cell_type": "markdown",
   "metadata": {},
   "source": [
    "READING REVIEWS MANUALLY:"
   ]
  },
  {
   "cell_type": "code",
   "execution_count": 84,
   "metadata": {},
   "outputs": [
    {
     "name": "stdout",
     "output_type": "stream",
     "text": [
      "Review-1 : \n",
      " I made crab rangoon and used this sauce as a dipping sauce.  It was great.  I love the fact that it doesn't have MSG in it.  It has the right amount of sweetness.  It is a little spicy, but just the right amount.\n",
      "\n",
      "Review-2 : \n",
      " Awful Awful taste...and phosphoric sick color...<br />Awful Awful taste...and phosphoric sick color...<br />Awful Awful taste...and phosphoric sick color...<br /><br />I was totally schemed, this is not a drink. it is an acid poison.<br />Who for god sake manufacture and sale this kind of awful product.<br /><br />Don't believe it? try for your self.<br />I only show \"The king is naked\"\n",
      "\n",
      "Review-3 : \n",
      " This is a really nice product for those who want to consume healthful things. Refreshing, tasty and guiltless beverages are too few and far between these days, but this qualifies.<br /><br />Far too many \"vitamin drinks\" on the shelf are packed with empty calories, high-fructose corn syrup, and no actual fruit juice (or anything else good for you, for that matter). This is a refreshing exception.<br /><br />The pros: 70% juice, not overly calorie-ridden, the Izze drinks DO contain a bit of Vitamins C, B6 and Niacin, but do NOT contain any dreaded (and seemingly ubiquitous) high-fructose corn syrup (about which I have heard nothing good. Not one thing), and it tastes really good.<br /><br />The cons: Okay, not so much a con perhaps, but one should be aware that the product contains no more than 10% of the RDA of any of the aforementioned vitamins and minerals.<br /><br />So as long as you don't think of it as a magic health elixir, but rather as a great-tasting, refreshing drink that appears to contain nothing bad for you, I think you will enjoy this drink as much as I have.\n",
      "\n"
     ]
    }
   ],
   "source": [
    "# Three Reviews of cluster 1\n",
    "count=1\n",
    "for i in range(3):\n",
    "    if i < len(cluster1):\n",
    "        print('Review-%d : \\n %s\\n'%(count,cluster1[i]))\n",
    "        count +=1"
   ]
  },
  {
   "cell_type": "code",
   "execution_count": 85,
   "metadata": {},
   "outputs": [
    {
     "name": "stdout",
     "output_type": "stream",
     "text": [
      "Review-1 : \n",
      " I first tried this product on Princess cruise and since bought it online from Amazon.  I like how there are 25 bags which retains its freshness.  I will definitely be purchasing this product on a continuous basis for my coffee each morning!\n",
      "\n",
      "Review-2 : \n",
      " A friend introduced this tea several years ago, and I have been searching our local grocery stores and kitchen shops for it since then to no avail.  Then I thought about searching online for it and found it at the best price through Amazon.com.  I purchased a large quantity of this tea and have been serving it to family and friends throughout this Holiday Season.  Everyone loves it!!\n",
      "\n",
      "Review-3 : \n",
      " So grateful for this!! What an amazing mix. It can be used to make some of the best gluten free products out there. What a break through for us gluten free individuals who miss REAL mixes. Some of the other ones on the market just dont do the trick like this does :)\n",
      "\n"
     ]
    }
   ],
   "source": [
    "# Three Reviews of cluster 2\n",
    "count=1\n",
    "for i in range(3):\n",
    "    if i < len(cluster2):\n",
    "        print('Review-%d : \\n %s\\n'%(count,cluster2[i]))\n",
    "        count +=1"
   ]
  },
  {
   "cell_type": "markdown",
   "metadata": {},
   "source": [
    "# Hierarchical Clustering with 5 clusters"
   ]
  },
  {
   "cell_type": "code",
   "execution_count": 86,
   "metadata": {},
   "outputs": [
    {
     "name": "stdout",
     "output_type": "stream",
     "text": [
      "No. of reviews in Cluster-1 :  1425\n",
      "\n",
      "No. of reviews in Cluster-2 :  1452\n",
      "\n",
      "No. of reviews in Cluster-3 :  967\n",
      "\n",
      "No. of reviews in Cluster-4 :  835\n",
      "\n",
      "No. of reviews in Cluster-5 :  321\n"
     ]
    }
   ],
   "source": [
    "model = AgglomerativeClustering(n_clusters=5).fit(data)\n",
    "\n",
    "# Getting all the reviews in different clusters\n",
    "cluster1 = []\n",
    "cluster2 = []\n",
    "cluster3 = []\n",
    "cluster4 = []\n",
    "cluster5 = []\n",
    "\n",
    "for i in range(model.labels_.shape[0]):\n",
    "    if model.labels_[i] == 0:\n",
    "        cluster1.append(reviews[i])\n",
    "    elif model.labels_[i] == 1:\n",
    "        cluster2.append(reviews[i])\n",
    "    elif model.labels_[i] == 2:\n",
    "        cluster3.append(reviews[i])\n",
    "    elif model.labels_[i] == 3:\n",
    "        cluster4.append(reviews[i])\n",
    "    else :\n",
    "        cluster5.append(reviews[i]) \n",
    "        \n",
    "# Number of reviews in different clusters\n",
    "print(\"No. of reviews in Cluster-1 : \",len(cluster1))\n",
    "print(\"\\nNo. of reviews in Cluster-2 : \",len(cluster2))\n",
    "print(\"\\nNo. of reviews in Cluster-3 : \",len(cluster3))\n",
    "print(\"\\nNo. of reviews in Cluster-4 : \",len(cluster4))\n",
    "print(\"\\nNo. of reviews in Cluster-5 : \",len(cluster5)) "
   ]
  },
  {
   "cell_type": "markdown",
   "metadata": {},
   "source": [
    "READING REVIEWS MANUALLY:"
   ]
  },
  {
   "cell_type": "code",
   "execution_count": 87,
   "metadata": {},
   "outputs": [
    {
     "name": "stdout",
     "output_type": "stream",
     "text": [
      "Review-1 : \n",
      " I first tried this product on Princess cruise and since bought it online from Amazon.  I like how there are 25 bags which retains its freshness.  I will definitely be purchasing this product on a continuous basis for my coffee each morning!\n",
      "\n",
      "Review-2 : \n",
      " So grateful for this!! What an amazing mix. It can be used to make some of the best gluten free products out there. What a break through for us gluten free individuals who miss REAL mixes. Some of the other ones on the market just dont do the trick like this does :)\n",
      "\n",
      "Review-3 : \n",
      " This tea has a smooth and flavorful taste.  No bitterness. Cheaper buying it this way,than at store. 40 bags $3.50 great way to save. and always have them on hand\n",
      "\n"
     ]
    }
   ],
   "source": [
    "# Three Reviews of cluster 1\n",
    "count=1\n",
    "for i in range(3):\n",
    "    if i < len(cluster1):\n",
    "        print('Review-%d : \\n %s\\n'%(count,cluster1[i]))\n",
    "        count +=1"
   ]
  },
  {
   "cell_type": "code",
   "execution_count": 88,
   "metadata": {},
   "outputs": [
    {
     "name": "stdout",
     "output_type": "stream",
     "text": [
      "Review-1 : \n",
      " This is a really nice product for those who want to consume healthful things. Refreshing, tasty and guiltless beverages are too few and far between these days, but this qualifies.<br /><br />Far too many \"vitamin drinks\" on the shelf are packed with empty calories, high-fructose corn syrup, and no actual fruit juice (or anything else good for you, for that matter). This is a refreshing exception.<br /><br />The pros: 70% juice, not overly calorie-ridden, the Izze drinks DO contain a bit of Vitamins C, B6 and Niacin, but do NOT contain any dreaded (and seemingly ubiquitous) high-fructose corn syrup (about which I have heard nothing good. Not one thing), and it tastes really good.<br /><br />The cons: Okay, not so much a con perhaps, but one should be aware that the product contains no more than 10% of the RDA of any of the aforementioned vitamins and minerals.<br /><br />So as long as you don't think of it as a magic health elixir, but rather as a great-tasting, refreshing drink that appears to contain nothing bad for you, I think you will enjoy this drink as much as I have.\n",
      "\n",
      "Review-2 : \n",
      " This oil is not liquid at room temperature. Also, it has a relatively low smoke point. Those facts out of they way, this is a very high quality coconut oil. It smells wonderful and everything cooked in it takes on a hint of coconut. I use this in my coffee, fry eggs in it, saute spinach in it, as well as enjoy a tablespoon of it before my workouts. I have read that there are non-food related things you can do with this as well (good for skin, etc) but I have only experienced it through a culinary lens.\n",
      "\n",
      "Review-3 : \n",
      " Bought this for my husband who is a major pepper head. I think I ended up eating half of it, and I have no tolerance for heat. Despite the fact that it is NOT very spicy, it has a great taste and we put it on almost everything until the bottle was gone. Still recommend for those who want the flavor over the burn, but will be trying the naga jolokia next.\n",
      "\n"
     ]
    }
   ],
   "source": [
    "# Three Reviews of cluster 2\n",
    "count=1\n",
    "for i in range(3):\n",
    "    if i < len(cluster2):\n",
    "        print('Review-%d : \\n %s\\n'%(count,cluster2[i]))\n",
    "        count +=1"
   ]
  },
  {
   "cell_type": "code",
   "execution_count": 89,
   "metadata": {},
   "outputs": [
    {
     "name": "stdout",
     "output_type": "stream",
     "text": [
      "Review-1 : \n",
      " I made crab rangoon and used this sauce as a dipping sauce.  It was great.  I love the fact that it doesn't have MSG in it.  It has the right amount of sweetness.  It is a little spicy, but just the right amount.\n",
      "\n",
      "Review-2 : \n",
      " I have tried literally dozens of teas since being introduced to the Russian custom of preparing and drinking tea, and the Ahmad Imperial blend is probably my favorite of all of these due to the fact that it is equally delicious hot or iced.  I buy the three-packs as needed from Amazon and go through them rapidly. My family loves it and my friends have it in their homes now too, try one box of it and you will love it too.\n",
      "\n",
      "Review-3 : \n",
      " I thought this coffee was too weak, and had a slightly sour aftertaste. I do prefer a bolder coffee, so perhaps someone who likes a lighter roast would enjoy it; I did not.<br /><br />For those with a Solofill, I tried this coffee using the refillable cup in my Keurig brewer, but it didn't work too well. I didn't see anything about the grind in the product description (maybe I just overlooked it), but this coffee is ground finely. If you do use it in the Solofill, spoon it in so it is very loose, then shake, or the water won't flow through well.\n",
      "\n"
     ]
    }
   ],
   "source": [
    "# Three Reviews of cluster 3\n",
    "count=1\n",
    "for i in range(3):\n",
    "    if i < len(cluster3):\n",
    "        print('Review-%d : \\n %s\\n'%(count,cluster3[i]))\n",
    "        count +=1"
   ]
  },
  {
   "cell_type": "code",
   "execution_count": 90,
   "metadata": {},
   "outputs": [
    {
     "name": "stdout",
     "output_type": "stream",
     "text": [
      "Review-1 : \n",
      " Awful Awful taste...and phosphoric sick color...<br />Awful Awful taste...and phosphoric sick color...<br />Awful Awful taste...and phosphoric sick color...<br /><br />I was totally schemed, this is not a drink. it is an acid poison.<br />Who for god sake manufacture and sale this kind of awful product.<br /><br />Don't believe it? try for your self.<br />I only show \"The king is naked\"\n",
      "\n",
      "Review-2 : \n",
      " I was misled by the name and thought that the cotechino was imported from Italy. Wrong! It was made in the US but was so salty that it was inedible. You learn from your mistakes.\n",
      "\n",
      "Review-3 : \n",
      " I should have listened to the other one star reviewer. My antler was NOT like the picture. Unfortunately, I too got half an antler - meaning it was half of a bisected piece. This exposes all of the marrow, gives your dog no challenge or time with the antler, and may cause an upset system / stomach for the dog. I won't buy this brand again.\n",
      "\n"
     ]
    }
   ],
   "source": [
    "# Three Reviews of cluster 4\n",
    "count=1\n",
    "for i in range(3):\n",
    "    if i < len(cluster4):\n",
    "        print('Review-%d : \\n %s\\n'%(count,cluster4[i]))\n",
    "        count +=1"
   ]
  },
  {
   "cell_type": "code",
   "execution_count": 91,
   "metadata": {},
   "outputs": [
    {
     "name": "stdout",
     "output_type": "stream",
     "text": [
      "Review-1 : \n",
      " A friend introduced this tea several years ago, and I have been searching our local grocery stores and kitchen shops for it since then to no avail.  Then I thought about searching online for it and found it at the best price through Amazon.com.  I purchased a large quantity of this tea and have been serving it to family and friends throughout this Holiday Season.  Everyone loves it!!\n",
      "\n",
      "Review-2 : \n",
      " My sister loves Good Earth Original Caffeine Free tea.  We used to be able to get it locally, but it has become less available over the last year.  I searched several stores before checking amazon.  I was so happy to have found it here and will continue to purchase it here for as long as possible.\n",
      "\n",
      "Review-3 : \n",
      " This is not a good deal.  I can go to target or other grocery stores and buy four boxes for at least $6.00 cheaper...\n",
      "\n"
     ]
    }
   ],
   "source": [
    "# Three Reviews of cluster 5\n",
    "count=1\n",
    "for i in range(3):\n",
    "    if i < len(cluster5):\n",
    "        print('Review-%d : \\n %s\\n'%(count,cluster5[i]))\n",
    "        count +=1"
   ]
  },
  {
   "cell_type": "markdown",
   "metadata": {},
   "source": [
    "# Hierarchical Clustering with 10 clusters"
   ]
  },
  {
   "cell_type": "code",
   "execution_count": 93,
   "metadata": {},
   "outputs": [],
   "source": [
    "model = AgglomerativeClustering(n_clusters=10).fit(data)\n",
    "# Getting all the reviews in different clusters\n",
    "cluster1 = []\n",
    "cluster2 = []\n",
    "cluster3 = []\n",
    "cluster4 = []\n",
    "cluster5 = []\n",
    "cluster6 = []\n",
    "cluster7 = []\n",
    "cluster8 = []\n",
    "cluster9 = []\n",
    "cluster10 = []\n",
    "\n",
    "for i in range(model.labels_.shape[0]):\n",
    "    if model.labels_[i] == 0:\n",
    "        cluster1.append(reviews[i])\n",
    "    elif model.labels_[i] == 1:\n",
    "        cluster2.append(reviews[i])\n",
    "    elif model.labels_[i] == 2:\n",
    "        cluster3.append(reviews[i])\n",
    "    elif model.labels_[i] == 3:\n",
    "        cluster4.append(reviews[i])\n",
    "    elif model.labels_[i] == 4:\n",
    "        cluster5.append(reviews[i])\n",
    "    elif model.labels_[i] == 5:\n",
    "        cluster6.append(reviews[i])\n",
    "    elif model.labels_[i] == 6:\n",
    "        cluster7.append(reviews[i])\n",
    "    elif model.labels_[i] == 7:\n",
    "        cluster8.append(reviews[i])\n",
    "    elif model.labels_[i] == 8:\n",
    "        cluster9.append(reviews[i])       \n",
    "    else :\n",
    "        cluster10.append(reviews[i]) "
   ]
  },
  {
   "cell_type": "code",
   "execution_count": 94,
   "metadata": {},
   "outputs": [
    {
     "name": "stdout",
     "output_type": "stream",
     "text": [
      "No. of reviews in Cluster-1 :  1078\n",
      "\n",
      "No. of reviews in Cluster-2 :  835\n",
      "\n",
      "No. of reviews in Cluster-3 :  264\n",
      "\n",
      "No. of reviews in Cluster-4 :  731\n",
      "\n",
      "No. of reviews in Cluster-5 :  321\n",
      "\n",
      "No. of reviews in Cluster-6 :  366\n",
      "\n",
      "No. of reviews in Cluster-7 :  288\n",
      "\n",
      "No. of reviews in Cluster-8 :  721\n",
      "\n",
      "No. of reviews in Cluster-9 :  337\n",
      "\n",
      "No. of reviews in Cluster-10 :  59\n"
     ]
    }
   ],
   "source": [
    "# Number of reviews in different clusters\n",
    "print(\"No. of reviews in Cluster-1 : \",len(cluster1))\n",
    "print(\"\\nNo. of reviews in Cluster-2 : \",len(cluster2))\n",
    "print(\"\\nNo. of reviews in Cluster-3 : \",len(cluster3))\n",
    "print(\"\\nNo. of reviews in Cluster-4 : \",len(cluster4))\n",
    "print(\"\\nNo. of reviews in Cluster-5 : \",len(cluster5)) \n",
    "print(\"\\nNo. of reviews in Cluster-6 : \",len(cluster6))\n",
    "print(\"\\nNo. of reviews in Cluster-7 : \",len(cluster7))\n",
    "print(\"\\nNo. of reviews in Cluster-8 : \",len(cluster8))\n",
    "print(\"\\nNo. of reviews in Cluster-9 : \",len(cluster9))\n",
    "print(\"\\nNo. of reviews in Cluster-10 : \",len(cluster10)) "
   ]
  },
  {
   "cell_type": "markdown",
   "metadata": {},
   "source": [
    "READING REVIEWS MANUALLY:"
   ]
  },
  {
   "cell_type": "code",
   "execution_count": 95,
   "metadata": {},
   "outputs": [
    {
     "name": "stdout",
     "output_type": "stream",
     "text": [
      "Review-1 : \n",
      " I first tried this product on Princess cruise and since bought it online from Amazon.  I like how there are 25 bags which retains its freshness.  I will definitely be purchasing this product on a continuous basis for my coffee each morning!\n",
      "\n",
      "Review-2 : \n",
      " So grateful for this!! What an amazing mix. It can be used to make some of the best gluten free products out there. What a break through for us gluten free individuals who miss REAL mixes. Some of the other ones on the market just dont do the trick like this does :)\n",
      "\n",
      "Review-3 : \n",
      " This tea has a smooth and flavorful taste.  No bitterness. Cheaper buying it this way,than at store. 40 bags $3.50 great way to save. and always have them on hand\n",
      "\n"
     ]
    }
   ],
   "source": [
    "# Three Reviews of cluster 1\n",
    "count=1\n",
    "for i in range(3):\n",
    "    if i < len(cluster1):\n",
    "        print('Review-%d : \\n %s\\n'%(count,cluster1[i]))\n",
    "        count +=1"
   ]
  },
  {
   "cell_type": "code",
   "execution_count": 96,
   "metadata": {},
   "outputs": [
    {
     "name": "stdout",
     "output_type": "stream",
     "text": [
      "Review-1 : \n",
      " Awful Awful taste...and phosphoric sick color...<br />Awful Awful taste...and phosphoric sick color...<br />Awful Awful taste...and phosphoric sick color...<br /><br />I was totally schemed, this is not a drink. it is an acid poison.<br />Who for god sake manufacture and sale this kind of awful product.<br /><br />Don't believe it? try for your self.<br />I only show \"The king is naked\"\n",
      "\n",
      "Review-2 : \n",
      " I was misled by the name and thought that the cotechino was imported from Italy. Wrong! It was made in the US but was so salty that it was inedible. You learn from your mistakes.\n",
      "\n",
      "Review-3 : \n",
      " I should have listened to the other one star reviewer. My antler was NOT like the picture. Unfortunately, I too got half an antler - meaning it was half of a bisected piece. This exposes all of the marrow, gives your dog no challenge or time with the antler, and may cause an upset system / stomach for the dog. I won't buy this brand again.\n",
      "\n"
     ]
    }
   ],
   "source": [
    "# Three Reviews of cluster 2\n",
    "count=1\n",
    "for i in range(3):\n",
    "    if i < len(cluster2):\n",
    "        print('Review-%d : \\n %s\\n'%(count,cluster2[i]))\n",
    "        count +=1"
   ]
  },
  {
   "cell_type": "code",
   "execution_count": 97,
   "metadata": {},
   "outputs": [
    {
     "name": "stdout",
     "output_type": "stream",
     "text": [
      "Review-1 : \n",
      " Some of the finest tea I've had.  It is a pleasure on the palette, as well as to the nose.  In addition to the wonderful taste and aroma, this tea (The Choice Organic Tea line) is \"Fair Trade\".<br /><br />This tea is caffeine free and delicious hot or cold. --> i have added 2 bags when brewing in the sun for iced tea.  Delicious, when sweetened with natural honey!<br /><br />It is important to believe in a product, and this one uses as many Fair Trade ingredients as possible.\n",
      "\n",
      "Review-2 : \n",
      " Great tasting tea I have been looking for a good  Sassafras tea forever.Finally. I will be ordering this product again .<br />Thanks Kim:D\n",
      "\n",
      "Review-3 : \n",
      " Twinings English Afternoon Tea is a superb hot tea, delicious with milk and sugar, with a full, somewhat fruity flavor. Do not be afraid that this is a \"watered-down\" or weak version of the Breakfast Tea! It is every bit as full-bodied and hearty, just different, and perfect for a bit of variety. I love the English Breakfast Tea too. Try the Afternoon Tea. You won't be sorry.\n",
      "\n"
     ]
    }
   ],
   "source": [
    "# Three Reviews of cluster 3\n",
    "count=1\n",
    "for i in range(3):\n",
    "    if i < len(cluster3):\n",
    "        print('Review-%d : \\n %s\\n'%(count,cluster3[i]))\n",
    "        count +=1"
   ]
  },
  {
   "cell_type": "code",
   "execution_count": 98,
   "metadata": {},
   "outputs": [
    {
     "name": "stdout",
     "output_type": "stream",
     "text": [
      "Review-1 : \n",
      " This oil is not liquid at room temperature. Also, it has a relatively low smoke point. Those facts out of they way, this is a very high quality coconut oil. It smells wonderful and everything cooked in it takes on a hint of coconut. I use this in my coffee, fry eggs in it, saute spinach in it, as well as enjoy a tablespoon of it before my workouts. I have read that there are non-food related things you can do with this as well (good for skin, etc) but I have only experienced it through a culinary lens.\n",
      "\n",
      "Review-2 : \n",
      " I ordered this product to make white, strawberry-flavored icing for some cupcakes for a wedding. since it was so expensive, i did not test it to make sure it actually tasted like strawberry before baking day. My Mistake! It smelled like bad bubblegum and tasted like Windex or something - just a terrible, chemical taste. i made the icing, then tasted it and thought \"what was on my finger!? nail polish remover or something?\" well I hadn't done my nails, it was the icing! i could not serve that. I had to start over and use vanilla at the last minute. Thankfully the bride was very understanding. I DO NOT recommend this product. (Also, when I contacted the seller to try to send it back, they would never reply. Obviously they don't stand behind what they sell. Money Wasted.)\n",
      "\n",
      "Review-3 : \n",
      " Worst Thing I have ever put in my mouth. Ever. I opened them, immediately noticed a 'funky' smell, but gave it to my one year old anyway with out much further explanation.  I tried a bite of it after she started to cry and run away from the bar. I could not spit out my bite fast enough! It made my usually strong stomach churn and I could not get the taste to go away. They smell and taste like rotting dead for months shark carcass. No joke. Seriously. She is now afraid to eat anything that resembles a rice crispy bar. which is actually pretty adorable. Regardless, Yuck!\n",
      "\n"
     ]
    }
   ],
   "source": [
    "# Three Reviews of cluster 4\n",
    "count=1\n",
    "for i in range(3):\n",
    "    if i < len(cluster4):\n",
    "        print('Review-%d : \\n %s\\n'%(count,cluster4[i]))\n",
    "        count +=1"
   ]
  },
  {
   "cell_type": "code",
   "execution_count": 99,
   "metadata": {},
   "outputs": [
    {
     "name": "stdout",
     "output_type": "stream",
     "text": [
      "Review-1 : \n",
      " A friend introduced this tea several years ago, and I have been searching our local grocery stores and kitchen shops for it since then to no avail.  Then I thought about searching online for it and found it at the best price through Amazon.com.  I purchased a large quantity of this tea and have been serving it to family and friends throughout this Holiday Season.  Everyone loves it!!\n",
      "\n",
      "Review-2 : \n",
      " My sister loves Good Earth Original Caffeine Free tea.  We used to be able to get it locally, but it has become less available over the last year.  I searched several stores before checking amazon.  I was so happy to have found it here and will continue to purchase it here for as long as possible.\n",
      "\n",
      "Review-3 : \n",
      " This is not a good deal.  I can go to target or other grocery stores and buy four boxes for at least $6.00 cheaper...\n",
      "\n"
     ]
    }
   ],
   "source": [
    "# Three Reviews of cluster 5\n",
    "count=1\n",
    "for i in range(3):\n",
    "    if i < len(cluster5):\n",
    "        print('Review-%d : \\n %s\\n'%(count,cluster5[i]))\n",
    "        count +=1"
   ]
  },
  {
   "cell_type": "code",
   "execution_count": 100,
   "metadata": {},
   "outputs": [
    {
     "name": "stdout",
     "output_type": "stream",
     "text": [
      "Review-1 : \n",
      " I have tried literally dozens of teas since being introduced to the Russian custom of preparing and drinking tea, and the Ahmad Imperial blend is probably my favorite of all of these due to the fact that it is equally delicious hot or iced.  I buy the three-packs as needed from Amazon and go through them rapidly. My family loves it and my friends have it in their homes now too, try one box of it and you will love it too.\n",
      "\n",
      "Review-2 : \n",
      " I thought this coffee was too weak, and had a slightly sour aftertaste. I do prefer a bolder coffee, so perhaps someone who likes a lighter roast would enjoy it; I did not.<br /><br />For those with a Solofill, I tried this coffee using the refillable cup in my Keurig brewer, but it didn't work too well. I didn't see anything about the grind in the product description (maybe I just overlooked it), but this coffee is ground finely. If you do use it in the Solofill, spoon it in so it is very loose, then shake, or the water won't flow through well.\n",
      "\n",
      "Review-3 : \n",
      " Usually do not get the breakfast blends but it was on sale and decided at price would try it out. It was not as weak as some breakfast blends tend to be. Not bad.\n",
      "\n"
     ]
    }
   ],
   "source": [
    "# Three Reviews of cluster 6\n",
    "count=1\n",
    "for i in range(3):\n",
    "    if i < len(cluster6):\n",
    "        print('Review-%d : \\n %s\\n'%(count,cluster6[i]))\n",
    "        count +=1"
   ]
  },
  {
   "cell_type": "code",
   "execution_count": 101,
   "metadata": {},
   "outputs": [
    {
     "name": "stdout",
     "output_type": "stream",
     "text": [
      "Review-1 : \n",
      " Given that our dogs don't get rawhide treats often, we thought they might like to try these. However, both our 70 lb Aussie and 10 lb. Papillon rejected them. The Aussie eventually gave in and tried to bury one in the back yard, but never bothered to cover the hole. This is pretty important, because our boys will eat nearly anything! These were a nice size for small or large dogs, but neither seemed interested, despite that fact.  That said, these two dogs of ours love dehydrated cow lungs and organic carrots for snacks, so perhaps their pallates are just too refined for cardboard filled rawhide chews.\n",
      "\n",
      "Review-2 : \n",
      " I must say these are the best puffed lamb ears we've tried and my dog who normally has a very sensitive stomach can eat as many as she wants and never gets ill from them. They are crunchy and fun and smell good too; all the things a dog likes in a treat. We buy them all the time.\n",
      "\n",
      "Review-3 : \n",
      " These are not too small nor too big, an excellent snack sized treat.  only problem i have with them is like a certain brand of potato chips, its hard to have just one.\n",
      "\n"
     ]
    }
   ],
   "source": [
    "# Three Reviews of cluster 7\n",
    "count=1\n",
    "for i in range(3):\n",
    "    if i < len(cluster7):\n",
    "        print('Review-%d : \\n %s\\n'%(count,cluster7[i]))\n",
    "        count +=1"
   ]
  },
  {
   "cell_type": "code",
   "execution_count": 102,
   "metadata": {},
   "outputs": [
    {
     "name": "stdout",
     "output_type": "stream",
     "text": [
      "Review-1 : \n",
      " This is a really nice product for those who want to consume healthful things. Refreshing, tasty and guiltless beverages are too few and far between these days, but this qualifies.<br /><br />Far too many \"vitamin drinks\" on the shelf are packed with empty calories, high-fructose corn syrup, and no actual fruit juice (or anything else good for you, for that matter). This is a refreshing exception.<br /><br />The pros: 70% juice, not overly calorie-ridden, the Izze drinks DO contain a bit of Vitamins C, B6 and Niacin, but do NOT contain any dreaded (and seemingly ubiquitous) high-fructose corn syrup (about which I have heard nothing good. Not one thing), and it tastes really good.<br /><br />The cons: Okay, not so much a con perhaps, but one should be aware that the product contains no more than 10% of the RDA of any of the aforementioned vitamins and minerals.<br /><br />So as long as you don't think of it as a magic health elixir, but rather as a great-tasting, refreshing drink that appears to contain nothing bad for you, I think you will enjoy this drink as much as I have.\n",
      "\n",
      "Review-2 : \n",
      " Bought this for my husband who is a major pepper head. I think I ended up eating half of it, and I have no tolerance for heat. Despite the fact that it is NOT very spicy, it has a great taste and we put it on almost everything until the bottle was gone. Still recommend for those who want the flavor over the burn, but will be trying the naga jolokia next.\n",
      "\n",
      "Review-3 : \n",
      " This is a great mix.  Used it in a crock pot, and it's wonderful to come home to a great  meal!\n",
      "\n"
     ]
    }
   ],
   "source": [
    "# Three Reviews of cluster 8\n",
    "count=1\n",
    "for i in range(3):\n",
    "    if i < len(cluster8):\n",
    "        print('Review-%d : \\n %s\\n'%(count,cluster8[i]))\n",
    "        count +=1"
   ]
  },
  {
   "cell_type": "code",
   "execution_count": 103,
   "metadata": {},
   "outputs": [
    {
     "name": "stdout",
     "output_type": "stream",
     "text": [
      "Review-1 : \n",
      " I made crab rangoon and used this sauce as a dipping sauce.  It was great.  I love the fact that it doesn't have MSG in it.  It has the right amount of sweetness.  It is a little spicy, but just the right amount.\n",
      "\n",
      "Review-2 : \n",
      " Completely opposite of other reviewer.  I love these cookies.  However, if you are looking for a cookie that is laden with sugar and chemicals, this is not it.  These aren't overly sweet.  And really not too much chocolate taste in these either.  But I like them.  Finally, a cookie that tastes good that I can eat.  No chemicals, very little salt (35mg) and only 5mg cholesterol.  Oh, and the sugar is only 3g.  So, definitely not sweet.\n",
      "\n",
      "Review-3 : \n",
      " The label says it's Watermelon and Strawberry but I did not taste either one of these flavors.  I did taste adulterated grape and apple and something \"musty like\".  There wasn't really any carbonation either. With the lack of a great flavor and at 140 Calories for this tiny little can of 8.3 ounces with 36 grams of carbs and 35 grams of sugar (albeit natural fruit sugars), I'd rather have a glass of water.  It's wonderful that they do not use any added sugars or corn syrup or preservatives but the flavor and calorie count of this drink just does not justify consuming it.  Then you have to consider the high cost to buy it.....  . NO....I will not be buying this drink EVER again!  The concept of it is marvelous but the follow through...not good!!\n",
      "\n"
     ]
    }
   ],
   "source": [
    "# Three Reviews of cluster 9\n",
    "count=1\n",
    "for i in range(3):\n",
    "    if i < len(cluster9):\n",
    "        print('Review-%d : \\n %s\\n'%(count,cluster9[i]))\n",
    "        count +=1"
   ]
  },
  {
   "cell_type": "code",
   "execution_count": 104,
   "metadata": {},
   "outputs": [
    {
     "name": "stdout",
     "output_type": "stream",
     "text": [
      "Review-1 : \n",
      " This is the best cat food for my feral cats! The 40 lb size is a great buy, and the cat food is good for them! you really can't beat the price for decent food for feeding a lot of cats!\n",
      "\n",
      "Review-2 : \n",
      " I have two golden retrievers with hearty appetites.  Feeding them regular dog food makes them overweight.  I switched to Core Reduced Fat when I began to worry about the quality of the food I was feeding my dogs.  I had fed my dogs expensive dog foods which I got at the grocery store.  When I read the ingredients, I decied to look for something better quality.  From my research I learned that high quality dog foods prevent illness and disease and increase life-span.  Core is made with ingredients like real chicken--not chicken by-products or lots of grain.  Afterall, dogs are carnivores.  Since my dogs have been on Core they have not had the usual ear infections, skin allergies and irritations; their coats are beautiful; they have lots of energy and are overall very healthy.  The extra money I pay for this high quality dog food I definitely save at the vet!\n",
      "\n",
      "Review-3 : \n",
      " What a waste of money. All four cats (three indoor and one feral outdoor cat) won't eat the wet food. They like the juice and will lick that up, but they leave the meaty bits behind. I tried each flavor and not one cat will eat this stuff! I was hoping to save some money with Friskies, but it is what it is. And what it is is food that a hungry wild cat won't eat; she'd rather catch and eat mice. :\\ My suggestion is to go to the store and buy a couple different cans and try that out first. If your cat doesn't eat it, it'll save you from having 2 dozen paper weights.\n",
      "\n"
     ]
    }
   ],
   "source": [
    "# Three Reviews of cluster 10\n",
    "count=1\n",
    "for i in range(3):\n",
    "    if i < len(cluster10):\n",
    "        print('Review-%d : \\n %s\\n'%(count,cluster10[i]))\n",
    "        count +=1"
   ]
  },
  {
   "cell_type": "markdown",
   "metadata": {},
   "source": [
    "# CONCLUSION :-"
   ]
  },
  {
   "cell_type": "markdown",
   "metadata": {},
   "source": [
    "# Procedure Followed :"
   ]
  },
  {
   "cell_type": "markdown",
   "metadata": {},
   "source": [
    "STEP 1 :- Text Preprocessing"
   ]
  },
  {
   "cell_type": "markdown",
   "metadata": {},
   "source": [
    "STEP 2 :- Taking all text data and ignoring class variable ."
   ]
  },
  {
   "cell_type": "markdown",
   "metadata": {},
   "source": [
    "STEP 3:- Training the vectorizer on text_data and later applying same vectorizer on text_data to transform it into vectors"
   ]
  },
  {
   "cell_type": "markdown",
   "metadata": {},
   "source": [
    "STEP 4:- Implementing Hierarchical Clustering using multiple values of clusters ."
   ]
  },
  {
   "cell_type": "markdown",
   "metadata": {},
   "source": [
    "STEP 5:- Reading reviews manually for each cluster"
   ]
  },
  {
   "cell_type": "markdown",
   "metadata": {},
   "source": [
    "Repeat from STEP 3 to STEP 5 for each of these four vectorizers : Bag Of Words(BoW), TFIDF, Avg Word2Vec and TFIDF Word2Vec"
   ]
  },
  {
   "cell_type": "code",
   "execution_count": null,
   "metadata": {},
   "outputs": [],
   "source": []
  }
 ],
 "metadata": {
  "kernelspec": {
   "display_name": "Python 3",
   "language": "python",
   "name": "python3"
  },
  "language_info": {
   "codemirror_mode": {
    "name": "ipython",
    "version": 3
   },
   "file_extension": ".py",
   "mimetype": "text/x-python",
   "name": "python",
   "nbconvert_exporter": "python",
   "pygments_lexer": "ipython3",
   "version": "3.6.5"
  }
 },
 "nbformat": 4,
 "nbformat_minor": 2
}
