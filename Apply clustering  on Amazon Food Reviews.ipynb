{
 "cells": [
  {
   "cell_type": "markdown",
   "metadata": {},
   "source": [
    "# OBJECTIVE :- Apply clustering on Amazon Food Reviews"
   ]
  },
  {
   "cell_type": "code",
   "execution_count": 2,
   "metadata": {},
   "outputs": [],
   "source": [
    "# Importing libraries\n",
    "import warnings\n",
    "warnings.filterwarnings(\"ignore\")\n",
    "\n",
    "import sqlite3\n",
    "import pandas as pd\n",
    "import numpy as np\n",
    "import nltk\n",
    "import string\n",
    "import matplotlib.pyplot as plt\n",
    "%matplotlib inline\n",
    "import seaborn as sns\n",
    "from sklearn.feature_extraction.text import TfidfTransformer\n",
    "from sklearn.feature_extraction.text import TfidfVectorizer\n",
    "\n",
    "from sklearn.feature_extraction.text import CountVectorizer\n",
    "from nltk.stem.porter import PorterStemmer\n",
    "\n",
    "import re\n",
    "\n",
    "import string\n",
    "from nltk.corpus import stopwords\n",
    "from nltk.stem import PorterStemmer\n",
    "from nltk.stem.wordnet import WordNetLemmatizer\n",
    "\n",
    "from gensim.models import Word2Vec\n",
    "from gensim.models import KeyedVectors\n",
    "import pickle"
   ]
  },
  {
   "cell_type": "markdown",
   "metadata": {},
   "source": [
    "# Loading Data"
   ]
  },
  {
   "cell_type": "code",
   "execution_count": 3,
   "metadata": {},
   "outputs": [
    {
     "name": "stdout",
     "output_type": "stream",
     "text": [
      "(525814, 10)\n"
     ]
    },
    {
     "data": {
      "text/html": [
       "<div>\n",
       "<style scoped>\n",
       "    .dataframe tbody tr th:only-of-type {\n",
       "        vertical-align: middle;\n",
       "    }\n",
       "\n",
       "    .dataframe tbody tr th {\n",
       "        vertical-align: top;\n",
       "    }\n",
       "\n",
       "    .dataframe thead th {\n",
       "        text-align: right;\n",
       "    }\n",
       "</style>\n",
       "<table border=\"1\" class=\"dataframe\">\n",
       "  <thead>\n",
       "    <tr style=\"text-align: right;\">\n",
       "      <th></th>\n",
       "      <th>Id</th>\n",
       "      <th>ProductId</th>\n",
       "      <th>UserId</th>\n",
       "      <th>ProfileName</th>\n",
       "      <th>HelpfulnessNumerator</th>\n",
       "      <th>HelpfulnessDenominator</th>\n",
       "      <th>Score</th>\n",
       "      <th>Time</th>\n",
       "      <th>Summary</th>\n",
       "      <th>Text</th>\n",
       "    </tr>\n",
       "  </thead>\n",
       "  <tbody>\n",
       "    <tr>\n",
       "      <th>0</th>\n",
       "      <td>1</td>\n",
       "      <td>B001E4KFG0</td>\n",
       "      <td>A3SGXH7AUHU8GW</td>\n",
       "      <td>delmartian</td>\n",
       "      <td>1</td>\n",
       "      <td>1</td>\n",
       "      <td>positive</td>\n",
       "      <td>1303862400</td>\n",
       "      <td>Good Quality Dog Food</td>\n",
       "      <td>I have bought several of the Vitality canned d...</td>\n",
       "    </tr>\n",
       "    <tr>\n",
       "      <th>1</th>\n",
       "      <td>2</td>\n",
       "      <td>B00813GRG4</td>\n",
       "      <td>A1D87F6ZCVE5NK</td>\n",
       "      <td>dll pa</td>\n",
       "      <td>0</td>\n",
       "      <td>0</td>\n",
       "      <td>negative</td>\n",
       "      <td>1346976000</td>\n",
       "      <td>Not as Advertised</td>\n",
       "      <td>Product arrived labeled as Jumbo Salted Peanut...</td>\n",
       "    </tr>\n",
       "    <tr>\n",
       "      <th>2</th>\n",
       "      <td>3</td>\n",
       "      <td>B000LQOCH0</td>\n",
       "      <td>ABXLMWJIXXAIN</td>\n",
       "      <td>Natalia Corres \"Natalia Corres\"</td>\n",
       "      <td>1</td>\n",
       "      <td>1</td>\n",
       "      <td>positive</td>\n",
       "      <td>1219017600</td>\n",
       "      <td>\"Delight\" says it all</td>\n",
       "      <td>This is a confection that has been around a fe...</td>\n",
       "    </tr>\n",
       "    <tr>\n",
       "      <th>3</th>\n",
       "      <td>4</td>\n",
       "      <td>B000UA0QIQ</td>\n",
       "      <td>A395BORC6FGVXV</td>\n",
       "      <td>Karl</td>\n",
       "      <td>3</td>\n",
       "      <td>3</td>\n",
       "      <td>negative</td>\n",
       "      <td>1307923200</td>\n",
       "      <td>Cough Medicine</td>\n",
       "      <td>If you are looking for the secret ingredient i...</td>\n",
       "    </tr>\n",
       "    <tr>\n",
       "      <th>4</th>\n",
       "      <td>5</td>\n",
       "      <td>B006K2ZZ7K</td>\n",
       "      <td>A1UQRSCLF8GW1T</td>\n",
       "      <td>Michael D. Bigham \"M. Wassir\"</td>\n",
       "      <td>0</td>\n",
       "      <td>0</td>\n",
       "      <td>positive</td>\n",
       "      <td>1350777600</td>\n",
       "      <td>Great taffy</td>\n",
       "      <td>Great taffy at a great price.  There was a wid...</td>\n",
       "    </tr>\n",
       "  </tbody>\n",
       "</table>\n",
       "</div>"
      ],
      "text/plain": [
       "   Id   ProductId          UserId                      ProfileName  \\\n",
       "0   1  B001E4KFG0  A3SGXH7AUHU8GW                       delmartian   \n",
       "1   2  B00813GRG4  A1D87F6ZCVE5NK                           dll pa   \n",
       "2   3  B000LQOCH0   ABXLMWJIXXAIN  Natalia Corres \"Natalia Corres\"   \n",
       "3   4  B000UA0QIQ  A395BORC6FGVXV                             Karl   \n",
       "4   5  B006K2ZZ7K  A1UQRSCLF8GW1T    Michael D. Bigham \"M. Wassir\"   \n",
       "\n",
       "   HelpfulnessNumerator  HelpfulnessDenominator     Score        Time  \\\n",
       "0                     1                       1  positive  1303862400   \n",
       "1                     0                       0  negative  1346976000   \n",
       "2                     1                       1  positive  1219017600   \n",
       "3                     3                       3  negative  1307923200   \n",
       "4                     0                       0  positive  1350777600   \n",
       "\n",
       "                 Summary                                               Text  \n",
       "0  Good Quality Dog Food  I have bought several of the Vitality canned d...  \n",
       "1      Not as Advertised  Product arrived labeled as Jumbo Salted Peanut...  \n",
       "2  \"Delight\" says it all  This is a confection that has been around a fe...  \n",
       "3         Cough Medicine  If you are looking for the secret ingredient i...  \n",
       "4            Great taffy  Great taffy at a great price.  There was a wid...  "
      ]
     },
     "execution_count": 3,
     "metadata": {},
     "output_type": "execute_result"
    }
   ],
   "source": [
    "# using the SQLite Table to read data.\n",
    "con1 = sqlite3.connect('database.sqlite')\n",
    "\n",
    "# Eliminating neutral reviews i.e. those reviews with Score = 3\n",
    "filtered_data = pd.read_sql_query(\" SELECT * FROM Reviews WHERE Score != 3 \", con1)\n",
    "\n",
    "# Give reviews with Score>3 a positive rating, and reviews with a score<3 a negative rating.\n",
    "def polarity(x):\n",
    "    if x < 3:\n",
    "        return 'negative'\n",
    "    return 'positive'\n",
    "\n",
    "# Applying polarity function on Score column of filtered_data\n",
    "filtered_data['Score'] = filtered_data['Score'].map(polarity)\n",
    "\n",
    "print(filtered_data.shape)\n",
    "filtered_data.head()"
   ]
  },
  {
   "cell_type": "markdown",
   "metadata": {},
   "source": [
    "# Data Cleaning: Deduplication"
   ]
  },
  {
   "cell_type": "code",
   "execution_count": 4,
   "metadata": {},
   "outputs": [
    {
     "name": "stdout",
     "output_type": "stream",
     "text": [
      "(364173, 10)\n"
     ]
    },
    {
     "data": {
      "text/plain": [
       "69.25890143662969"
      ]
     },
     "execution_count": 4,
     "metadata": {},
     "output_type": "execute_result"
    }
   ],
   "source": [
    "#Sorting data according to ProductId in ascending order\n",
    "sorted_data=filtered_data.sort_values('ProductId', axis=0, ascending=True, inplace=False, kind='quicksort', na_position='last')\n",
    "\n",
    "#Deduplication of entries\n",
    "final=sorted_data.drop_duplicates(subset={\"UserId\",\"ProfileName\",\"Time\",\"Text\"}, keep='first', inplace=False)\n",
    "print(final.shape)\n",
    "\n",
    "#Checking to see how much % of data still remains\n",
    "((final.shape[0]*1.0)/(filtered_data.shape[0]*1.0)*100)"
   ]
  },
  {
   "cell_type": "code",
   "execution_count": 5,
   "metadata": {},
   "outputs": [
    {
     "name": "stdout",
     "output_type": "stream",
     "text": [
      "(364171, 10)\n"
     ]
    },
    {
     "data": {
      "text/html": [
       "<div>\n",
       "<style scoped>\n",
       "    .dataframe tbody tr th:only-of-type {\n",
       "        vertical-align: middle;\n",
       "    }\n",
       "\n",
       "    .dataframe tbody tr th {\n",
       "        vertical-align: top;\n",
       "    }\n",
       "\n",
       "    .dataframe thead th {\n",
       "        text-align: right;\n",
       "    }\n",
       "</style>\n",
       "<table border=\"1\" class=\"dataframe\">\n",
       "  <thead>\n",
       "    <tr style=\"text-align: right;\">\n",
       "      <th></th>\n",
       "      <th>Id</th>\n",
       "      <th>ProductId</th>\n",
       "      <th>UserId</th>\n",
       "      <th>ProfileName</th>\n",
       "      <th>HelpfulnessNumerator</th>\n",
       "      <th>HelpfulnessDenominator</th>\n",
       "      <th>Score</th>\n",
       "      <th>Time</th>\n",
       "      <th>Summary</th>\n",
       "      <th>Text</th>\n",
       "    </tr>\n",
       "  </thead>\n",
       "  <tbody>\n",
       "    <tr>\n",
       "      <th>138683</th>\n",
       "      <td>150501</td>\n",
       "      <td>0006641040</td>\n",
       "      <td>AJ46FKXOVC7NR</td>\n",
       "      <td>Nicholas A Mesiano</td>\n",
       "      <td>2</td>\n",
       "      <td>2</td>\n",
       "      <td>positive</td>\n",
       "      <td>940809600</td>\n",
       "      <td>This whole series is great way to spend time w...</td>\n",
       "      <td>I can remember seeing the show when it aired o...</td>\n",
       "    </tr>\n",
       "    <tr>\n",
       "      <th>138676</th>\n",
       "      <td>150493</td>\n",
       "      <td>0006641040</td>\n",
       "      <td>AMX0PJKV4PPNJ</td>\n",
       "      <td>E. R. Bird \"Ramseelbird\"</td>\n",
       "      <td>71</td>\n",
       "      <td>72</td>\n",
       "      <td>positive</td>\n",
       "      <td>1096416000</td>\n",
       "      <td>Read it once. Read it twice. Reading Chicken S...</td>\n",
       "      <td>These days, when a person says, \"chicken soup\"...</td>\n",
       "    </tr>\n",
       "    <tr>\n",
       "      <th>138682</th>\n",
       "      <td>150500</td>\n",
       "      <td>0006641040</td>\n",
       "      <td>A1IJKK6Q1GTEAY</td>\n",
       "      <td>A Customer</td>\n",
       "      <td>2</td>\n",
       "      <td>2</td>\n",
       "      <td>positive</td>\n",
       "      <td>1009324800</td>\n",
       "      <td>It Was a favorite!</td>\n",
       "      <td>This was a favorite book of mine when I was a ...</td>\n",
       "    </tr>\n",
       "    <tr>\n",
       "      <th>138681</th>\n",
       "      <td>150499</td>\n",
       "      <td>0006641040</td>\n",
       "      <td>A3E7R866M94L0C</td>\n",
       "      <td>L. Barker \"simienwolf\"</td>\n",
       "      <td>2</td>\n",
       "      <td>2</td>\n",
       "      <td>positive</td>\n",
       "      <td>1065830400</td>\n",
       "      <td>Can't explain why</td>\n",
       "      <td>This book has been a favorite of mine since I ...</td>\n",
       "    </tr>\n",
       "    <tr>\n",
       "      <th>476617</th>\n",
       "      <td>515426</td>\n",
       "      <td>141278509X</td>\n",
       "      <td>AB1A5EGHHVA9M</td>\n",
       "      <td>CHelmic</td>\n",
       "      <td>1</td>\n",
       "      <td>1</td>\n",
       "      <td>positive</td>\n",
       "      <td>1332547200</td>\n",
       "      <td>The best drink mix</td>\n",
       "      <td>This product by Archer Farms is the best drink...</td>\n",
       "    </tr>\n",
       "    <tr>\n",
       "      <th>22621</th>\n",
       "      <td>24751</td>\n",
       "      <td>2734888454</td>\n",
       "      <td>A1C298ITT645B6</td>\n",
       "      <td>Hugh G. Pritchard</td>\n",
       "      <td>0</td>\n",
       "      <td>0</td>\n",
       "      <td>positive</td>\n",
       "      <td>1195948800</td>\n",
       "      <td>Dog Lover Delites</td>\n",
       "      <td>Our dogs just love them.  I saw them in a pet ...</td>\n",
       "    </tr>\n",
       "    <tr>\n",
       "      <th>22620</th>\n",
       "      <td>24750</td>\n",
       "      <td>2734888454</td>\n",
       "      <td>A13ISQV0U9GZIC</td>\n",
       "      <td>Sandikaye</td>\n",
       "      <td>1</td>\n",
       "      <td>1</td>\n",
       "      <td>negative</td>\n",
       "      <td>1192060800</td>\n",
       "      <td>made in china</td>\n",
       "      <td>My dogs loves this chicken but its a product f...</td>\n",
       "    </tr>\n",
       "    <tr>\n",
       "      <th>284375</th>\n",
       "      <td>308077</td>\n",
       "      <td>2841233731</td>\n",
       "      <td>A3QD68O22M2XHQ</td>\n",
       "      <td>LABRNTH</td>\n",
       "      <td>0</td>\n",
       "      <td>0</td>\n",
       "      <td>positive</td>\n",
       "      <td>1345852800</td>\n",
       "      <td>Great recipe book for my babycook</td>\n",
       "      <td>This book is easy to read and the ingredients ...</td>\n",
       "    </tr>\n",
       "    <tr>\n",
       "      <th>157850</th>\n",
       "      <td>171161</td>\n",
       "      <td>7310172001</td>\n",
       "      <td>AFXMWPNS1BLU4</td>\n",
       "      <td>H. Sandler</td>\n",
       "      <td>0</td>\n",
       "      <td>0</td>\n",
       "      <td>positive</td>\n",
       "      <td>1229385600</td>\n",
       "      <td>Excellent treats</td>\n",
       "      <td>I have been feeding my greyhounds these treats...</td>\n",
       "    </tr>\n",
       "    <tr>\n",
       "      <th>157849</th>\n",
       "      <td>171160</td>\n",
       "      <td>7310172001</td>\n",
       "      <td>A74C7IARQEM1R</td>\n",
       "      <td>stucker</td>\n",
       "      <td>0</td>\n",
       "      <td>0</td>\n",
       "      <td>positive</td>\n",
       "      <td>1230076800</td>\n",
       "      <td>Sophie's Treats</td>\n",
       "      <td>This is one product that my welsh terrier can ...</td>\n",
       "    </tr>\n",
       "    <tr>\n",
       "      <th>157833</th>\n",
       "      <td>171144</td>\n",
       "      <td>7310172001</td>\n",
       "      <td>A1V5MY8V9AWUQB</td>\n",
       "      <td>Cheryl Sapper \"champagne girl\"</td>\n",
       "      <td>0</td>\n",
       "      <td>0</td>\n",
       "      <td>positive</td>\n",
       "      <td>1244764800</td>\n",
       "      <td>THE BEST healthy dog treat!</td>\n",
       "      <td>This is the ONLY dog treat that my Lhasa Apso ...</td>\n",
       "    </tr>\n",
       "    <tr>\n",
       "      <th>157832</th>\n",
       "      <td>171143</td>\n",
       "      <td>7310172001</td>\n",
       "      <td>A2SWO60IW01VPX</td>\n",
       "      <td>Sam</td>\n",
       "      <td>0</td>\n",
       "      <td>0</td>\n",
       "      <td>positive</td>\n",
       "      <td>1252022400</td>\n",
       "      <td>My Alaskan Malamute Loves Them!!</td>\n",
       "      <td>These liver treas are phenomenal. When i recei...</td>\n",
       "    </tr>\n",
       "    <tr>\n",
       "      <th>157837</th>\n",
       "      <td>171148</td>\n",
       "      <td>7310172001</td>\n",
       "      <td>A3TFTWTG2CC1GA</td>\n",
       "      <td>J. Umphress</td>\n",
       "      <td>0</td>\n",
       "      <td>0</td>\n",
       "      <td>positive</td>\n",
       "      <td>1240272000</td>\n",
       "      <td>Best treat ever!</td>\n",
       "      <td>This was the only treat my dog liked during ob...</td>\n",
       "    </tr>\n",
       "    <tr>\n",
       "      <th>157831</th>\n",
       "      <td>171142</td>\n",
       "      <td>7310172001</td>\n",
       "      <td>A2ZO1AYFVQYG44</td>\n",
       "      <td>Cindy Rellie \"Rellie\"</td>\n",
       "      <td>0</td>\n",
       "      <td>0</td>\n",
       "      <td>positive</td>\n",
       "      <td>1254960000</td>\n",
       "      <td>my 12 year old maltese has always loved these</td>\n",
       "      <td>No waste , even if she is having a  day when s...</td>\n",
       "    </tr>\n",
       "    <tr>\n",
       "      <th>157830</th>\n",
       "      <td>171141</td>\n",
       "      <td>7310172001</td>\n",
       "      <td>AZ40270J4JBZN</td>\n",
       "      <td>Zhinka Chunmee \"gamer from way back in the 70's\"</td>\n",
       "      <td>0</td>\n",
       "      <td>0</td>\n",
       "      <td>positive</td>\n",
       "      <td>1264291200</td>\n",
       "      <td>Dogs, Cats, Ferrets all love this</td>\n",
       "      <td>I wanted a treat that was accepted and well li...</td>\n",
       "    </tr>\n",
       "    <tr>\n",
       "      <th>157829</th>\n",
       "      <td>171140</td>\n",
       "      <td>7310172001</td>\n",
       "      <td>ADXXVGRCGQQUO</td>\n",
       "      <td>Richard Pearlstein</td>\n",
       "      <td>0</td>\n",
       "      <td>0</td>\n",
       "      <td>positive</td>\n",
       "      <td>1264377600</td>\n",
       "      <td>5 snouts!</td>\n",
       "      <td>My Westie loves these things!  She loves anyth...</td>\n",
       "    </tr>\n",
       "    <tr>\n",
       "      <th>157828</th>\n",
       "      <td>171139</td>\n",
       "      <td>7310172001</td>\n",
       "      <td>A13MS1JQG2ADOJ</td>\n",
       "      <td>C. Perrone</td>\n",
       "      <td>0</td>\n",
       "      <td>0</td>\n",
       "      <td>positive</td>\n",
       "      <td>1265760000</td>\n",
       "      <td>Best dog treat ever</td>\n",
       "      <td>This is the only dog treat that my terrier wil...</td>\n",
       "    </tr>\n",
       "    <tr>\n",
       "      <th>157827</th>\n",
       "      <td>171138</td>\n",
       "      <td>7310172001</td>\n",
       "      <td>A13LAE0YTXA11B</td>\n",
       "      <td>Dita Vyslouzilova \"dita\"</td>\n",
       "      <td>0</td>\n",
       "      <td>0</td>\n",
       "      <td>positive</td>\n",
       "      <td>1269216000</td>\n",
       "      <td>Great for puppy training</td>\n",
       "      <td>New puppy loves this, only treat he will pay a...</td>\n",
       "    </tr>\n",
       "    <tr>\n",
       "      <th>157848</th>\n",
       "      <td>171159</td>\n",
       "      <td>7310172001</td>\n",
       "      <td>A16GY2RCF410DT</td>\n",
       "      <td>LB</td>\n",
       "      <td>0</td>\n",
       "      <td>0</td>\n",
       "      <td>positive</td>\n",
       "      <td>1231718400</td>\n",
       "      <td>Great!</td>\n",
       "      <td>My dog loves these treats!  We started using t...</td>\n",
       "    </tr>\n",
       "    <tr>\n",
       "      <th>157834</th>\n",
       "      <td>171145</td>\n",
       "      <td>7310172001</td>\n",
       "      <td>A1L8DNQYY69L2Z</td>\n",
       "      <td>R. Flores</td>\n",
       "      <td>0</td>\n",
       "      <td>0</td>\n",
       "      <td>positive</td>\n",
       "      <td>1243728000</td>\n",
       "      <td>Terrific Treats</td>\n",
       "      <td>This is a great treat which all three of my do...</td>\n",
       "    </tr>\n",
       "  </tbody>\n",
       "</table>\n",
       "</div>"
      ],
      "text/plain": [
       "            Id   ProductId          UserId  \\\n",
       "138683  150501  0006641040   AJ46FKXOVC7NR   \n",
       "138676  150493  0006641040   AMX0PJKV4PPNJ   \n",
       "138682  150500  0006641040  A1IJKK6Q1GTEAY   \n",
       "138681  150499  0006641040  A3E7R866M94L0C   \n",
       "476617  515426  141278509X   AB1A5EGHHVA9M   \n",
       "22621    24751  2734888454  A1C298ITT645B6   \n",
       "22620    24750  2734888454  A13ISQV0U9GZIC   \n",
       "284375  308077  2841233731  A3QD68O22M2XHQ   \n",
       "157850  171161  7310172001   AFXMWPNS1BLU4   \n",
       "157849  171160  7310172001   A74C7IARQEM1R   \n",
       "157833  171144  7310172001  A1V5MY8V9AWUQB   \n",
       "157832  171143  7310172001  A2SWO60IW01VPX   \n",
       "157837  171148  7310172001  A3TFTWTG2CC1GA   \n",
       "157831  171142  7310172001  A2ZO1AYFVQYG44   \n",
       "157830  171141  7310172001   AZ40270J4JBZN   \n",
       "157829  171140  7310172001   ADXXVGRCGQQUO   \n",
       "157828  171139  7310172001  A13MS1JQG2ADOJ   \n",
       "157827  171138  7310172001  A13LAE0YTXA11B   \n",
       "157848  171159  7310172001  A16GY2RCF410DT   \n",
       "157834  171145  7310172001  A1L8DNQYY69L2Z   \n",
       "\n",
       "                                             ProfileName  \\\n",
       "138683                                Nicholas A Mesiano   \n",
       "138676                          E. R. Bird \"Ramseelbird\"   \n",
       "138682                                        A Customer   \n",
       "138681                            L. Barker \"simienwolf\"   \n",
       "476617                                           CHelmic   \n",
       "22621                                  Hugh G. Pritchard   \n",
       "22620                                          Sandikaye   \n",
       "284375                                           LABRNTH   \n",
       "157850                                        H. Sandler   \n",
       "157849                                           stucker   \n",
       "157833                    Cheryl Sapper \"champagne girl\"   \n",
       "157832                                               Sam   \n",
       "157837                                       J. Umphress   \n",
       "157831                             Cindy Rellie \"Rellie\"   \n",
       "157830  Zhinka Chunmee \"gamer from way back in the 70's\"   \n",
       "157829                                Richard Pearlstein   \n",
       "157828                                        C. Perrone   \n",
       "157827                          Dita Vyslouzilova \"dita\"   \n",
       "157848                                                LB   \n",
       "157834                                         R. Flores   \n",
       "\n",
       "        HelpfulnessNumerator  HelpfulnessDenominator     Score        Time  \\\n",
       "138683                     2                       2  positive   940809600   \n",
       "138676                    71                      72  positive  1096416000   \n",
       "138682                     2                       2  positive  1009324800   \n",
       "138681                     2                       2  positive  1065830400   \n",
       "476617                     1                       1  positive  1332547200   \n",
       "22621                      0                       0  positive  1195948800   \n",
       "22620                      1                       1  negative  1192060800   \n",
       "284375                     0                       0  positive  1345852800   \n",
       "157850                     0                       0  positive  1229385600   \n",
       "157849                     0                       0  positive  1230076800   \n",
       "157833                     0                       0  positive  1244764800   \n",
       "157832                     0                       0  positive  1252022400   \n",
       "157837                     0                       0  positive  1240272000   \n",
       "157831                     0                       0  positive  1254960000   \n",
       "157830                     0                       0  positive  1264291200   \n",
       "157829                     0                       0  positive  1264377600   \n",
       "157828                     0                       0  positive  1265760000   \n",
       "157827                     0                       0  positive  1269216000   \n",
       "157848                     0                       0  positive  1231718400   \n",
       "157834                     0                       0  positive  1243728000   \n",
       "\n",
       "                                                  Summary  \\\n",
       "138683  This whole series is great way to spend time w...   \n",
       "138676  Read it once. Read it twice. Reading Chicken S...   \n",
       "138682                                 It Was a favorite!   \n",
       "138681                                  Can't explain why   \n",
       "476617                                 The best drink mix   \n",
       "22621                                   Dog Lover Delites   \n",
       "22620                                       made in china   \n",
       "284375                  Great recipe book for my babycook   \n",
       "157850                                   Excellent treats   \n",
       "157849                                    Sophie's Treats   \n",
       "157833                        THE BEST healthy dog treat!   \n",
       "157832                   My Alaskan Malamute Loves Them!!   \n",
       "157837                                   Best treat ever!   \n",
       "157831      my 12 year old maltese has always loved these   \n",
       "157830                  Dogs, Cats, Ferrets all love this   \n",
       "157829                                          5 snouts!   \n",
       "157828                                Best dog treat ever   \n",
       "157827                           Great for puppy training   \n",
       "157848                                             Great!   \n",
       "157834                                    Terrific Treats   \n",
       "\n",
       "                                                     Text  \n",
       "138683  I can remember seeing the show when it aired o...  \n",
       "138676  These days, when a person says, \"chicken soup\"...  \n",
       "138682  This was a favorite book of mine when I was a ...  \n",
       "138681  This book has been a favorite of mine since I ...  \n",
       "476617  This product by Archer Farms is the best drink...  \n",
       "22621   Our dogs just love them.  I saw them in a pet ...  \n",
       "22620   My dogs loves this chicken but its a product f...  \n",
       "284375  This book is easy to read and the ingredients ...  \n",
       "157850  I have been feeding my greyhounds these treats...  \n",
       "157849  This is one product that my welsh terrier can ...  \n",
       "157833  This is the ONLY dog treat that my Lhasa Apso ...  \n",
       "157832  These liver treas are phenomenal. When i recei...  \n",
       "157837  This was the only treat my dog liked during ob...  \n",
       "157831  No waste , even if she is having a  day when s...  \n",
       "157830  I wanted a treat that was accepted and well li...  \n",
       "157829  My Westie loves these things!  She loves anyth...  \n",
       "157828  This is the only dog treat that my terrier wil...  \n",
       "157827  New puppy loves this, only treat he will pay a...  \n",
       "157848  My dog loves these treats!  We started using t...  \n",
       "157834  This is a great treat which all three of my do...  "
      ]
     },
     "execution_count": 5,
     "metadata": {},
     "output_type": "execute_result"
    }
   ],
   "source": [
    "# Removing rows where HelpfulnessNumerator is greater than HelpfulnessDenominator\n",
    "final = final[final.HelpfulnessNumerator <= final.HelpfulnessDenominator]\n",
    "\n",
    "print(final.shape)\n",
    "final[30:50]"
   ]
  },
  {
   "cell_type": "markdown",
   "metadata": {},
   "source": [
    "OBSERVATION :- Here books with ProductId - 0006641040 and 2841233731 are also there so we have to remove all these rows with these ProductIds from the data"
   ]
  },
  {
   "cell_type": "code",
   "execution_count": 6,
   "metadata": {},
   "outputs": [
    {
     "data": {
      "text/plain": [
       "(364136, 10)"
      ]
     },
     "execution_count": 6,
     "metadata": {},
     "output_type": "execute_result"
    }
   ],
   "source": [
    "final = final[final['ProductId'] != '2841233731']\n",
    "final = final[final['ProductId'] != '0006641040']\n",
    "final.shape"
   ]
  },
  {
   "cell_type": "markdown",
   "metadata": {},
   "source": [
    "# Text Preprocessing: Stemming, stop-word removal and Lemmatization."
   ]
  },
  {
   "cell_type": "code",
   "execution_count": 7,
   "metadata": {},
   "outputs": [],
   "source": [
    "#set of stopwords in English\n",
    "from nltk.corpus import stopwords\n",
    "stop = set(stopwords.words('english'))\n",
    "words_to_keep = set(('not'))\n",
    "stop -= words_to_keep\n",
    "#initialising the snowball stemmer\n",
    "sno = nltk.stem.SnowballStemmer('english')\n",
    "\n",
    " #function to clean the word of any html-tags\n",
    "def cleanhtml(sentence):\n",
    "    cleanr = re.compile('<.*?>')\n",
    "    cleantext = re.sub(cleanr, ' ', sentence)\n",
    "    return cleantext\n",
    "\n",
    "#function to clean the word of any punctuation or special characters\n",
    "def cleanpunc(sentence): \n",
    "    cleaned = re.sub(r'[?|!|\\'|\"|#]',r'',sentence)\n",
    "    cleaned = re.sub(r'[.|,|)|(|\\|/]',r' ',cleaned)\n",
    "    return  cleaned"
   ]
  },
  {
   "cell_type": "code",
   "execution_count": 8,
   "metadata": {},
   "outputs": [],
   "source": [
    "#Code for removing HTML tags , punctuations . Code for removing stopwords . Code for checking if word is not alphanumeric and\n",
    "# also greater than 2 . Code for stemmimg and also to convert them to lowercase letters \n",
    "i=0\n",
    "str1=' '\n",
    "final_string=[]\n",
    "all_positive_words=[] # store words from +ve reviews here\n",
    "all_negative_words=[] # store words from -ve reviews here.\n",
    "s=''\n",
    "for sent in final['Text'].values:\n",
    "    filtered_sentence=[]\n",
    "    #print(sent);\n",
    "    sent=cleanhtml(sent) # remove HTMl tags\n",
    "    for w in sent.split():\n",
    "        for cleaned_words in cleanpunc(w).split():\n",
    "            if((cleaned_words.isalpha()) & (len(cleaned_words)>2)):    \n",
    "                if(cleaned_words.lower() not in stop):\n",
    "                    s=(sno.stem(cleaned_words.lower())).encode('utf8')\n",
    "                    filtered_sentence.append(s)\n",
    "                    if (final['Score'].values)[i] == 'positive': \n",
    "                        all_positive_words.append(s) #list of all words used to describe positive reviews\n",
    "                    if(final['Score'].values)[i] == 'negative':\n",
    "                        all_negative_words.append(s) #list of all words used to describe negative reviews reviews\n",
    "                else:\n",
    "                    continue\n",
    "            else:\n",
    "                continue \n",
    "    \n",
    "    str1 = b\" \".join(filtered_sentence) #final string of cleaned words\n",
    "    \n",
    "    \n",
    "    final_string.append(str1)\n",
    "    i+=1"
   ]
  },
  {
   "cell_type": "code",
   "execution_count": 9,
   "metadata": {},
   "outputs": [
    {
     "name": "stdout",
     "output_type": "stream",
     "text": [
      "Shape of final (364136, 11)\n"
     ]
    },
    {
     "data": {
      "text/html": [
       "<div>\n",
       "<style scoped>\n",
       "    .dataframe tbody tr th:only-of-type {\n",
       "        vertical-align: middle;\n",
       "    }\n",
       "\n",
       "    .dataframe tbody tr th {\n",
       "        vertical-align: top;\n",
       "    }\n",
       "\n",
       "    .dataframe thead th {\n",
       "        text-align: right;\n",
       "    }\n",
       "</style>\n",
       "<table border=\"1\" class=\"dataframe\">\n",
       "  <thead>\n",
       "    <tr style=\"text-align: right;\">\n",
       "      <th></th>\n",
       "      <th>Id</th>\n",
       "      <th>ProductId</th>\n",
       "      <th>UserId</th>\n",
       "      <th>ProfileName</th>\n",
       "      <th>HelpfulnessNumerator</th>\n",
       "      <th>HelpfulnessDenominator</th>\n",
       "      <th>Score</th>\n",
       "      <th>Time</th>\n",
       "      <th>Summary</th>\n",
       "      <th>Text</th>\n",
       "      <th>CleanedText</th>\n",
       "    </tr>\n",
       "  </thead>\n",
       "  <tbody>\n",
       "    <tr>\n",
       "      <th>476617</th>\n",
       "      <td>515426</td>\n",
       "      <td>141278509X</td>\n",
       "      <td>AB1A5EGHHVA9M</td>\n",
       "      <td>CHelmic</td>\n",
       "      <td>1</td>\n",
       "      <td>1</td>\n",
       "      <td>positive</td>\n",
       "      <td>1332547200</td>\n",
       "      <td>The best drink mix</td>\n",
       "      <td>This product by Archer Farms is the best drink...</td>\n",
       "      <td>product archer farm best drink mix ever mix fl...</td>\n",
       "    </tr>\n",
       "    <tr>\n",
       "      <th>22621</th>\n",
       "      <td>24751</td>\n",
       "      <td>2734888454</td>\n",
       "      <td>A1C298ITT645B6</td>\n",
       "      <td>Hugh G. Pritchard</td>\n",
       "      <td>0</td>\n",
       "      <td>0</td>\n",
       "      <td>positive</td>\n",
       "      <td>1195948800</td>\n",
       "      <td>Dog Lover Delites</td>\n",
       "      <td>Our dogs just love them.  I saw them in a pet ...</td>\n",
       "      <td>dog love saw pet store tag attach regard made ...</td>\n",
       "    </tr>\n",
       "    <tr>\n",
       "      <th>22620</th>\n",
       "      <td>24750</td>\n",
       "      <td>2734888454</td>\n",
       "      <td>A13ISQV0U9GZIC</td>\n",
       "      <td>Sandikaye</td>\n",
       "      <td>1</td>\n",
       "      <td>1</td>\n",
       "      <td>negative</td>\n",
       "      <td>1192060800</td>\n",
       "      <td>made in china</td>\n",
       "      <td>My dogs loves this chicken but its a product f...</td>\n",
       "      <td>dog love chicken product china wont buy anymor...</td>\n",
       "    </tr>\n",
       "    <tr>\n",
       "      <th>157850</th>\n",
       "      <td>171161</td>\n",
       "      <td>7310172001</td>\n",
       "      <td>AFXMWPNS1BLU4</td>\n",
       "      <td>H. Sandler</td>\n",
       "      <td>0</td>\n",
       "      <td>0</td>\n",
       "      <td>positive</td>\n",
       "      <td>1229385600</td>\n",
       "      <td>Excellent treats</td>\n",
       "      <td>I have been feeding my greyhounds these treats...</td>\n",
       "      <td>feed greyhound treat year hound littl finicki ...</td>\n",
       "    </tr>\n",
       "    <tr>\n",
       "      <th>157849</th>\n",
       "      <td>171160</td>\n",
       "      <td>7310172001</td>\n",
       "      <td>A74C7IARQEM1R</td>\n",
       "      <td>stucker</td>\n",
       "      <td>0</td>\n",
       "      <td>0</td>\n",
       "      <td>positive</td>\n",
       "      <td>1230076800</td>\n",
       "      <td>Sophie's Treats</td>\n",
       "      <td>This is one product that my welsh terrier can ...</td>\n",
       "      <td>one product welsh terrier eat sophi food alerg...</td>\n",
       "    </tr>\n",
       "  </tbody>\n",
       "</table>\n",
       "</div>"
      ],
      "text/plain": [
       "            Id   ProductId          UserId        ProfileName  \\\n",
       "476617  515426  141278509X   AB1A5EGHHVA9M            CHelmic   \n",
       "22621    24751  2734888454  A1C298ITT645B6  Hugh G. Pritchard   \n",
       "22620    24750  2734888454  A13ISQV0U9GZIC          Sandikaye   \n",
       "157850  171161  7310172001   AFXMWPNS1BLU4         H. Sandler   \n",
       "157849  171160  7310172001   A74C7IARQEM1R            stucker   \n",
       "\n",
       "        HelpfulnessNumerator  HelpfulnessDenominator     Score        Time  \\\n",
       "476617                     1                       1  positive  1332547200   \n",
       "22621                      0                       0  positive  1195948800   \n",
       "22620                      1                       1  negative  1192060800   \n",
       "157850                     0                       0  positive  1229385600   \n",
       "157849                     0                       0  positive  1230076800   \n",
       "\n",
       "                   Summary                                               Text  \\\n",
       "476617  The best drink mix  This product by Archer Farms is the best drink...   \n",
       "22621    Dog Lover Delites  Our dogs just love them.  I saw them in a pet ...   \n",
       "22620        made in china  My dogs loves this chicken but its a product f...   \n",
       "157850    Excellent treats  I have been feeding my greyhounds these treats...   \n",
       "157849     Sophie's Treats  This is one product that my welsh terrier can ...   \n",
       "\n",
       "                                              CleanedText  \n",
       "476617  product archer farm best drink mix ever mix fl...  \n",
       "22621   dog love saw pet store tag attach regard made ...  \n",
       "22620   dog love chicken product china wont buy anymor...  \n",
       "157850  feed greyhound treat year hound littl finicki ...  \n",
       "157849  one product welsh terrier eat sophi food alerg...  "
      ]
     },
     "execution_count": 9,
     "metadata": {},
     "output_type": "execute_result"
    }
   ],
   "source": [
    "#adding a column of CleanedText which displays the data after pre-processing of the review\n",
    "final['CleanedText']=final_string  \n",
    "final['CleanedText']=final['CleanedText'].str.decode(\"utf-8\")\n",
    "#below the processed review can be seen in the CleanedText Column \n",
    "print('Shape of final',final.shape)\n",
    "final.head()"
   ]
  },
  {
   "cell_type": "markdown",
   "metadata": {},
   "source": [
    "RANDOMLY SAMPLING 40K POINTS OUT OF WHOLE DATASET"
   ]
  },
  {
   "cell_type": "code",
   "execution_count": 10,
   "metadata": {},
   "outputs": [],
   "source": [
    "##Sorting data according to Time in ascending order for Time Based Splitting\n",
    "time_sorted_data = final.sort_values('Time', axis=0, ascending=True, inplace=False, kind='quicksort', na_position='last')\n",
    "\n",
    "# We will collect different 40K rows without repetition from time_sorted_data dataframe\n",
    "my_final = time_sorted_data.take(np.random.permutation(len(final))[:40000])\n",
    "\n",
    "x = my_final['CleanedText'].values"
   ]
  },
  {
   "cell_type": "markdown",
   "metadata": {},
   "source": [
    "# Implementing K-Means++ and K-medoids "
   ]
  },
  {
   "cell_type": "markdown",
   "metadata": {},
   "source": [
    "# (1). Bag of Words (BoW)"
   ]
  },
  {
   "cell_type": "code",
   "execution_count": 11,
   "metadata": {},
   "outputs": [
    {
     "name": "stdout",
     "output_type": "stream",
     "text": [
      "the type of count vectorizer : <class 'scipy.sparse.csr.csr_matrix'>\n",
      "the shape of out text BOW vectorizer :  (40000, 268)\n",
      "the number of unique words : 268\n"
     ]
    }
   ],
   "source": [
    "#BoW\n",
    "count_vect = CountVectorizer(min_df = 1000) \n",
    "data = count_vect.fit_transform(x)\n",
    "print(\"the type of count vectorizer :\",type(data))\n",
    "print(\"the shape of out text BOW vectorizer : \",data.get_shape())\n",
    "print(\"the number of unique words :\", data.get_shape()[1])"
   ]
  },
  {
   "cell_type": "markdown",
   "metadata": {},
   "source": [
    "# (1.a). K-Means++ Implementation"
   ]
  },
  {
   "cell_type": "code",
   "execution_count": 12,
   "metadata": {},
   "outputs": [],
   "source": [
    "from sklearn.cluster import KMeans\n",
    "\n",
    "k_values = [2,3,4,5,6,7,8,9,10]\n",
    "loss = []\n",
    "for i in k_values:\n",
    "    kmeans = KMeans(n_clusters=i, n_jobs=-1).fit(data)\n",
    "    loss.append(kmeans.inertia_)"
   ]
  },
  {
   "cell_type": "markdown",
   "metadata": {},
   "source": [
    "ELBOW METHOD :"
   ]
  },
  {
   "cell_type": "code",
   "execution_count": 13,
   "metadata": {},
   "outputs": [
    {
     "data": {
      "image/png": "[encoded data removed]",
      "text/plain": [
       "<Figure size 432x288 with 1 Axes>"
      ]
     },
     "metadata": {},
     "output_type": "display_data"
    }
   ],
   "source": [
    "# Draw Loss VS K values plot\n",
    "plt.plot(k_values, loss)\n",
    "plt.xlabel('K-values',size=14)\n",
    "plt.ylabel('Loss',size=14)\n",
    "plt.title('Loss VS K-values Plot\\n',size=18)\n",
    "plt.grid()\n",
    "plt.show()"
   ]
  },
  {
   "cell_type": "markdown",
   "metadata": {},
   "source": [
    "OBSERVATION :- From above we can see that there is inflection at K = 5 . Befor it loss was decreasing faster as compared to the loss decreasing after it . So , the best value of K is 5."
   ]
  },
  {
   "cell_type": "code",
   "execution_count": 14,
   "metadata": {},
   "outputs": [],
   "source": [
    "optimal_k = 5\n",
    "# Variable that will be used in the conclusion \n",
    "bow_means_k = optimal_k\n",
    "\n",
    "# Implementing K-Means++ using optimal value of K\n",
    "kmeans = KMeans(n_clusters=optimal_k, n_jobs=-1).fit(data)"
   ]
  },
  {
   "cell_type": "code",
   "execution_count": 15,
   "metadata": {},
   "outputs": [
    {
     "name": "stdout",
     "output_type": "stream",
     "text": [
      "No. of reviews in Cluster-1 :  31882\n",
      "\n",
      "No. of reviews in Cluster-2 :  5108\n",
      "\n",
      "No. of reviews in Cluster-3 :  1299\n",
      "\n",
      "No. of reviews in Cluster-4 :  911\n",
      "\n",
      "No. of reviews in Cluster-5 :  800\n"
     ]
    }
   ],
   "source": [
    "reviews = my_final['Text'].values\n",
    "# Getting all the reviews in different clusters\n",
    "cluster1 = []\n",
    "cluster2 = []\n",
    "cluster3 = []\n",
    "cluster4 = []\n",
    "cluster5 = []\n",
    "\n",
    "for i in range(kmeans.labels_.shape[0]):\n",
    "    if kmeans.labels_[i] == 0:\n",
    "        cluster1.append(reviews[i])\n",
    "    elif kmeans.labels_[i] == 1:\n",
    "        cluster2.append(reviews[i])\n",
    "    elif kmeans.labels_[i] == 2:\n",
    "        cluster3.append(reviews[i])\n",
    "    elif kmeans.labels_[i] == 3:\n",
    "        cluster4.append(reviews[i])\n",
    "    else :\n",
    "        cluster5.append(reviews[i]) \n",
    "        \n",
    "# Number of reviews in different clusters\n",
    "print(\"No. of reviews in Cluster-1 : \",len(cluster1))\n",
    "print(\"\\nNo. of reviews in Cluster-2 : \",len(cluster2))\n",
    "print(\"\\nNo. of reviews in Cluster-3 : \",len(cluster3))\n",
    "print(\"\\nNo. of reviews in Cluster-4 : \",len(cluster4))\n",
    "print(\"\\nNo. of reviews in Cluster-5 : \",len(cluster5))        "
   ]
  },
  {
   "cell_type": "markdown",
   "metadata": {},
   "source": [
    "READING REVIEWS MANUALLY:"
   ]
  },
  {
   "cell_type": "code",
   "execution_count": 16,
   "metadata": {},
   "outputs": [
    {
     "name": "stdout",
     "output_type": "stream",
     "text": [
      "Review-1 : \n",
      " Love this stuff...great flavor....you can't get more authentic Mexican. Don't hesitate to purchase...you'll love it!\n",
      "\n",
      "Review-2 : \n",
      " I used to grow my own garden of Collard Greens, and ate them regularly.  Since I travel more now, I just buy them cooked in cans.  I've tried Glory Collard Greens and a few others, and these have to be the best for the price with subscribe and save.  Yes, they do contain sodium (under 1200mg for the entire can) but that's pretty much typical of canned foods anymore, especially if you're looking at pre-seasoned products.  Regardless, these greens are  D-licious, and compliment almost any meal without any effort.\n",
      "\n",
      "Review-3 : \n",
      " I will order from here again; love these beans; mom lives in texas and cannot find these where I live now. so this made it easy for me.\n",
      "\n"
     ]
    }
   ],
   "source": [
    "# Three Reviews of cluster 1\n",
    "count=1\n",
    "for i in range(3):\n",
    "    print('Review-%d : \\n %s\\n'%(count,cluster1[i]))\n",
    "    count +=1"
   ]
  },
  {
   "cell_type": "code",
   "execution_count": 17,
   "metadata": {},
   "outputs": [
    {
     "name": "stdout",
     "output_type": "stream",
     "text": [
      "Review-1 : \n",
      " The first sip of Izze's sparkling apple juice was a bit of a shock, albeit a pleasant one.  It was bright and crisp, with an unexpectedly clear bite from the carbonation.  Tart enough that it really was a bit like taking a chunk out of a fresh Granny Smith.  Granted, some of this tartness comes from the other juices used in its creation, including but not necessarily limited to lemon and white grape.  Nonetheless, the flavor profile is all apple, and what's left (to borrow Izze's own tag line) is a \"naturally delightful\" and wholly refreshing vitamin-enriched (C, B6, and Niacin) beverage, delivered in a 8.4 fluid ounce slim can.<br /><br />We were impressed enough with the apple, that we went out and picked up bottles of blueberry, clementine, and peach.  Each provided similarly terrific tastes and experiences, although we did feel that the tartness that added to the apple juice 'realism' somewhat translated to less purely-blueberry (for example) profiles for some of the other flavors.  Nonetheless, we loved them all.<br /><br />Everyone's going to have different palettes and desires, but for a household that doesn't consume soft drinks, we found these to be a tasty and welcome diversion and alternative from our normal fare.  Izze has a new group of fans, and we're looking forward to trying more flavors.  Apple, at the very least, is going to be a staple around here.\n",
      "\n",
      "Review-2 : \n",
      " This is a great product with a fresh taste.  I am a school teacher and I use this powder every morning and it gets me all the way to lunch without feeling hungry.  I mix it with a banana, half cup blueberries, strawberries, yogurt, and 4 ounces of juice.  I highly recommend this if you are looking for a good way to add a large amount of fiber to your diet in an easy way.  The grittiness wasn't at all hard for me to get used to and I am a very picky eater so I figure if it's good for me, it will be good for most.  If you are watching your calorie intake, I recommend using half the designated serving size, I was a little surprised at the amount of calories in it, especially since I add all kinds of stuff to it.<br />Wonderful product!\n",
      "\n",
      "Review-3 : \n",
      " These are the absolute best things I have bought for my dog! We got them when she was a puppy and it was a savior. I really feel it got her need to chew on things out and not on shoes, table legs, etc.  It is also a good babysitter! When we had our dog as a puppy and at night we would want to sit down and chill out at night but she would be ready to go so we give her one of these and she would sit there for at least 2 hours chewing away.  Merrick is an excellent company with quality products that I am confident using.  I give my dog one of these every couple days, that is how long it takes her to go through one.\n",
      "\n"
     ]
    }
   ],
   "source": [
    "# Three Reviews of cluster 2\n",
    "count=1\n",
    "for i in range(3):\n",
    "    print('Review-%d : \\n %s\\n'%(count,cluster2[i]))\n",
    "    count +=1"
   ]
  },
  {
   "cell_type": "code",
   "execution_count": 18,
   "metadata": {},
   "outputs": [
    {
     "name": "stdout",
     "output_type": "stream",
     "text": [
      "Review-1 : \n",
      " I'm going to admit I'm a coffee addict but not a Starbucks fan.  Assuming you like Starbucks coffee (if you don't know...just go to a shop before you buy a package), this is a drip grind, medium strength.  It's definitely not a French/Dark roast.  It wouldn't hold cream well at all without over-powering it.<br /><br />That said, there is barely ANY vanilla taste to hit although the grounds have a strong vanilla aroma.  In general, a hazelnut coffee has about 3x the flavored taste as this does.  Yes I do realize vanilla is a much more subtle taste.<br /><br />I would recommend either adding a drop of vanilla extract, shot of vanilla syrup or vanilla cream to your already favorite cup of joe.\n",
      "\n",
      "Review-2 : \n",
      " Let me first say that I absolutely LOVE my coffee.<br /><br />The taste is decent, but I wouldn't call it much of a dark roast.  I was expecting a much more bold taste.  It tastes good though, and is certainly worth the money.<br /><br />The greatest thing about this coffee is that it doesn't bother my stomach.  I end up having to give away about 1/2 of my coffees because they bother my stomach so badly.<br /><br />I really can't say much more though.  All in all, this is slightly above average tasting REGULAR coffee at a great price.<br /><br />I'm going to end up giving some of these away for Christmas and drinking the rest myself.<br /><br />Would I buy again?  Probably not.  To put it simply - I prefer a bolder coffee.\n",
      "\n",
      "Review-3 : \n",
      " Nice strong coffee - smooth but does have a bit of acidic taste at the end. My favorite is Coffee People's Donut Shop, and the Double Black Diamond is a bit stronger with a kick at the end. I've tried three cups so far. Of course it's all preference, but I think this is great. I would buy again. Strong but not too strong. Of course I do drink it slowly...this is not one to gulp down! Don't let the reviews scare you - if you're looking for a new bold coffee try the Green Mountain bold sampler pack - good choices in there, including this one!\n",
      "\n"
     ]
    }
   ],
   "source": [
    "# Three Reviews of cluster 3\n",
    "count=1\n",
    "for i in range(3):\n",
    "    print('Review-%d : \\n %s\\n'%(count,cluster3[i]))\n",
    "    count +=1"
   ]
  },
  {
   "cell_type": "code",
   "execution_count": 19,
   "metadata": {},
   "outputs": [
    {
     "name": "stdout",
     "output_type": "stream",
     "text": [
      "Review-1 : \n",
      " While this tea is good, its name promised more than the flavor delivered, at least the way I prepared it (steeped as a black tea). I only use a teaspoon of Splenda and no milk in my tea. If you use milk you may enjoy the tea more than I. At any rate, the tea was disappointing to me.<br /><br />Stash's chocolate hazelnut is more satisfying if it's chocolate one craves.<br /><br />While this tea was below my expectations, Talbott's Chelsea Morning Blend exceeded my hopes!\n",
      "\n",
      "Review-2 : \n",
      " I am an avid tea drinker who turned to the drink after realizing my body can't really tolerate coffee. I enjoy Rooibos on occasion and use it for chai when serving to people who are sensative to caffine.<br /><br />One important point about Rooibos is that it isn't technically tea it doesn't come from the Camellia Sinensis fmaily and therefore is considered an herbal.  It's a common mistake to label things which aren't true tea as teas, but a bigger mistake would be to label this \"espresso\".<br /><br />The only thing Red Espresso has in common with Espresso (aside from how you may chose to prepare it) is how it is ground.  When dealing with herbals and teas the more surface area that the water has contact with when you brew it, the more bitter the resulting beverage. With Red Espresso, rather than getting a sweet and clean tasting beverage, that you'd get from traditionally prepared rooibos, you get one which is much more bitter and sharp.<br /><br />I tried preparing this tea a number of different ways and found it took a lot to get the water to grounds ratio right. With only one exception I was never quite pleased with the resulting beverage.  The best luck I had with Red Espresso was to put it on the stovetop in water and then add chai spices to the mix, drain through a strainer and then adding milk and sweetner.<br /><br />I recognize people will turn to products like this for the health benefits, but I think they'll be disappointed with the experience of drinking this like coffee. For a much better coffee substitute I recommend Choffy which approximates the taste of coffee much closer.<br /><br />But if you're looking to give up your regular cup-o-joe for tea, this isn't the way to go. You'd be much better served picking up some Yunnan Gold or an Assam black tea, brewing it strong and adding milk and sweetener (if desired). If you're set on rooibos then look for the full unground needles to use to brew a much more pleasant cup.\n",
      "\n",
      "Review-3 : \n",
      " I have found to really enjoy the flavor of this tea.<br />I would give it 4 1/2 stars.<br />I read the review that gave it 1 star and wanted to write this review.<br />I've tasted many teas from Teavana, tea at the Four Seasons Hotel, restaurants, store-bought: and this is still one of my favorites.<br />I really like the flavor, especially with a little honey!<br />It's good tea for the price - you can find it on amazon.com for just under $20, and you get six boxes.<br /><br />P.S. Gypsy Zen makes an excellent Organic White tea with Peppermint and Hibiscus.  I find it calming and soothing.\n",
      "\n"
     ]
    }
   ],
   "source": [
    "# Three Reviews of cluster 4\n",
    "count=1\n",
    "for i in range(3):\n",
    "    print('Review-%d : \\n %s\\n'%(count,cluster4[i]))\n",
    "    count +=1"
   ]
  },
  {
   "cell_type": "code",
   "execution_count": 20,
   "metadata": {},
   "outputs": [
    {
     "name": "stdout",
     "output_type": "stream",
     "text": [
      "Review-1 : \n",
      " I have three cats, all with specific dietary needs. Evo is the only food that meets all their requirements (except the calories - unless I get the reduced calorie). My vet also recommends that I give my one cat we food so that she has more water in her diet (she develops stones in her bladder). The only problem is that she will not touch wet food since I have given her dry her entire life. I was shocked when she actually preferred the wet over the dry! This is what I have been feeding them since I found it. They are active and healthy. No new stones in over a year in my one cat too!!\n",
      "\n",
      "Review-2 : \n",
      " It took him a few days, but Roofus the Cat came around to having this new type of food in his dish. He still has a problem with eating too fast from time to time, which leads to cat vomit on the floor, but that has little to nothing to do with the food itself. For help cleaning up cat puke, check my other reviews for paper towel recommendations.<br /><br />I think I'm likely to keep buying this brand. The details on the package (what's inside, how much to use, how to transition a cat to this food, etc.) are very understandable and informative. A lower cost would be nice, but oh well.\n",
      "\n",
      "Review-3 : \n",
      " My son who eats everything, actually refused to eat this baby food.  I got it as a 'spare' for when we're travelling.  Unfortunately it smells a bit like dog food and there isn't any thing worth saying about it.  Even I wouldn't eat it and I am a firm believer that if I can't eat it, neither should he.  Texture wise it is good as  stage-3 food.\n",
      "\n"
     ]
    }
   ],
   "source": [
    "# Three Reviews of cluster 5\n",
    "count=1\n",
    "for i in range(3):\n",
    "    print('Review-%d : \\n %s\\n'%(count,cluster5[i]))\n",
    "    count +=1"
   ]
  },
  {
   "cell_type": "markdown",
   "metadata": {},
   "source": [
    "# (1.b) K-Medoids Implementation"
   ]
  },
  {
   "cell_type": "code",
   "execution_count": 22,
   "metadata": {},
   "outputs": [
    {
     "name": "stdout",
     "output_type": "stream",
     "text": [
      "No. of reviews in Cluster-1 :  102\n",
      "\n",
      "No. of reviews in Cluster-2 :  65\n",
      "\n",
      "No. of reviews in Cluster-3 :  3570\n",
      "\n",
      "No. of reviews in Cluster-4 :  8\n",
      "\n",
      "No. of reviews in Cluster-5 :  255\n"
     ]
    }
   ],
   "source": [
    "from sklearn.metrics.pairwise import pairwise_distances\n",
    "import kmedoids\n",
    "\n",
    "data1 = data[0:4000,:]\n",
    "# distance matrix\n",
    "D = pairwise_distances(data1, metric='euclidean')\n",
    "\n",
    "# split into optimal value of clusters\n",
    "M, C = kmedoids.kMedoids(D, optimal_k)\n",
    "\n",
    "# Getting the reviews in all clusters\n",
    "cluster1 = []\n",
    "cluster2 = []\n",
    "cluster3 = []\n",
    "cluster4 = []\n",
    "cluster5 = []\n",
    "\n",
    "for label in C:\n",
    "    for point_idx in C[label]:\n",
    "        if label == 0 :\n",
    "            cluster1.append(reviews[point_idx])\n",
    "        elif label == 1:\n",
    "            cluster2.append(reviews[point_idx])\n",
    "        elif label == 2:\n",
    "            cluster3.append(reviews[point_idx])\n",
    "        elif label == 3:\n",
    "            cluster4.append(reviews[point_idx])\n",
    "        else :\n",
    "            cluster5.append(reviews[point_idx])\n",
    "            \n",
    "# Number of reviews in different clusters\n",
    "print(\"No. of reviews in Cluster-1 : \",len(cluster1))\n",
    "print(\"\\nNo. of reviews in Cluster-2 : \",len(cluster2))\n",
    "print(\"\\nNo. of reviews in Cluster-3 : \",len(cluster3))\n",
    "print(\"\\nNo. of reviews in Cluster-4 : \",len(cluster4))\n",
    "print(\"\\nNo. of reviews in Cluster-5 : \",len(cluster5)) "
   ]
  },
  {
   "cell_type": "markdown",
   "metadata": {},
   "source": [
    "READING REVIEWS MANUALLY:"
   ]
  },
  {
   "cell_type": "code",
   "execution_count": 23,
   "metadata": {},
   "outputs": [
    {
     "name": "stdout",
     "output_type": "stream",
     "text": [
      "Review-1 : \n",
      " I have three cats, all with specific dietary needs. Evo is the only food that meets all their requirements (except the calories - unless I get the reduced calorie). My vet also recommends that I give my one cat we food so that she has more water in her diet (she develops stones in her bladder). The only problem is that she will not touch wet food since I have given her dry her entire life. I was shocked when she actually preferred the wet over the dry! This is what I have been feeding them since I found it. They are active and healthy. No new stones in over a year in my one cat too!!\n",
      "\n",
      "Review-2 : \n",
      " It took him a few days, but Roofus the Cat came around to having this new type of food in his dish. He still has a problem with eating too fast from time to time, which leads to cat vomit on the floor, but that has little to nothing to do with the food itself. For help cleaning up cat puke, check my other reviews for paper towel recommendations.<br /><br />I think I'm likely to keep buying this brand. The details on the package (what's inside, how much to use, how to transition a cat to this food, etc.) are very understandable and informative. A lower cost would be nice, but oh well.\n",
      "\n",
      "Review-3 : \n",
      " I'm a relatively new cat owner and admittedly have not used any other litter but this.<br />I was attracted to the fact that it's not clay, clumps and is flush-able.<br />Admittedly the odor isn't completely masked as they claim, but since we regularly scoop when home, and as long as we clean it every week and put in fresh litter, the smell is only notable if you put your face in the box.<br />Most importantly, our cat seems to like it, and in the month we've had her, she's had no adverse reactions to it (ie. no UTI problems).<br /><br />We live in a small apartment where space is limited. We bought a covered litter box, removed one of the doors from our under sink cabinet and put the box in it.<br />The fact that it's a covered box, in a cabinet, helps prevent the litter from tracking all over the place. The downside is that since our space is so small, we DO have to vacuum every time she uses the box, otherwise WE would be tracking it through the apartment!<br /><br />As far as reports of bugs, we haven't seen any evidence of a problem.<br /><br />Bottom line:<br />1) It's a great alternative to clumping clay litter (which can be harmful for your cat)<br /><br />2) There is some clean up necessary after your cat uses the box. Keeping a textured floor mat at the base of your litter box helps prevent it from \"traveling\".<br /><br />3) Odor coverage is minimal, but a good diet with the least amount of filler helps waste odor.<br /><br />4) I personally have not seen evidence of bugs of any sort.<br /><br />I hope this helps other first time cat owners!\n",
      "\n"
     ]
    }
   ],
   "source": [
    "# Three Reviews of cluster 1\n",
    "count=1\n",
    "for i in range(3):\n",
    "    print('Review-%d : \\n %s\\n'%(count,cluster1[i]))\n",
    "    count +=1"
   ]
  },
  {
   "cell_type": "code",
   "execution_count": 24,
   "metadata": {},
   "outputs": [
    {
     "name": "stdout",
     "output_type": "stream",
     "text": [
      "Review-1 : \n",
      " I agree with the reviewer that stated the flavor isn't strong enough, a problem with all of the of the Artic Ice flavors, not just the pumpkin. However, I still give the product four stars because it's easy to address the problem by adding spices such as nutmeg, cinnamon, pumpkin pie spices, or allspice.  I just recently purchased granulated lemon peel (it's a spice) and tried that to the chocolate flavor, it was excellent!  I'm also thinking of using the ice cream with non-fat milk and extracts, such as rum, vanilla, almond, etc. for milk shakes.  The pumpkin flavor could be used with real pumpkin, and coco powder to make a shake/smoothie that would still be low calorie.  To be honest, I wouldn't go through all of these extra steps to make the ice cream work for me if I didn't have an issue with gluten.  The low calorie count is an added bonus too.\n",
      "\n",
      "Review-2 : \n",
      " I tried Switch Orange Tangerine drink.  Excellent flavor and not so sweet as to make you feel you are getting a ton of sugar.  It has no added sugar and no corn sweetners, so, it is more natural than any other orange soda type drink.  More like a sparkling juice drink.  I have been a fan of orange juice and soda type drinks when as a kid I would mix OJ and Orange Soda.  Yet the natural taste of this drink is refreshing.  I tried it both with and without ice and although the iced version is more refreshing, if you get a very cold can of this drink it tasted very satisfying and did not leave you with an after taste or with the sugar blues.<br /><br />Caution, it has 34 grams of sugar, and although natural, you should check with a doc if you have sugar problems.  34 grams is equivalent to 5 or more teaspoons of sugar.  At least, if you like sparkling fruit drinks, check this one out.  I will next try it with added sparkling water to it.  Enjoy.\n",
      "\n",
      "Review-3 : \n",
      " I'm usually one to try new coffee flavors, though vanilla is definitely one of my favorites. So, I was more than happy to see what Starbucks meant by \"Natural Fusions\".<br /><br />As it turns out, the branding is pretty accurate.<br /><br />Rather than an overpowering candy-like vanilla that you'd get by using a flavored creamer, or most store-brand flavored coffees, Starbucks Natural Fusions tastes almost like they package a couple of vanilla beans in with plain coffee. The flavor and aroma are definitely present, but it's really much more like their House Blend with a touch of something extra.<br /><br />Overall, it's a nice \"anytime\" brew that doesn't fight cream and sugar, and doesn't have the harsh aftertaste that's often present in Starbucks blends.\n",
      "\n"
     ]
    }
   ],
   "source": [
    "# Three Reviews of cluster 2\n",
    "count=1\n",
    "for i in range(3):\n",
    "    print('Review-%d : \\n %s\\n'%(count,cluster2[i]))\n",
    "    count +=1"
   ]
  },
  {
   "cell_type": "code",
   "execution_count": 25,
   "metadata": {},
   "outputs": [
    {
     "name": "stdout",
     "output_type": "stream",
     "text": [
      "Review-1 : \n",
      " Love this stuff...great flavor....you can't get more authentic Mexican. Don't hesitate to purchase...you'll love it!\n",
      "\n",
      "Review-2 : \n",
      " I used to grow my own garden of Collard Greens, and ate them regularly.  Since I travel more now, I just buy them cooked in cans.  I've tried Glory Collard Greens and a few others, and these have to be the best for the price with subscribe and save.  Yes, they do contain sodium (under 1200mg for the entire can) but that's pretty much typical of canned foods anymore, especially if you're looking at pre-seasoned products.  Regardless, these greens are  D-licious, and compliment almost any meal without any effort.\n",
      "\n",
      "Review-3 : \n",
      " I will order from here again; love these beans; mom lives in texas and cannot find these where I live now. so this made it easy for me.\n",
      "\n"
     ]
    }
   ],
   "source": [
    "# Three Reviews of cluster 3\n",
    "count=1\n",
    "for i in range(3):\n",
    "    print('Review-%d : \\n %s\\n'%(count,cluster3[i]))\n",
    "    count +=1"
   ]
  },
  {
   "cell_type": "code",
   "execution_count": 26,
   "metadata": {},
   "outputs": [
    {
     "name": "stdout",
     "output_type": "stream",
     "text": [
      "Review-1 : \n",
      " The roller ball on this treat (basically gravy) does not roll around readily from the friction of my dog's tongue licking. The only way to get gravy out of the bottle to where the dog can get it is by squeezing the bottle to force the gravy out around the edges and letting the dog lick the gravy off the surface (kind of defeats the purpose of bothering with the roller ball). I let my dog lick this treat for two sessions, but when I went back the third, the roller jammed so no matter how hard I squeezed, none of the gravy inside was coming out. I stood the bottle upright and pushed down on the ball to try to loosen it from the bottle top edge and let more flow through. This seemed to get the flow going again for 2-3 rough squeezes, but it shortly jammed again. I can still move the roller ball around with my fingers, and there will be a little gravy stuck to the part of the ball I move into the open, but it's not working as it was the first two times. There is still 2-3 tablespoons of product left in the bottle. Sorry, but I'm not going to sit there and manually roll the ball around with my fingers or forever tinker with pushing down on the ball so my dog can lick a miniscule amount of gravy at a time. I've checked for anything blocking the area between the bottle end and roller ball, but haven't seen anything likely to stop the flow or rolling (no dried clumps, etc). The convenience is lost if the gravy doesn't come out by itself from squeezing the bottle and the roller ball can't roll with the dog's tongue alone.<br /><br />I would recommend not using this over any carpet or floor surfaces you don't want to risk getting stained since there will likely be dripping. The gravy (when it did come out from squeezing the bottle) comes out from all sides of the ball at once instead of from one point where the dog can focus, so depending on which side your dog likes to lick, it might not catch the gravy from the side that isn't being licked right away in time to catch the gravy before it falls to the floor.<br /><br />The taste seems to be rated middle to low by my dog. My dog loves bacon flavored treats (can't get enough Beggin' Strips) and ate this product up readily enough in the beginning when it was new, but it's since become clear he isn't crazy about it. Now he's seen what this gravy is about, he might take one or two licks then walk away. I have to keep calling him back to encourage him to finish up and take another lick. I don't think I would be able to get him to finish the bottle even if it were flowing properly.<br /><br />I'm not sure I would bother buying more of these unless I was assured of the reliability of the bottle not jamming again and the roller working properly. I would love to see some sort of refillable roller bottle offered so I could fill it with some cheap homemade gravy instead (there is no way to refill these bottles yourself) since I do like the concept of limiting how much gravy he's able to get at at a time via this roller mechanism.\n",
      "\n",
      "Review-2 : \n",
      " I have tried lots of treats for my dogs, but these are the only ones they never seem to tire of. Most treats they love then lose interest in pretty quickly. I am not sure why, but these simple treats, a soft dried apple with a piece of chicken wrapped around it, are their favorite. I have to order these on Subscribe and Save because they can't get enough of them.<br /><br />Also, the treats claim to have glucosamine and chondroitin in them, which is good for hips and back of dogs who struggle with those problem areas. As the owner of 4 dachshunds, I am always worried about their backs. In fact, two of my dogs have really hurt their backs in the past. I don't know if it is these treats or something else, but we haven't had a back incident in a very long time. I like to think it is the treats, but I couldn't tell you for sure. Although I am immensely happy the back issues have subsided! Not to mention, the treats make me the favorite person in the house whenever they come out!\n",
      "\n",
      "Review-3 : \n",
      " SO WORTH IT.  And when you do the math, it's actually a bargain.  More on that later....<br /><br />Some background:  My dog is an 80 pound American Pit Bull Terrier.  He is the love of my life (ok, he's a tie with my husband).  He has horrible allergies, both environmental and food.  Because of this, his doggie dermatologist (yep, there's dermatologists out there just for animals!) has him on an elimination diet of just venison.  Being that I completely spoil my dog I've been looking for high quality venison treats to feed him when I stumbled upon the ZiwiPeak venison on Amazon.  I'd not heard of ZiwiPeak, but when I looked at how few ingredients were in there and did a little research, I decided it sounded about as close to bambi in a bag as I could get (sorry, I know that's a sad visual...).  So, I ordered a few bags of the ZiwiPeak Venison treats.  Titan went mad for them.  It was as if I was sprinkling him with magical venison fairy dust and he would do anything so long as I would continue to shower him with those heavenly venison squares.<br /><br />Titan suffers from a tiny case of separation anxiety, so recently when I had to leave him alone for a while and I was fresh out of bambi bones, I put a handful on top of his food and tip toed towards the door.  He barely lifted his head from the bowl.  For insurance, I threw a half empty bag of the ZiwiPeak Venison treats on the floor just as I slipped out the door...he noticed the bag, but kept eating from his bowl, pushing it around and digging through the kibble with his nose to sniff out the ZiwiPeak squares as if a pig searching for truffles in the south of France.  When I returned a couple of hours later, I searched the house for evidence that he wasn't pleased with my departure.  Apart from the garbage being knocked over (my fault for leaving it full, bad mom!) the place was fine.<br /><br />Later when I went to put down his dinner, Titan sat at the entrance of the kitchen and stared at the cabinet where the venison treats were kept.  When I told him to go and eat, he stayed put, staring at the cabinet.  I added a little canned venison to entice him.  No go.  Finally I poured a little bit of the ZiwiPeak Venison on top and he ran to his bowl and started eating.  Now, he will not go near the bowl unless there is a hefty portion of ZP in there.  Figuring I could save some money, I moved up from the treats to the 2.2 pound bag.  Once I went through that in a week, I moved on to the 11 pound bag.  I haven't made the complete transition to just ZP in his bowl, as I'm still mixing it in with his old stuff, but it's just a matter of time.  The vet has had Titan on one of those vet prescribed diets, which, when I looked at the ingredients on that bag, not only could I not pronounce most of them, but the list was HUGE and the first ingredient was POTATO!<br /><br />But back to my point:  I've bought venison treats for Titan that were anywhere from $10 for 5 or 6 ounces, (which translates to $30 per pound) to $44 per pound for venison jerky (and I paid it!!).  So, at $9 a pound, the ZiwiPeak Venison is actually a bargain.  And, it is a lot of food packed into those tiny squares.  Not to mention, you know how sometimes your dog eats a bowl of food and then throws up and the vomit looks like a mixture of spongy kibble and foam?  Titan's never had that with this stuff.  I think it's because the ZP is so close to the natural thing that there isn't anything in there to cause it to expand which then causes him to throw up.<br /><br />So yes, overall, I'm very happy with the product line.  I think it's a pretty cool thing that I can use his food as treats and he still goes mad for it (much like a toddler with cheerios!).  I'll be experimenting with some of the other varieties once I'm allowed to introduce other foods per the doggie dermatologist; and I will be trying out the ZP canned as well.\n",
      "\n"
     ]
    }
   ],
   "source": [
    "# Three Reviews of cluster 4\n",
    "count=1\n",
    "for i in range(3):\n",
    "    print('Review-%d : \\n %s\\n'%(count,cluster4[i]))\n",
    "    count +=1"
   ]
  },
  {
   "cell_type": "code",
   "execution_count": 27,
   "metadata": {},
   "outputs": [
    {
     "name": "stdout",
     "output_type": "stream",
     "text": [
      "Review-1 : \n",
      " This is a great product with a fresh taste.  I am a school teacher and I use this powder every morning and it gets me all the way to lunch without feeling hungry.  I mix it with a banana, half cup blueberries, strawberries, yogurt, and 4 ounces of juice.  I highly recommend this if you are looking for a good way to add a large amount of fiber to your diet in an easy way.  The grittiness wasn't at all hard for me to get used to and I am a very picky eater so I figure if it's good for me, it will be good for most.  If you are watching your calorie intake, I recommend using half the designated serving size, I was a little surprised at the amount of calories in it, especially since I add all kinds of stuff to it.<br />Wonderful product!\n",
      "\n",
      "Review-2 : \n",
      " I'll get this out of the way first... If you are expecting the quality of a few tenths of an ounce of instant \"mix\" to be the same as a fresh pressed glass of Apple Cider, you're expectations are way too high for a product like this. This is a fancy instant drink mix in a K-Cup package.<br /><br />Just got my first package and made my first cup and it is pretty darn good. I paid $8.50 with the subscribe and save discount and for 24 K-Cups (around 35 cents each), I think it is a pretty good deal.<br /><br />You can taste the sometimes over-sweetness of the fake sugar used (heck, they only have 10 calories, there has to be a trade off!) but I regularly use Splenda in my coffee so it was not a problem.<br /><br />If you are looking for an alternative to coffee or tea in your Keurig brewer, this is a pretty good option and a pretty good price.\n",
      "\n",
      "Review-3 : \n",
      " Let me first say that I absolutely LOVE my coffee.<br /><br />The taste is decent, but I wouldn't call it much of a dark roast.  I was expecting a much more bold taste.  It tastes good though, and is certainly worth the money.<br /><br />The greatest thing about this coffee is that it doesn't bother my stomach.  I end up having to give away about 1/2 of my coffees because they bother my stomach so badly.<br /><br />I really can't say much more though.  All in all, this is slightly above average tasting REGULAR coffee at a great price.<br /><br />I'm going to end up giving some of these away for Christmas and drinking the rest myself.<br /><br />Would I buy again?  Probably not.  To put it simply - I prefer a bolder coffee.\n",
      "\n"
     ]
    }
   ],
   "source": [
    "# Three Reviews of cluster 5\n",
    "count=1\n",
    "for i in range(3):\n",
    "    print('Review-%d : \\n %s\\n'%(count,cluster5[i]))\n",
    "    count +=1"
   ]
  },
  {
   "cell_type": "markdown",
   "metadata": {},
   "source": [
    "# (2) TFIDF"
   ]
  },
  {
   "cell_type": "code",
   "execution_count": 28,
   "metadata": {},
   "outputs": [
    {
     "name": "stdout",
     "output_type": "stream",
     "text": [
      "the type of count vectorizer : <class 'scipy.sparse.csr.csr_matrix'>\n",
      "the shape of out text TFIDF vectorizer :  (40000, 268)\n",
      "the number of unique words : 268\n"
     ]
    }
   ],
   "source": [
    "tf_idf_vect = TfidfVectorizer(min_df=1000)\n",
    "data = tf_idf_vect.fit_transform(x)\n",
    "print(\"the type of count vectorizer :\",type(data))\n",
    "print(\"the shape of out text TFIDF vectorizer : \",data.get_shape())\n",
    "print(\"the number of unique words :\", data.get_shape()[1])"
   ]
  },
  {
   "cell_type": "markdown",
   "metadata": {},
   "source": [
    "# (2.a). K-Means++ Implementation"
   ]
  },
  {
   "cell_type": "code",
   "execution_count": 29,
   "metadata": {},
   "outputs": [],
   "source": [
    "k_values = [2,3,4,5,6,7,8,9,10]\n",
    "loss = []\n",
    "for i in k_values:\n",
    "    kmeans = KMeans(n_clusters=i, n_jobs=-1).fit(data)\n",
    "    loss.append(kmeans.inertia_)"
   ]
  },
  {
   "cell_type": "markdown",
   "metadata": {},
   "source": [
    "ELBOW METHOD :"
   ]
  },
  {
   "cell_type": "code",
   "execution_count": 30,
   "metadata": {},
   "outputs": [
    {
     "data": {
      "image/png": "[encoded data removed]",
      "text/plain": [
       "<Figure size 432x288 with 1 Axes>"
      ]
     },
     "metadata": {},
     "output_type": "display_data"
    }
   ],
   "source": [
    "# Draw Loss VS K values plot\n",
    "plt.plot(k_values, loss)\n",
    "plt.xlabel('K-values',size=14)\n",
    "plt.ylabel('Loss',size=14)\n",
    "plt.title('Loss VS K-values Plot\\n',size=18)\n",
    "plt.grid()\n",
    "plt.show()"
   ]
  },
  {
   "cell_type": "markdown",
   "metadata": {},
   "source": [
    "OBSERVATION :- From above we can see that there is inflection at K = 4 . Befor it loss was decreasing faster as compared to the loss decreasing after it . So , the best value of K is 4."
   ]
  },
  {
   "cell_type": "code",
   "execution_count": 31,
   "metadata": {},
   "outputs": [
    {
     "name": "stdout",
     "output_type": "stream",
     "text": [
      "No. of reviews in Cluster-1 :  2824\n",
      "\n",
      "No. of reviews in Cluster-2 :  3355\n",
      "\n",
      "No. of reviews in Cluster-3 :  3501\n",
      "\n",
      "No. of reviews in Cluster-4 :  30320\n"
     ]
    }
   ],
   "source": [
    "optimal_k = 4\n",
    "# Variable that will be used in the conclusion \n",
    "tfidf_means_k = optimal_k\n",
    "\n",
    "# Implementing K-Means++ using optimal value of K\n",
    "kmeans = KMeans(n_clusters=optimal_k, n_jobs=-1).fit(data)\n",
    "\n",
    "# Getting all the reviews in different clusters\n",
    "cluster1 = []\n",
    "cluster2 = []\n",
    "cluster3 = []\n",
    "cluster4 = []\n",
    "\n",
    "for i in range(kmeans.labels_.shape[0]):\n",
    "    if kmeans.labels_[i] == 0:\n",
    "        cluster1.append(reviews[i])\n",
    "    elif kmeans.labels_[i] == 1:\n",
    "        cluster2.append(reviews[i])\n",
    "    elif kmeans.labels_[i] == 2:\n",
    "        cluster3.append(reviews[i])\n",
    "    else :\n",
    "        cluster4.append(reviews[i]) \n",
    "        \n",
    "# Number of reviews in different clusters\n",
    "print(\"No. of reviews in Cluster-1 : \",len(cluster1))\n",
    "print(\"\\nNo. of reviews in Cluster-2 : \",len(cluster2))\n",
    "print(\"\\nNo. of reviews in Cluster-3 : \",len(cluster3))\n",
    "print(\"\\nNo. of reviews in Cluster-4 : \",len(cluster4))"
   ]
  },
  {
   "cell_type": "markdown",
   "metadata": {},
   "source": [
    "READING REVIEWS MANUALLY:"
   ]
  },
  {
   "cell_type": "code",
   "execution_count": 32,
   "metadata": {},
   "outputs": [
    {
     "name": "stdout",
     "output_type": "stream",
     "text": [
      "Review-1 : \n",
      " I  have  bought  many  cases of  this  before i  dcided  to  check  on the  internet  for it...My  son is in  Iraq and  he  loves  the  cold  brew  to  put in  his  water  along  with a little  sweetener and  he  get  the  delicious  taste  of  brewed  tea...I  also  asked  lipton  to  donate a  case  to me  so i  could  send it to  my  son and  of  course  they  could not ...I  will  continue  to  buy  it  for  him  though  it is  one  enjoyment  he  gets  over  there...<br />  I  myself  started  using it  when i  worked  in the  factory 3rd  shift and  wanted  the glas  of  tea  without having a place to  keep it  by  the  jug  ...<br />Thank  you  Lipton  is  is  the  best\n",
      "\n",
      "Review-2 : \n",
      " While this tea is good, its name promised more than the flavor delivered, at least the way I prepared it (steeped as a black tea). I only use a teaspoon of Splenda and no milk in my tea. If you use milk you may enjoy the tea more than I. At any rate, the tea was disappointing to me.<br /><br />Stash's chocolate hazelnut is more satisfying if it's chocolate one craves.<br /><br />While this tea was below my expectations, Talbott's Chelsea Morning Blend exceeded my hopes!\n",
      "\n",
      "Review-3 : \n",
      " I am an avid tea drinker who turned to the drink after realizing my body can't really tolerate coffee. I enjoy Rooibos on occasion and use it for chai when serving to people who are sensative to caffine.<br /><br />One important point about Rooibos is that it isn't technically tea it doesn't come from the Camellia Sinensis fmaily and therefore is considered an herbal.  It's a common mistake to label things which aren't true tea as teas, but a bigger mistake would be to label this \"espresso\".<br /><br />The only thing Red Espresso has in common with Espresso (aside from how you may chose to prepare it) is how it is ground.  When dealing with herbals and teas the more surface area that the water has contact with when you brew it, the more bitter the resulting beverage. With Red Espresso, rather than getting a sweet and clean tasting beverage, that you'd get from traditionally prepared rooibos, you get one which is much more bitter and sharp.<br /><br />I tried preparing this tea a number of different ways and found it took a lot to get the water to grounds ratio right. With only one exception I was never quite pleased with the resulting beverage.  The best luck I had with Red Espresso was to put it on the stovetop in water and then add chai spices to the mix, drain through a strainer and then adding milk and sweetner.<br /><br />I recognize people will turn to products like this for the health benefits, but I think they'll be disappointed with the experience of drinking this like coffee. For a much better coffee substitute I recommend Choffy which approximates the taste of coffee much closer.<br /><br />But if you're looking to give up your regular cup-o-joe for tea, this isn't the way to go. You'd be much better served picking up some Yunnan Gold or an Assam black tea, brewing it strong and adding milk and sweetener (if desired). If you're set on rooibos then look for the full unground needles to use to brew a much more pleasant cup.\n",
      "\n"
     ]
    }
   ],
   "source": [
    "# Three Reviews of cluster 1\n",
    "count=1\n",
    "for i in range(3):\n",
    "    print('Review-%d : \\n %s\\n'%(count,cluster1[i]))\n",
    "    count +=1"
   ]
  },
  {
   "cell_type": "code",
   "execution_count": 33,
   "metadata": {},
   "outputs": [
    {
     "name": "stdout",
     "output_type": "stream",
     "text": [
      "Review-1 : \n",
      " I have three cats, all with specific dietary needs. Evo is the only food that meets all their requirements (except the calories - unless I get the reduced calorie). My vet also recommends that I give my one cat we food so that she has more water in her diet (she develops stones in her bladder). The only problem is that she will not touch wet food since I have given her dry her entire life. I was shocked when she actually preferred the wet over the dry! This is what I have been feeding them since I found it. They are active and healthy. No new stones in over a year in my one cat too!!\n",
      "\n",
      "Review-2 : \n",
      " These are the absolute best things I have bought for my dog! We got them when she was a puppy and it was a savior. I really feel it got her need to chew on things out and not on shoes, table legs, etc.  It is also a good babysitter! When we had our dog as a puppy and at night we would want to sit down and chill out at night but she would be ready to go so we give her one of these and she would sit there for at least 2 hours chewing away.  Merrick is an excellent company with quality products that I am confident using.  I give my dog one of these every couple days, that is how long it takes her to go through one.\n",
      "\n",
      "Review-3 : \n",
      " It took him a few days, but Roofus the Cat came around to having this new type of food in his dish. He still has a problem with eating too fast from time to time, which leads to cat vomit on the floor, but that has little to nothing to do with the food itself. For help cleaning up cat puke, check my other reviews for paper towel recommendations.<br /><br />I think I'm likely to keep buying this brand. The details on the package (what's inside, how much to use, how to transition a cat to this food, etc.) are very understandable and informative. A lower cost would be nice, but oh well.\n",
      "\n"
     ]
    }
   ],
   "source": [
    "# Three Reviews of cluster 2\n",
    "count=1\n",
    "for i in range(3):\n",
    "    print('Review-%d : \\n %s\\n'%(count,cluster2[i]))\n",
    "    count +=1"
   ]
  },
  {
   "cell_type": "code",
   "execution_count": 34,
   "metadata": {},
   "outputs": [
    {
     "name": "stdout",
     "output_type": "stream",
     "text": [
      "Review-1 : \n",
      " I love fruit-flavored coffees, especially blueberry. I also like darker roasts, and unfortunately, fruit flavors often have to be light roasts for the flavor to come through. This brand pulls off the \"Blueberry Muffin\" taste very well, while still being a medium roast that hasn't lost it's coffee-ness. I'm impressed!\n",
      "\n",
      "Review-2 : \n",
      " This is really terrible tasting coffee.  I love Van Houttes vanilla, and Green Mountain Caramel Vanilla, so I thought I'd try this.  It's terrible.  Now I have a bunch that I'm going to have to get rid of somehow.  Yuck.\n",
      "\n",
      "Review-3 : \n",
      " I had searched for years for a decaf coffee that kept the wonderful flavor of a full-bodied coffee. I finally found it when I tried the Newman's Own Decaf! Great taste, great company, happy customer!\n",
      "\n"
     ]
    }
   ],
   "source": [
    "# Three Reviews of cluster 3\n",
    "count=1\n",
    "for i in range(3):\n",
    "    print('Review-%d : \\n %s\\n'%(count,cluster3[i]))\n",
    "    count +=1"
   ]
  },
  {
   "cell_type": "code",
   "execution_count": 35,
   "metadata": {},
   "outputs": [
    {
     "name": "stdout",
     "output_type": "stream",
     "text": [
      "Review-1 : \n",
      " Love this stuff...great flavor....you can't get more authentic Mexican. Don't hesitate to purchase...you'll love it!\n",
      "\n",
      "Review-2 : \n",
      " I used to grow my own garden of Collard Greens, and ate them regularly.  Since I travel more now, I just buy them cooked in cans.  I've tried Glory Collard Greens and a few others, and these have to be the best for the price with subscribe and save.  Yes, they do contain sodium (under 1200mg for the entire can) but that's pretty much typical of canned foods anymore, especially if you're looking at pre-seasoned products.  Regardless, these greens are  D-licious, and compliment almost any meal without any effort.\n",
      "\n",
      "Review-3 : \n",
      " I will order from here again; love these beans; mom lives in texas and cannot find these where I live now. so this made it easy for me.\n",
      "\n"
     ]
    }
   ],
   "source": [
    "# Three Reviews of cluster 4\n",
    "count=1\n",
    "for i in range(3):\n",
    "    print('Review-%d : \\n %s\\n'%(count,cluster4[i]))\n",
    "    count +=1"
   ]
  },
  {
   "cell_type": "markdown",
   "metadata": {},
   "source": [
    "# (2.b) K-Medoids Implementation"
   ]
  },
  {
   "cell_type": "code",
   "execution_count": 36,
   "metadata": {},
   "outputs": [
    {
     "name": "stdout",
     "output_type": "stream",
     "text": [
      "No. of reviews in Cluster-1 :  1883\n",
      "\n",
      "No. of reviews in Cluster-2 :  372\n",
      "\n",
      "No. of reviews in Cluster-3 :  316\n",
      "\n",
      "No. of reviews in Cluster-4 :  1429\n"
     ]
    }
   ],
   "source": [
    "data1 = data[0:4000,:]\n",
    "# distance matrix\n",
    "D = pairwise_distances(data1, metric='euclidean')\n",
    "\n",
    "# split into optimal value of  clusters\n",
    "M, C = kmedoids.kMedoids(D, optimal_k)\n",
    "\n",
    "# Getting the reviews in all clusters\n",
    "cluster1 = []\n",
    "cluster2 = []\n",
    "cluster3 = []\n",
    "cluster4 = []\n",
    "\n",
    "for label in C:\n",
    "    for point_idx in C[label]:\n",
    "        if label == 0 :\n",
    "            cluster1.append(reviews[point_idx])\n",
    "        elif label == 1:\n",
    "            cluster2.append(reviews[point_idx])\n",
    "        elif label == 2:\n",
    "            cluster3.append(reviews[point_idx])\n",
    "        else :\n",
    "            cluster4.append(reviews[point_idx])\n",
    "            \n",
    "# Number of reviews in different clusters\n",
    "print(\"No. of reviews in Cluster-1 : \",len(cluster1))\n",
    "print(\"\\nNo. of reviews in Cluster-2 : \",len(cluster2))\n",
    "print(\"\\nNo. of reviews in Cluster-3 : \",len(cluster3))\n",
    "print(\"\\nNo. of reviews in Cluster-4 : \",len(cluster4))"
   ]
  },
  {
   "cell_type": "markdown",
   "metadata": {},
   "source": [
    "READING REVIEWS MANUALLY:"
   ]
  },
  {
   "cell_type": "code",
   "execution_count": 37,
   "metadata": {},
   "outputs": [
    {
     "name": "stdout",
     "output_type": "stream",
     "text": [
      "Review-1 : \n",
      " I have three cats, all with specific dietary needs. Evo is the only food that meets all their requirements (except the calories - unless I get the reduced calorie). My vet also recommends that I give my one cat we food so that she has more water in her diet (she develops stones in her bladder). The only problem is that she will not touch wet food since I have given her dry her entire life. I was shocked when she actually preferred the wet over the dry! This is what I have been feeding them since I found it. They are active and healthy. No new stones in over a year in my one cat too!!\n",
      "\n",
      "Review-2 : \n",
      " I used to grow my own garden of Collard Greens, and ate them regularly.  Since I travel more now, I just buy them cooked in cans.  I've tried Glory Collard Greens and a few others, and these have to be the best for the price with subscribe and save.  Yes, they do contain sodium (under 1200mg for the entire can) but that's pretty much typical of canned foods anymore, especially if you're looking at pre-seasoned products.  Regardless, these greens are  D-licious, and compliment almost any meal without any effort.\n",
      "\n",
      "Review-3 : \n",
      " The product was really good and arrived fairly quickly. The kicker was, the sample they sent as a \"Thank you\" was even better than the original product I purchased. They'll be hearing from me again.\n",
      "\n"
     ]
    }
   ],
   "source": [
    "# Three Reviews of cluster 1\n",
    "count=1\n",
    "for i in range(3):\n",
    "    print('Review-%d : \\n %s\\n'%(count,cluster1[i]))\n",
    "    count +=1"
   ]
  },
  {
   "cell_type": "code",
   "execution_count": 38,
   "metadata": {},
   "outputs": [
    {
     "name": "stdout",
     "output_type": "stream",
     "text": [
      "Review-1 : \n",
      " I will order from here again; love these beans; mom lives in texas and cannot find these where I live now. so this made it easy for me.\n",
      "\n",
      "Review-2 : \n",
      " These are the absolute best things I have bought for my dog! We got them when she was a puppy and it was a savior. I really feel it got her need to chew on things out and not on shoes, table legs, etc.  It is also a good babysitter! When we had our dog as a puppy and at night we would want to sit down and chill out at night but she would be ready to go so we give her one of these and she would sit there for at least 2 hours chewing away.  Merrick is an excellent company with quality products that I am confident using.  I give my dog one of these every couple days, that is how long it takes her to go through one.\n",
      "\n",
      "Review-3 : \n",
      " I will definetly be ordering another shipment of this sweet and tasty (yet low calorie) popcorn.  Yum!\n",
      "\n"
     ]
    }
   ],
   "source": [
    "# Three Reviews of cluster 2\n",
    "count=1\n",
    "for i in range(3):\n",
    "    print('Review-%d : \\n %s\\n'%(count,cluster2[i]))\n",
    "    count +=1"
   ]
  },
  {
   "cell_type": "code",
   "execution_count": 39,
   "metadata": {},
   "outputs": [
    {
     "name": "stdout",
     "output_type": "stream",
     "text": [
      "Review-1 : \n",
      " I just got these today and they had almost all leaked. Every box was soaked with juice. Instead of 4 boxes of juice, I got a HUGE MESS to clean up.\n",
      "\n",
      "Review-2 : \n",
      " I'm going to admit I'm a coffee addict but not a Starbucks fan.  Assuming you like Starbucks coffee (if you don't know...just go to a shop before you buy a package), this is a drip grind, medium strength.  It's definitely not a French/Dark roast.  It wouldn't hold cream well at all without over-powering it.<br /><br />That said, there is barely ANY vanilla taste to hit although the grounds have a strong vanilla aroma.  In general, a hazelnut coffee has about 3x the flavored taste as this does.  Yes I do realize vanilla is a much more subtle taste.<br /><br />I would recommend either adding a drop of vanilla extract, shot of vanilla syrup or vanilla cream to your already favorite cup of joe.\n",
      "\n",
      "Review-3 : \n",
      " excellent<a href=\"http://www.amazon.com/gp/product/B000CSEFQ0\">Kellogg's Cereal in a Cup, Favorite Assortment Pack, 1.5 - 2.8-Ounce Individual-Serving Cups (Pack of 60)</a>\n",
      "\n"
     ]
    }
   ],
   "source": [
    "# Three Reviews of cluster 3\n",
    "count=1\n",
    "for i in range(3):\n",
    "    print('Review-%d : \\n %s\\n'%(count,cluster3[i]))\n",
    "    count +=1"
   ]
  },
  {
   "cell_type": "code",
   "execution_count": 40,
   "metadata": {},
   "outputs": [
    {
     "name": "stdout",
     "output_type": "stream",
     "text": [
      "Review-1 : \n",
      " Love this stuff...great flavor....you can't get more authentic Mexican. Don't hesitate to purchase...you'll love it!\n",
      "\n",
      "Review-2 : \n",
      " I love fruit-flavored coffees, especially blueberry. I also like darker roasts, and unfortunately, fruit flavors often have to be light roasts for the flavor to come through. This brand pulls off the \"Blueberry Muffin\" taste very well, while still being a medium roast that hasn't lost it's coffee-ness. I'm impressed!\n",
      "\n",
      "Review-3 : \n",
      " The first sip of Izze's sparkling apple juice was a bit of a shock, albeit a pleasant one.  It was bright and crisp, with an unexpectedly clear bite from the carbonation.  Tart enough that it really was a bit like taking a chunk out of a fresh Granny Smith.  Granted, some of this tartness comes from the other juices used in its creation, including but not necessarily limited to lemon and white grape.  Nonetheless, the flavor profile is all apple, and what's left (to borrow Izze's own tag line) is a \"naturally delightful\" and wholly refreshing vitamin-enriched (C, B6, and Niacin) beverage, delivered in a 8.4 fluid ounce slim can.<br /><br />We were impressed enough with the apple, that we went out and picked up bottles of blueberry, clementine, and peach.  Each provided similarly terrific tastes and experiences, although we did feel that the tartness that added to the apple juice 'realism' somewhat translated to less purely-blueberry (for example) profiles for some of the other flavors.  Nonetheless, we loved them all.<br /><br />Everyone's going to have different palettes and desires, but for a household that doesn't consume soft drinks, we found these to be a tasty and welcome diversion and alternative from our normal fare.  Izze has a new group of fans, and we're looking forward to trying more flavors.  Apple, at the very least, is going to be a staple around here.\n",
      "\n"
     ]
    }
   ],
   "source": [
    "# Three Reviews of cluster 4\n",
    "count=1\n",
    "for i in range(3):\n",
    "    print('Review-%d : \\n %s\\n'%(count,cluster4[i]))\n",
    "    count +=1"
   ]
  },
  {
   "cell_type": "markdown",
   "metadata": {},
   "source": [
    "# Word2Vec"
   ]
  },
  {
   "cell_type": "code",
   "execution_count": 41,
   "metadata": {},
   "outputs": [
    {
     "name": "stdout",
     "output_type": "stream",
     "text": [
      "number of words that occured minimum 5 times  8576\n"
     ]
    }
   ],
   "source": [
    "# List of sentence in X_train text\n",
    "sent_x = []\n",
    "for sent in x :\n",
    "    sent_x.append(sent.split())\n",
    "  \n",
    "    \n",
    "# Train your own Word2Vec model using your own train text corpus \n",
    "# min_count = 5 considers only words that occured atleast 5 times\n",
    "w2v_model=Word2Vec(sent_x,min_count=5,size=50, workers=4)\n",
    "\n",
    "w2v_words = list(w2v_model.wv.vocab)\n",
    "print(\"number of words that occured minimum 5 times \",len(w2v_words))"
   ]
  },
  {
   "cell_type": "markdown",
   "metadata": {},
   "source": [
    "# (3). Avg Word2Vec"
   ]
  },
  {
   "cell_type": "code",
   "execution_count": 42,
   "metadata": {},
   "outputs": [],
   "source": [
    "# compute average word2vec for each review for sent_x .\n",
    "train_vectors = []; \n",
    "for sent in sent_x:\n",
    "    sent_vec = np.zeros(50) \n",
    "    cnt_words =0; \n",
    "    for word in sent: # \n",
    "        if word in w2v_words:\n",
    "            vec = w2v_model.wv[word]\n",
    "            sent_vec += vec\n",
    "            cnt_words += 1\n",
    "    if cnt_words != 0:\n",
    "        sent_vec /= cnt_words\n",
    "    train_vectors.append(sent_vec)\n",
    "    \n",
    "data = train_vectors    "
   ]
  },
  {
   "cell_type": "markdown",
   "metadata": {},
   "source": [
    "# (3.a). K-Means++ Implementation"
   ]
  },
  {
   "cell_type": "code",
   "execution_count": 43,
   "metadata": {},
   "outputs": [],
   "source": [
    "k_values = [2,3,4,5,6,7,8,9,10]\n",
    "loss = []\n",
    "for i in k_values:\n",
    "    kmeans = KMeans(n_clusters=i, n_jobs=-1).fit(data)\n",
    "    loss.append(kmeans.inertia_)"
   ]
  },
  {
   "cell_type": "markdown",
   "metadata": {},
   "source": [
    "ELBOW METHOD :"
   ]
  },
  {
   "cell_type": "code",
   "execution_count": 44,
   "metadata": {},
   "outputs": [
    {
     "data": {
      "image/png": "[encoded data removed]",
      "text/plain": [
       "<Figure size 432x288 with 1 Axes>"
      ]
     },
     "metadata": {},
     "output_type": "display_data"
    }
   ],
   "source": [
    "# Draw Loss VS K values plot\n",
    "plt.plot(k_values, loss)\n",
    "plt.xlabel('K-values',size=14)\n",
    "plt.ylabel('Loss',size=14)\n",
    "plt.title('Loss VS K-values Plot\\n',size=18)\n",
    "plt.grid()\n",
    "plt.show()"
   ]
  },
  {
   "cell_type": "markdown",
   "metadata": {},
   "source": [
    "OBSERVATION :- From above we can see that there is inflection at K = 4 . Befor it loss was decreasing faster as compared to the loss decreasing after it . So , the best value of K is 4."
   ]
  },
  {
   "cell_type": "code",
   "execution_count": 50,
   "metadata": {},
   "outputs": [
    {
     "name": "stdout",
     "output_type": "stream",
     "text": [
      "No. of reviews in Cluster-1 :  17085\n",
      "\n",
      "No. of reviews in Cluster-2 :  6577\n",
      "\n",
      "No. of reviews in Cluster-3 :  6033\n",
      "\n",
      "No. of reviews in Cluster-4 :  10305\n"
     ]
    }
   ],
   "source": [
    "optimal_k = 4\n",
    "# Variable that will be used in the conclusion \n",
    "avg_w2v_means_k = optimal_k\n",
    "\n",
    "# Implementing K-Means++ using optimal value of K\n",
    "kmeans = KMeans(n_clusters=optimal_k, n_jobs=-1).fit(data)\n",
    "\n",
    "# Getting all the reviews in different clusters\n",
    "cluster1 = []\n",
    "cluster2 = []\n",
    "cluster3 = []\n",
    "cluster4 = []\n",
    "\n",
    "for i in range(kmeans.labels_.shape[0]):\n",
    "    if kmeans.labels_[i] == 0:\n",
    "        cluster1.append(reviews[i])\n",
    "    elif kmeans.labels_[i] == 1:\n",
    "        cluster2.append(reviews[i])\n",
    "    elif kmeans.labels_[i] == 2:\n",
    "        cluster3.append(reviews[i])\n",
    "    else :\n",
    "        cluster4.append(reviews[i]) \n",
    "        \n",
    "# Number of reviews in different clusters\n",
    "print(\"No. of reviews in Cluster-1 : \",len(cluster1))\n",
    "print(\"\\nNo. of reviews in Cluster-2 : \",len(cluster2))\n",
    "print(\"\\nNo. of reviews in Cluster-3 : \",len(cluster3))\n",
    "print(\"\\nNo. of reviews in Cluster-4 : \",len(cluster4))"
   ]
  },
  {
   "cell_type": "markdown",
   "metadata": {},
   "source": [
    "READING REVIEWS MANUALLY :"
   ]
  },
  {
   "cell_type": "code",
   "execution_count": 51,
   "metadata": {},
   "outputs": [
    {
     "name": "stdout",
     "output_type": "stream",
     "text": [
      "Review-1 : \n",
      " Love this stuff...great flavor....you can't get more authentic Mexican. Don't hesitate to purchase...you'll love it!\n",
      "\n",
      "Review-2 : \n",
      " Good sack o' nuts with a nice twist of cocoa. Wish it was more 'clustery' but eh. Nice snack throughout the day.\n",
      "\n",
      "Review-3 : \n",
      " this is very tasty popcorn and is great for smaller children because it pops with almost no shell left over.\n",
      "\n"
     ]
    }
   ],
   "source": [
    "# Three Reviews of cluster 1\n",
    "count=1\n",
    "for i in range(3):\n",
    "    print('Review-%d : \\n %s\\n'%(count,cluster1[i]))\n",
    "    count +=1"
   ]
  },
  {
   "cell_type": "code",
   "execution_count": 52,
   "metadata": {},
   "outputs": [
    {
     "name": "stdout",
     "output_type": "stream",
     "text": [
      "Review-1 : \n",
      " I love fruit-flavored coffees, especially blueberry. I also like darker roasts, and unfortunately, fruit flavors often have to be light roasts for the flavor to come through. This brand pulls off the \"Blueberry Muffin\" taste very well, while still being a medium roast that hasn't lost it's coffee-ness. I'm impressed!\n",
      "\n",
      "Review-2 : \n",
      " This is really terrible tasting coffee.  I love Van Houttes vanilla, and Green Mountain Caramel Vanilla, so I thought I'd try this.  It's terrible.  Now I have a bunch that I'm going to have to get rid of somehow.  Yuck.\n",
      "\n",
      "Review-3 : \n",
      " I had searched for years for a decaf coffee that kept the wonderful flavor of a full-bodied coffee. I finally found it when I tried the Newman's Own Decaf! Great taste, great company, happy customer!\n",
      "\n"
     ]
    }
   ],
   "source": [
    "# Three Reviews of cluster 2\n",
    "count=1\n",
    "for i in range(3):\n",
    "    print('Review-%d : \\n %s\\n'%(count,cluster2[i]))\n",
    "    count +=1"
   ]
  },
  {
   "cell_type": "code",
   "execution_count": 53,
   "metadata": {},
   "outputs": [
    {
     "name": "stdout",
     "output_type": "stream",
     "text": [
      "Review-1 : \n",
      " I have three cats, all with specific dietary needs. Evo is the only food that meets all their requirements (except the calories - unless I get the reduced calorie). My vet also recommends that I give my one cat we food so that she has more water in her diet (she develops stones in her bladder). The only problem is that she will not touch wet food since I have given her dry her entire life. I was shocked when she actually preferred the wet over the dry! This is what I have been feeding them since I found it. They are active and healthy. No new stones in over a year in my one cat too!!\n",
      "\n",
      "Review-2 : \n",
      " I keep these at my desk because I get so busy sometimes I have to skip lunch and these are perfect - especially if you are on Atkins diet - they never go bad or get stale - very tasty.\n",
      "\n",
      "Review-3 : \n",
      " These are the absolute best things I have bought for my dog! We got them when she was a puppy and it was a savior. I really feel it got her need to chew on things out and not on shoes, table legs, etc.  It is also a good babysitter! When we had our dog as a puppy and at night we would want to sit down and chill out at night but she would be ready to go so we give her one of these and she would sit there for at least 2 hours chewing away.  Merrick is an excellent company with quality products that I am confident using.  I give my dog one of these every couple days, that is how long it takes her to go through one.\n",
      "\n"
     ]
    }
   ],
   "source": [
    "# Three Reviews of cluster 3\n",
    "count=1\n",
    "for i in range(3):\n",
    "    print('Review-%d : \\n %s\\n'%(count,cluster3[i]))\n",
    "    count +=1"
   ]
  },
  {
   "cell_type": "code",
   "execution_count": 54,
   "metadata": {},
   "outputs": [
    {
     "name": "stdout",
     "output_type": "stream",
     "text": [
      "Review-1 : \n",
      " I used to grow my own garden of Collard Greens, and ate them regularly.  Since I travel more now, I just buy them cooked in cans.  I've tried Glory Collard Greens and a few others, and these have to be the best for the price with subscribe and save.  Yes, they do contain sodium (under 1200mg for the entire can) but that's pretty much typical of canned foods anymore, especially if you're looking at pre-seasoned products.  Regardless, these greens are  D-licious, and compliment almost any meal without any effort.\n",
      "\n",
      "Review-2 : \n",
      " I will order from here again; love these beans; mom lives in texas and cannot find these where I live now. so this made it easy for me.\n",
      "\n",
      "Review-3 : \n",
      " The product was really good and arrived fairly quickly. The kicker was, the sample they sent as a \"Thank you\" was even better than the original product I purchased. They'll be hearing from me again.\n",
      "\n"
     ]
    }
   ],
   "source": [
    "# Three Reviews of cluster 4\n",
    "count=1\n",
    "for i in range(3):\n",
    "    print('Review-%d : \\n %s\\n'%(count,cluster4[i]))\n",
    "    count +=1"
   ]
  },
  {
   "cell_type": "markdown",
   "metadata": {},
   "source": [
    "# (3.b) K-Medoids Implementation"
   ]
  },
  {
   "cell_type": "code",
   "execution_count": 55,
   "metadata": {},
   "outputs": [
    {
     "name": "stdout",
     "output_type": "stream",
     "text": [
      "No. of reviews in Cluster-1 :  1189\n",
      "\n",
      "No. of reviews in Cluster-2 :  1055\n",
      "\n",
      "No. of reviews in Cluster-3 :  918\n",
      "\n",
      "No. of reviews in Cluster-4 :  838\n"
     ]
    }
   ],
   "source": [
    "data1 = data[0:4000]\n",
    "# distance matrix\n",
    "D = pairwise_distances(data1, metric='euclidean')\n",
    "\n",
    "# split into optimal value of  clusters\n",
    "M, C = kmedoids.kMedoids(D, optimal_k)\n",
    "\n",
    "# Getting the reviews in all clusters\n",
    "cluster1 = []\n",
    "cluster2 = []\n",
    "cluster3 = []\n",
    "cluster4 = []\n",
    "\n",
    "for label in C:\n",
    "    for point_idx in C[label]:\n",
    "        if label == 0 :\n",
    "            cluster1.append(reviews[point_idx])\n",
    "        elif label == 1:\n",
    "            cluster2.append(reviews[point_idx])\n",
    "        elif label == 2:\n",
    "            cluster3.append(reviews[point_idx])\n",
    "        else :\n",
    "            cluster4.append(reviews[point_idx])\n",
    "            \n",
    "# Number of reviews in different clusters\n",
    "print(\"No. of reviews in Cluster-1 : \",len(cluster1))\n",
    "print(\"\\nNo. of reviews in Cluster-2 : \",len(cluster2))\n",
    "print(\"\\nNo. of reviews in Cluster-3 : \",len(cluster3))\n",
    "print(\"\\nNo. of reviews in Cluster-4 : \",len(cluster4))"
   ]
  },
  {
   "cell_type": "markdown",
   "metadata": {},
   "source": [
    "READING REVIEWS MANUALLY :"
   ]
  },
  {
   "cell_type": "code",
   "execution_count": 56,
   "metadata": {},
   "outputs": [
    {
     "name": "stdout",
     "output_type": "stream",
     "text": [
      "Review-1 : \n",
      " Love this stuff...great flavor....you can't get more authentic Mexican. Don't hesitate to purchase...you'll love it!\n",
      "\n",
      "Review-2 : \n",
      " I used to grow my own garden of Collard Greens, and ate them regularly.  Since I travel more now, I just buy them cooked in cans.  I've tried Glory Collard Greens and a few others, and these have to be the best for the price with subscribe and save.  Yes, they do contain sodium (under 1200mg for the entire can) but that's pretty much typical of canned foods anymore, especially if you're looking at pre-seasoned products.  Regardless, these greens are  D-licious, and compliment almost any meal without any effort.\n",
      "\n",
      "Review-3 : \n",
      " I will order from here again; love these beans; mom lives in texas and cannot find these where I live now. so this made it easy for me.\n",
      "\n"
     ]
    }
   ],
   "source": [
    "# Three Reviews of cluster 1\n",
    "count=1\n",
    "for i in range(3):\n",
    "    print('Review-%d : \\n %s\\n'%(count,cluster1[i]))\n",
    "    count +=1"
   ]
  },
  {
   "cell_type": "code",
   "execution_count": 57,
   "metadata": {},
   "outputs": [
    {
     "name": "stdout",
     "output_type": "stream",
     "text": [
      "Review-1 : \n",
      " this is a good as it gets next to starbucks and since it is in your own home, it is even better!\n",
      "\n",
      "Review-2 : \n",
      " I love fruit-flavored coffees, especially blueberry. I also like darker roasts, and unfortunately, fruit flavors often have to be light roasts for the flavor to come through. This brand pulls off the \"Blueberry Muffin\" taste very well, while still being a medium roast that hasn't lost it's coffee-ness. I'm impressed!\n",
      "\n",
      "Review-3 : \n",
      " The first sip of Izze's sparkling apple juice was a bit of a shock, albeit a pleasant one.  It was bright and crisp, with an unexpectedly clear bite from the carbonation.  Tart enough that it really was a bit like taking a chunk out of a fresh Granny Smith.  Granted, some of this tartness comes from the other juices used in its creation, including but not necessarily limited to lemon and white grape.  Nonetheless, the flavor profile is all apple, and what's left (to borrow Izze's own tag line) is a \"naturally delightful\" and wholly refreshing vitamin-enriched (C, B6, and Niacin) beverage, delivered in a 8.4 fluid ounce slim can.<br /><br />We were impressed enough with the apple, that we went out and picked up bottles of blueberry, clementine, and peach.  Each provided similarly terrific tastes and experiences, although we did feel that the tartness that added to the apple juice 'realism' somewhat translated to less purely-blueberry (for example) profiles for some of the other flavors.  Nonetheless, we loved them all.<br /><br />Everyone's going to have different palettes and desires, but for a household that doesn't consume soft drinks, we found these to be a tasty and welcome diversion and alternative from our normal fare.  Izze has a new group of fans, and we're looking forward to trying more flavors.  Apple, at the very least, is going to be a staple around here.\n",
      "\n"
     ]
    }
   ],
   "source": [
    "# Three Reviews of cluster 2\n",
    "count=1\n",
    "for i in range(3):\n",
    "    print('Review-%d : \\n %s\\n'%(count,cluster2[i]))\n",
    "    count +=1"
   ]
  },
  {
   "cell_type": "code",
   "execution_count": 58,
   "metadata": {},
   "outputs": [
    {
     "name": "stdout",
     "output_type": "stream",
     "text": [
      "Review-1 : \n",
      " I have three cats, all with specific dietary needs. Evo is the only food that meets all their requirements (except the calories - unless I get the reduced calorie). My vet also recommends that I give my one cat we food so that she has more water in her diet (she develops stones in her bladder). The only problem is that she will not touch wet food since I have given her dry her entire life. I was shocked when she actually preferred the wet over the dry! This is what I have been feeding them since I found it. They are active and healthy. No new stones in over a year in my one cat too!!\n",
      "\n",
      "Review-2 : \n",
      " This is my first 1 star review.....I can't believe I'm writing it.<br /><br />I wanted to like this bar.  But I couldn't. The texture of the bar is repulsive and there's very little real flavor.  The idea of an organic strawberry bar really appealed to me.  Until I took a big ol' bite of this bar...can you say gag reflex?<br /><br />Organic foods can taste good....this one doesn't. Pass on the ProBar Fruition.\n",
      "\n",
      "Review-3 : \n",
      " I love the sweet potato fries so when i seen these figured i'd give them a try. they are so yummy! Will be buying them again. So much more healthier than regular chips, i'll never go back!\n",
      "\n"
     ]
    }
   ],
   "source": [
    "# Three Reviews of cluster 3\n",
    "count=1\n",
    "for i in range(3):\n",
    "    print('Review-%d : \\n %s\\n'%(count,cluster3[i]))\n",
    "    count +=1"
   ]
  },
  {
   "cell_type": "code",
   "execution_count": 59,
   "metadata": {},
   "outputs": [
    {
     "name": "stdout",
     "output_type": "stream",
     "text": [
      "Review-1 : \n",
      " Good sack o' nuts with a nice twist of cocoa. Wish it was more 'clustery' but eh. Nice snack throughout the day.\n",
      "\n",
      "Review-2 : \n",
      " this is very tasty popcorn and is great for smaller children because it pops with almost no shell left over.\n",
      "\n",
      "Review-3 : \n",
      " This sunflower seed butter has a nice roasted taste & is very creamy.  The consistency is actually runny compared to peanut butter.  I just pour it out of the jar, but it is still thick.  I've never eaten it like a \"peanut\" butter & jelly sandwich, I usually mix it into yogurt with fruit.  It also makes a good fruit dip if mixed with equal parts of coconut oil, a little cocoa, & a little honey.  If you freeze the dip in mini muffin papers, it becomes \"candy\".  All in all, very tasty & no additives.\n",
      "\n"
     ]
    }
   ],
   "source": [
    "# Three Reviews of cluster 4\n",
    "count=1\n",
    "for i in range(3):\n",
    "    print('Review-%d : \\n %s\\n'%(count,cluster4[i]))\n",
    "    count +=1"
   ]
  },
  {
   "cell_type": "markdown",
   "metadata": {},
   "source": [
    "# (4). TFIDF-Word2Vec"
   ]
  },
  {
   "cell_type": "code",
   "execution_count": 60,
   "metadata": {},
   "outputs": [],
   "source": [
    "# TF-IDF weighted Word2Vec\n",
    "tf_idf_vect = TfidfVectorizer()\n",
    "\n",
    "# final_tf_idf1 is the sparse matrix with row= sentence, col=word and cell_val = tfidf\n",
    "final_tf_idf1 = tf_idf_vect.fit_transform(x)\n",
    "\n",
    "# tfidf words/col-names\n",
    "tfidf_feat = tf_idf_vect.get_feature_names()\n",
    "\n",
    "# compute TFIDF Weighted Word2Vec for each review for sent_x .\n",
    "tfidf_vectors = []; \n",
    "row=0;\n",
    "for sent in sent_x: \n",
    "    sent_vec = np.zeros(50) \n",
    "    weight_sum =0; \n",
    "    for word in sent: \n",
    "        if word in w2v_words:\n",
    "            vec = w2v_model.wv[word]\n",
    "            # obtain the tf_idfidf of a word in a sentence/review\n",
    "            tf_idf = final_tf_idf1[row, tfidf_feat.index(word)]\n",
    "            sent_vec += (vec * tf_idf)\n",
    "            weight_sum += tf_idf\n",
    "    if weight_sum != 0:\n",
    "        sent_vec /= weight_sum\n",
    "    tfidf_vectors.append(sent_vec)\n",
    "    row += 1 \n",
    "    \n",
    "data = tfidf_vectors    "
   ]
  },
  {
   "cell_type": "markdown",
   "metadata": {},
   "source": [
    "# (4.a). K-Means++ Implementation"
   ]
  },
  {
   "cell_type": "code",
   "execution_count": 61,
   "metadata": {},
   "outputs": [],
   "source": [
    "k_values = [2,3,4,5,6,7,8,9,10]\n",
    "loss = []\n",
    "for i in k_values:\n",
    "    kmeans = KMeans(n_clusters=i, n_jobs=-1).fit(data)\n",
    "    loss.append(kmeans.inertia_)"
   ]
  },
  {
   "cell_type": "markdown",
   "metadata": {},
   "source": [
    "ELBOW METHOD :"
   ]
  },
  {
   "cell_type": "code",
   "execution_count": 62,
   "metadata": {},
   "outputs": [
    {
     "data": {
      "image/png": "[encoded data removed]",
      "text/plain": [
       "<Figure size 432x288 with 1 Axes>"
      ]
     },
     "metadata": {},
     "output_type": "display_data"
    }
   ],
   "source": [
    "# Draw Loss VS K values plot\n",
    "plt.plot(k_values, loss)\n",
    "plt.xlabel('K-values',size=14)\n",
    "plt.ylabel('Loss',size=14)\n",
    "plt.title('Loss VS K-values Plot\\n',size=18)\n",
    "plt.grid()\n",
    "plt.show()"
   ]
  },
  {
   "cell_type": "markdown",
   "metadata": {},
   "source": [
    "OBSERVATION :- From above we can see that there is inflection at K = 4 . Befor it loss was decreasing faster as compared to the loss decreasing after it . So , the best value of K is 4."
   ]
  },
  {
   "cell_type": "code",
   "execution_count": 63,
   "metadata": {},
   "outputs": [
    {
     "name": "stdout",
     "output_type": "stream",
     "text": [
      "No. of reviews in Cluster-1 :  5383\n",
      "\n",
      "No. of reviews in Cluster-2 :  4095\n",
      "\n",
      "No. of reviews in Cluster-3 :  13209\n",
      "\n",
      "No. of reviews in Cluster-4 :  17313\n"
     ]
    }
   ],
   "source": [
    "optimal_k = 4\n",
    "# Variable that will be used in the conclusion \n",
    "tfidf_w2v_means_k = optimal_k\n",
    "\n",
    "# Implementing K-Means++ using optimal value of K\n",
    "kmeans = KMeans(n_clusters=optimal_k, n_jobs=-1).fit(data)\n",
    "\n",
    "# Getting all the reviews in different clusters\n",
    "cluster1 = []\n",
    "cluster2 = []\n",
    "cluster3 = []\n",
    "cluster4 = []\n",
    "\n",
    "for i in range(kmeans.labels_.shape[0]):\n",
    "    if kmeans.labels_[i] == 0:\n",
    "        cluster1.append(reviews[i])\n",
    "    elif kmeans.labels_[i] == 1:\n",
    "        cluster2.append(reviews[i])\n",
    "    elif kmeans.labels_[i] == 2:\n",
    "        cluster3.append(reviews[i])\n",
    "    else :\n",
    "        cluster4.append(reviews[i]) \n",
    "        \n",
    "# Number of reviews in different clusters\n",
    "print(\"No. of reviews in Cluster-1 : \",len(cluster1))\n",
    "print(\"\\nNo. of reviews in Cluster-2 : \",len(cluster2))\n",
    "print(\"\\nNo. of reviews in Cluster-3 : \",len(cluster3))\n",
    "print(\"\\nNo. of reviews in Cluster-4 : \",len(cluster4))"
   ]
  },
  {
   "cell_type": "markdown",
   "metadata": {},
   "source": [
    "READING REVIEWS MANUALLY :"
   ]
  },
  {
   "cell_type": "code",
   "execution_count": 64,
   "metadata": {},
   "outputs": [
    {
     "name": "stdout",
     "output_type": "stream",
     "text": [
      "Review-1 : \n",
      " This is really terrible tasting coffee.  I love Van Houttes vanilla, and Green Mountain Caramel Vanilla, so I thought I'd try this.  It's terrible.  Now I have a bunch that I'm going to have to get rid of somehow.  Yuck.\n",
      "\n",
      "Review-2 : \n",
      " I had searched for years for a decaf coffee that kept the wonderful flavor of a full-bodied coffee. I finally found it when I tried the Newman's Own Decaf! Great taste, great company, happy customer!\n",
      "\n",
      "Review-3 : \n",
      " While this tea is good, its name promised more than the flavor delivered, at least the way I prepared it (steeped as a black tea). I only use a teaspoon of Splenda and no milk in my tea. If you use milk you may enjoy the tea more than I. At any rate, the tea was disappointing to me.<br /><br />Stash's chocolate hazelnut is more satisfying if it's chocolate one craves.<br /><br />While this tea was below my expectations, Talbott's Chelsea Morning Blend exceeded my hopes!\n",
      "\n"
     ]
    }
   ],
   "source": [
    "# Three Reviews of cluster 1\n",
    "count=1\n",
    "for i in range(3):\n",
    "    print('Review-%d : \\n %s\\n'%(count,cluster1[i]))\n",
    "    count +=1"
   ]
  },
  {
   "cell_type": "code",
   "execution_count": 65,
   "metadata": {},
   "outputs": [
    {
     "name": "stdout",
     "output_type": "stream",
     "text": [
      "Review-1 : \n",
      " I have three cats, all with specific dietary needs. Evo is the only food that meets all their requirements (except the calories - unless I get the reduced calorie). My vet also recommends that I give my one cat we food so that she has more water in her diet (she develops stones in her bladder). The only problem is that she will not touch wet food since I have given her dry her entire life. I was shocked when she actually preferred the wet over the dry! This is what I have been feeding them since I found it. They are active and healthy. No new stones in over a year in my one cat too!!\n",
      "\n",
      "Review-2 : \n",
      " These are the absolute best things I have bought for my dog! We got them when she was a puppy and it was a savior. I really feel it got her need to chew on things out and not on shoes, table legs, etc.  It is also a good babysitter! When we had our dog as a puppy and at night we would want to sit down and chill out at night but she would be ready to go so we give her one of these and she would sit there for at least 2 hours chewing away.  Merrick is an excellent company with quality products that I am confident using.  I give my dog one of these every couple days, that is how long it takes her to go through one.\n",
      "\n",
      "Review-3 : \n",
      " It took him a few days, but Roofus the Cat came around to having this new type of food in his dish. He still has a problem with eating too fast from time to time, which leads to cat vomit on the floor, but that has little to nothing to do with the food itself. For help cleaning up cat puke, check my other reviews for paper towel recommendations.<br /><br />I think I'm likely to keep buying this brand. The details on the package (what's inside, how much to use, how to transition a cat to this food, etc.) are very understandable and informative. A lower cost would be nice, but oh well.\n",
      "\n"
     ]
    }
   ],
   "source": [
    "# Three Reviews of cluster 2\n",
    "count=1\n",
    "for i in range(3):\n",
    "    print('Review-%d : \\n %s\\n'%(count,cluster2[i]))\n",
    "    count +=1"
   ]
  },
  {
   "cell_type": "code",
   "execution_count": 66,
   "metadata": {},
   "outputs": [
    {
     "name": "stdout",
     "output_type": "stream",
     "text": [
      "Review-1 : \n",
      " I used to grow my own garden of Collard Greens, and ate them regularly.  Since I travel more now, I just buy them cooked in cans.  I've tried Glory Collard Greens and a few others, and these have to be the best for the price with subscribe and save.  Yes, they do contain sodium (under 1200mg for the entire can) but that's pretty much typical of canned foods anymore, especially if you're looking at pre-seasoned products.  Regardless, these greens are  D-licious, and compliment almost any meal without any effort.\n",
      "\n",
      "Review-2 : \n",
      " I will order from here again; love these beans; mom lives in texas and cannot find these where I live now. so this made it easy for me.\n",
      "\n",
      "Review-3 : \n",
      " The product was really good and arrived fairly quickly. The kicker was, the sample they sent as a \"Thank you\" was even better than the original product I purchased. They'll be hearing from me again.\n",
      "\n"
     ]
    }
   ],
   "source": [
    "# Three Reviews of cluster 3\n",
    "count=1\n",
    "for i in range(3):\n",
    "    print('Review-%d : \\n %s\\n'%(count,cluster3[i]))\n",
    "    count +=1"
   ]
  },
  {
   "cell_type": "code",
   "execution_count": 67,
   "metadata": {},
   "outputs": [
    {
     "name": "stdout",
     "output_type": "stream",
     "text": [
      "Review-1 : \n",
      " Love this stuff...great flavor....you can't get more authentic Mexican. Don't hesitate to purchase...you'll love it!\n",
      "\n",
      "Review-2 : \n",
      " Good sack o' nuts with a nice twist of cocoa. Wish it was more 'clustery' but eh. Nice snack throughout the day.\n",
      "\n",
      "Review-3 : \n",
      " this is very tasty popcorn and is great for smaller children because it pops with almost no shell left over.\n",
      "\n"
     ]
    }
   ],
   "source": [
    "# Three Reviews of cluster 4\n",
    "count=1\n",
    "for i in range(3):\n",
    "    print('Review-%d : \\n %s\\n'%(count,cluster4[i]))\n",
    "    count +=1"
   ]
  },
  {
   "cell_type": "markdown",
   "metadata": {},
   "source": [
    "# (4.b) K-Medoids Implementation"
   ]
  },
  {
   "cell_type": "code",
   "execution_count": 68,
   "metadata": {},
   "outputs": [
    {
     "name": "stdout",
     "output_type": "stream",
     "text": [
      "No. of reviews in Cluster-1 :  967\n",
      "\n",
      "No. of reviews in Cluster-2 :  354\n",
      "\n",
      "No. of reviews in Cluster-3 :  1546\n",
      "\n",
      "No. of reviews in Cluster-4 :  1133\n"
     ]
    }
   ],
   "source": [
    "data1 = data[0:4000]\n",
    "# distance matrix\n",
    "D = pairwise_distances(data1, metric='euclidean')\n",
    "\n",
    "# split into optimal value of  clusters\n",
    "M, C = kmedoids.kMedoids(D, optimal_k)\n",
    "\n",
    "# Getting the reviews in all clusters\n",
    "cluster1 = []\n",
    "cluster2 = []\n",
    "cluster3 = []\n",
    "cluster4 = []\n",
    "\n",
    "for label in C:\n",
    "    for point_idx in C[label]:\n",
    "        if label == 0 :\n",
    "            cluster1.append(reviews[point_idx])\n",
    "        elif label == 1:\n",
    "            cluster2.append(reviews[point_idx])\n",
    "        elif label == 2:\n",
    "            cluster3.append(reviews[point_idx])\n",
    "        else :\n",
    "            cluster4.append(reviews[point_idx])\n",
    "            \n",
    "# Number of reviews in different clusters\n",
    "print(\"No. of reviews in Cluster-1 : \",len(cluster1))\n",
    "print(\"\\nNo. of reviews in Cluster-2 : \",len(cluster2))\n",
    "print(\"\\nNo. of reviews in Cluster-3 : \",len(cluster3))\n",
    "print(\"\\nNo. of reviews in Cluster-4 : \",len(cluster4))"
   ]
  },
  {
   "cell_type": "markdown",
   "metadata": {},
   "source": [
    "READING REVIEWS MANUALLY :"
   ]
  },
  {
   "cell_type": "code",
   "execution_count": 69,
   "metadata": {},
   "outputs": [
    {
     "name": "stdout",
     "output_type": "stream",
     "text": [
      "Review-1 : \n",
      " I will order from here again; love these beans; mom lives in texas and cannot find these where I live now. so this made it easy for me.\n",
      "\n",
      "Review-2 : \n",
      " The product was really good and arrived fairly quickly. The kicker was, the sample they sent as a \"Thank you\" was even better than the original product I purchased. They'll be hearing from me again.\n",
      "\n",
      "Review-3 : \n",
      " this is a good as it gets next to starbucks and since it is in your own home, it is even better!\n",
      "\n"
     ]
    }
   ],
   "source": [
    "# Three Reviews of cluster 1\n",
    "count=1\n",
    "for i in range(3):\n",
    "    print('Review-%d : \\n %s\\n'%(count,cluster1[i]))\n",
    "    count +=1"
   ]
  },
  {
   "cell_type": "code",
   "execution_count": 70,
   "metadata": {},
   "outputs": [
    {
     "name": "stdout",
     "output_type": "stream",
     "text": [
      "Review-1 : \n",
      " I love fruit-flavored coffees, especially blueberry. I also like darker roasts, and unfortunately, fruit flavors often have to be light roasts for the flavor to come through. This brand pulls off the \"Blueberry Muffin\" taste very well, while still being a medium roast that hasn't lost it's coffee-ness. I'm impressed!\n",
      "\n",
      "Review-2 : \n",
      " I had searched for years for a decaf coffee that kept the wonderful flavor of a full-bodied coffee. I finally found it when I tried the Newman's Own Decaf! Great taste, great company, happy customer!\n",
      "\n",
      "Review-3 : \n",
      " While this tea is good, its name promised more than the flavor delivered, at least the way I prepared it (steeped as a black tea). I only use a teaspoon of Splenda and no milk in my tea. If you use milk you may enjoy the tea more than I. At any rate, the tea was disappointing to me.<br /><br />Stash's chocolate hazelnut is more satisfying if it's chocolate one craves.<br /><br />While this tea was below my expectations, Talbott's Chelsea Morning Blend exceeded my hopes!\n",
      "\n"
     ]
    }
   ],
   "source": [
    "# Three Reviews of cluster 2\n",
    "count=1\n",
    "for i in range(3):\n",
    "    print('Review-%d : \\n %s\\n'%(count,cluster2[i]))\n",
    "    count +=1"
   ]
  },
  {
   "cell_type": "code",
   "execution_count": 71,
   "metadata": {},
   "outputs": [
    {
     "name": "stdout",
     "output_type": "stream",
     "text": [
      "Review-1 : \n",
      " I have three cats, all with specific dietary needs. Evo is the only food that meets all their requirements (except the calories - unless I get the reduced calorie). My vet also recommends that I give my one cat we food so that she has more water in her diet (she develops stones in her bladder). The only problem is that she will not touch wet food since I have given her dry her entire life. I was shocked when she actually preferred the wet over the dry! This is what I have been feeding them since I found it. They are active and healthy. No new stones in over a year in my one cat too!!\n",
      "\n",
      "Review-2 : \n",
      " Love this stuff...great flavor....you can't get more authentic Mexican. Don't hesitate to purchase...you'll love it!\n",
      "\n",
      "Review-3 : \n",
      " I used to grow my own garden of Collard Greens, and ate them regularly.  Since I travel more now, I just buy them cooked in cans.  I've tried Glory Collard Greens and a few others, and these have to be the best for the price with subscribe and save.  Yes, they do contain sodium (under 1200mg for the entire can) but that's pretty much typical of canned foods anymore, especially if you're looking at pre-seasoned products.  Regardless, these greens are  D-licious, and compliment almost any meal without any effort.\n",
      "\n"
     ]
    }
   ],
   "source": [
    "# Three Reviews of cluster 3\n",
    "count=1\n",
    "for i in range(3):\n",
    "    print('Review-%d : \\n %s\\n'%(count,cluster3[i]))\n",
    "    count +=1"
   ]
  },
  {
   "cell_type": "code",
   "execution_count": 72,
   "metadata": {},
   "outputs": [
    {
     "name": "stdout",
     "output_type": "stream",
     "text": [
      "Review-1 : \n",
      " Good sack o' nuts with a nice twist of cocoa. Wish it was more 'clustery' but eh. Nice snack throughout the day.\n",
      "\n",
      "Review-2 : \n",
      " this is very tasty popcorn and is great for smaller children because it pops with almost no shell left over.\n",
      "\n",
      "Review-3 : \n",
      " I love the sweet potato fries so when i seen these figured i'd give them a try. they are so yummy! Will be buying them again. So much more healthier than regular chips, i'll never go back!\n",
      "\n"
     ]
    }
   ],
   "source": [
    "# Three Reviews of cluster 4\n",
    "count=1\n",
    "for i in range(3):\n",
    "    print('Review-%d : \\n %s\\n'%(count,cluster4[i]))\n",
    "    count +=1"
   ]
  },
  {
   "cell_type": "markdown",
   "metadata": {},
   "source": [
    "# CONCLUSION :-"
   ]
  },
  {
   "cell_type": "markdown",
   "metadata": {},
   "source": [
    "# (a). Procedure Followed :"
   ]
  },
  {
   "cell_type": "markdown",
   "metadata": {},
   "source": [
    "STEP 1 :- Text Preprocessing"
   ]
  },
  {
   "cell_type": "markdown",
   "metadata": {},
   "source": [
    "STEP 2 :- Taking all text data and ignoring class variable ."
   ]
  },
  {
   "cell_type": "markdown",
   "metadata": {},
   "source": [
    "STEP 3:- Training the vectorizer on text_data and later applying same vectorizer on text_data to transform it into vectors"
   ]
  },
  {
   "cell_type": "markdown",
   "metadata": {},
   "source": [
    "STEP 4:- Applying Elbow Method using K-means++ in order to find optimal value of K(i.e. number of clusters)"
   ]
  },
  {
   "cell_type": "markdown",
   "metadata": {},
   "source": [
    "STEP 5:- Draw loss VS K-values plot"
   ]
  },
  {
   "cell_type": "markdown",
   "metadata": {},
   "source": [
    "STEP 6:- Once we find optimal value of K then again train K-Means++ and K-medoids for clustering text_data into K clusters ."
   ]
  },
  {
   "cell_type": "markdown",
   "metadata": {},
   "source": [
    "STEP 7:- Reading reviews manually for each cluster"
   ]
  },
  {
   "cell_type": "markdown",
   "metadata": {},
   "source": [
    "Repeat from STEP 3 to STEP 7 for each of these four vectorizers : Bag Of Words(BoW), TFIDF, Avg Word2Vec and TFIDF Word2Vec"
   ]
  },
  {
   "cell_type": "markdown",
   "metadata": {},
   "source": [
    "# (b). Table (Model with their K values) :"
   ]
  },
  {
   "cell_type": "code",
   "execution_count": 73,
   "metadata": {},
   "outputs": [
    {
     "name": "stdout",
     "output_type": "stream",
     "text": [
      "+-------+------------------------------+---------------------+\n",
      "| S.NO. |            MODEL             | Number of Clusters  |\n",
      "+-------+------------------------------+---------------------+\n",
      "|   1   |      K-means++ for BoW       |          5          |\n",
      "|   2   |      K-medoids for BoW       |          5          |\n",
      "|   3   |     K-means++ for TFIDF      |          4          |\n",
      "|   4   |     K-medoids for TFIDF      |          4          |\n",
      "|   5   |  K-means++ for Avg_Word2Vec  |          4          |\n",
      "|   6   |  K-medoids for Avg_Word2Vec  |          4          |\n",
      "|   7   | K-means++ for tfidf_Word2Vec |          4          |\n",
      "|   8   | K-medoids for tfidf_Word2Vec |          4          |\n",
      "+-------+------------------------------+---------------------+\n"
     ]
    }
   ],
   "source": [
    "# Creating table using PrettyTable library\n",
    "from prettytable import PrettyTable\n",
    "\n",
    "names = ['K-means++ for BoW','K-medoids for BoW','K-means++ for TFIDF','K-medoids for TFIDF','K-means++ for Avg_Word2Vec',\\\n",
    "         'K-medoids for Avg_Word2Vec','K-means++ for tfidf_Word2Vec','K-medoids for tfidf_Word2Vec']\n",
    "\n",
    "optimal_k = [bow_means_k,bow_means_k,tfidf_means_k,tfidf_means_k,\\\n",
    "             avg_w2v_means_k,avg_w2v_means_k,tfidf_w2v_means_k,tfidf_w2v_means_k]\n",
    "\n",
    "numbering = [1,2,3,4,5,6,7,8]\n",
    "\n",
    "# Initializing prettytable\n",
    "table = PrettyTable()\n",
    "\n",
    "# Adding columns\n",
    "table.add_column(\"S.NO.\",numbering)\n",
    "table.add_column(\"MODEL\",names)\n",
    "table.add_column(\"Number of Clusters \",optimal_k)\n",
    "\n",
    "# Printing the Table\n",
    "print(table)"
   ]
  },
  {
   "cell_type": "code",
   "execution_count": null,
   "metadata": {},
   "outputs": [],
   "source": []
  }
 ],
 "metadata": {
  "kernelspec": {
   "display_name": "Python 3",
   "language": "python",
   "name": "python3"
  },
  "language_info": {
   "codemirror_mode": {
    "name": "ipython",
    "version": 3
   },
   "file_extension": ".py",
   "mimetype": "text/x-python",
   "name": "python",
   "nbconvert_exporter": "python",
   "pygments_lexer": "ipython3",
   "version": "3.6.5"
  }
 },
 "nbformat": 4,
 "nbformat_minor": 2
}
